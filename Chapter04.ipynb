{
 "cells": [
  {
   "cell_type": "markdown",
   "id": "e6cfd03a",
   "metadata": {},
   "source": [
    "# Chapter 4. Sequence annotation objects\n",
    "\n",
    "Chapter 3 introduced the sequence classes. Immediately “above” the Seq class is the Sequence Record or SeqRecord class, defined in the Bio.SeqRecord module. This class allows higher level features such as identifiers and features (as SeqFeature objects) to be associated with the sequence, and is used throughout the sequence input/output interface Bio.SeqIO described fully in Chapter 5.\n",
    "\n",
    "While this chapter should cover most things to do with the SeqRecord and SeqFeature objects in this chapter, you may also want to read the SeqRecord wiki page (http://biopython.org/wiki/SeqRecord), and the built in documentation (also online – SeqRecord and SeqFeature):\n",
    "```\n",
    "from Bio.SeqRecord import SeqRecord\n",
    "help(SeqRecord)\n",
    "```\n"
   ]
  },
  {
   "cell_type": "markdown",
   "id": "9384ddef",
   "metadata": {
    "id": "qiljDuDKqRWf"
   },
   "source": [
    "## 4.2 Creating a SeqRecord\n",
    "### 4.2.1 SeqRecord objects from scratch"
   ]
  },
  {
   "cell_type": "code",
   "execution_count": null,
   "id": "55b95c55",
   "metadata": {
    "id": "friY04yRqsMA"
   },
   "outputs": [],
   "source": [
    "from Bio.Seq import Seq\n",
    "simple_seq = Seq(\"GATC\")\n",
    "from Bio.SeqRecord import SeqRecord\n",
    "simple_seq_r = SeqRecord(simple_seq)"
   ]
  },
  {
   "cell_type": "markdown",
   "id": "d4a7cc40",
   "metadata": {
    "id": "caz_vd5bq12W"
   },
   "source": [
    "Additionally, you can also pass the id, name and description to the initialization function, but if not they will be set as strings indicating they are unknown, and can be modified subsequently:"
   ]
  },
  {
   "cell_type": "code",
   "execution_count": null,
   "id": "56baf7ad",
   "metadata": {
    "colab": {
     "base_uri": "https://localhost:8080/"
    },
    "id": "SDCI24yBqsEZ",
    "outputId": "d9e6db64-6c18-43e2-a985-f84dd64969ee"
   },
   "outputs": [
    {
     "name": "stdout",
     "output_type": "stream",
     "text": [
      "Made up sequence I wish I could write a paper about\n"
     ]
    },
    {
     "data": {
      "text/plain": [
       "Seq('GATC')"
      ]
     },
     "execution_count": 264,
     "metadata": {},
     "output_type": "execute_result"
    }
   ],
   "source": [
    "simple_seq_r.id\n",
    "simple_seq_r.id = \"AC12345\"\n",
    "simple_seq_r.description = \"Made up sequence I wish I could write a paper about\"\n",
    "print(simple_seq_r.description)\n",
    "simple_seq_r.seq"
   ]
  },
  {
   "cell_type": "markdown",
   "id": "079b675b",
   "metadata": {
    "id": "QMxtPFl7q-3g"
   },
   "source": [
    "Including an identifier is very important if you want to output your SeqRecord to a file. You would normally include this when creating the object:"
   ]
  },
  {
   "cell_type": "code",
   "execution_count": null,
   "id": "ecbdd5dc",
   "metadata": {
    "id": "HXQGB10mqrqq"
   },
   "outputs": [],
   "source": [
    "from Bio.Seq import Seq\n",
    "simple_seq = Seq(\"GATC\")\n",
    "from Bio.SeqRecord import SeqRecord\n",
    "simple_seq_r = SeqRecord(simple_seq, id=\"AC12345\")"
   ]
  },
  {
   "cell_type": "markdown",
   "id": "aad0328c",
   "metadata": {
    "id": "ihbIwoYBrV3u"
   },
   "source": [
    "As mentioned above, the SeqRecord has an dictionary attribute annotations. This is used for any miscellaneous annotations that doesn’t fit under one of the other more specific attributes. Adding annotations is easy, and just involves dealing directly with the annotation dictionary:"
   ]
  },
  {
   "cell_type": "code",
   "execution_count": null,
   "id": "31a5fccf",
   "metadata": {
    "colab": {
     "base_uri": "https://localhost:8080/"
    },
    "id": "T_VO9N_-rc7I",
    "outputId": "3371b0b0-cb77-4549-c06f-f2926a4257c1"
   },
   "outputs": [
    {
     "name": "stdout",
     "output_type": "stream",
     "text": [
      "{'evidence': 'None. I just made it up.'}\n",
      "None. I just made it up.\n"
     ]
    }
   ],
   "source": [
    "simple_seq_r.annotations[\"evidence\"] = \"None. I just made it up.\"\n",
    "print(simple_seq_r.annotations)\n",
    "print(simple_seq_r.annotations[\"evidence\"])"
   ]
  },
  {
   "cell_type": "markdown",
   "id": "405ef3ac",
   "metadata": {
    "id": "ssWVtsO8rZ9s"
   },
   "source": [
    "Working with per-letter-annotations is similar, letter_annotations is a dictionary like attribute which will let you assign any Python sequence (i.e. a string, list or tuple) which has the same length as the sequence:"
   ]
  },
  {
   "cell_type": "code",
   "execution_count": null,
   "id": "f6d7be84",
   "metadata": {
    "colab": {
     "base_uri": "https://localhost:8080/"
    },
    "id": "35di3nQprjju",
    "outputId": "178772f7-c651-4e5e-d8e0-801edd6163ef"
   },
   "outputs": [
    {
     "name": "stdout",
     "output_type": "stream",
     "text": [
      "{'phred_quality': [40, 40, 38, 30]}\n",
      "[40, 40, 38, 30]\n"
     ]
    }
   ],
   "source": [
    "simple_seq_r.letter_annotations[\"phred_quality\"] = [40, 40, 38, 30]\n",
    "print(simple_seq_r.letter_annotations)\n",
    "print(simple_seq_r.letter_annotations[\"phred_quality\"])"
   ]
  },
  {
   "cell_type": "markdown",
   "id": "b5af05a0",
   "metadata": {
    "id": "CjtM7qKlruLh"
   },
   "source": [
    "### 4.2.2 SeqRecord objects from FASTA files\n",
    "This example uses a fairly large FASTA file containing the whole sequence for Yersinia pestis biovar Microtus\n",
    "str. 91001 plasmid pPCP1, originally downloaded from the NCBI. This file is included with the Biopython\n",
    "unit tests under the GenBank folder, or online [NC_005816.fna](https://raw.githubusercontent.com/biopython/biopython/master/Tests/GenBank/NC_005816.fna) from our website.\n",
    "The file starts like this - and you can check there is only one record present (i.e. only one line starting\n",
    "with a greater than symbol):\n",
    "```\n",
    "gi|45478711|ref|NC_005816.1| Yersinia pestis biovar Microtus ... pPCP1, complete sequence TGTAACGAACGGTGCAATAGTGATCCACACCCAACGCCTGAAATCAGATCCAGGGGGTAATCTGCTCTCC\n",
    "```"
   ]
  },
  {
   "cell_type": "code",
   "execution_count": null,
   "id": "59ee2085",
   "metadata": {
    "colab": {
     "base_uri": "https://localhost:8080/"
    },
    "id": "0NLllBi3r6Jr",
    "outputId": "3f81dc16-d057-46f6-9294-0c681fd673b9"
   },
   "outputs": [
    {
     "data": {
      "text/plain": [
       "SeqRecord(seq=Seq('TGTAACGAACGGTGCAATAGTGATCCACACCCAACGCCTGAAATCAGATCCAGG...CTG'), id='gi|45478711|ref|NC_005816.1|', name='gi|45478711|ref|NC_005816.1|', description='gi|45478711|ref|NC_005816.1| Yersinia pestis biovar Microtus str. 91001 plasmid pPCP1, complete sequence', dbxrefs=[])"
      ]
     },
     "execution_count": 268,
     "metadata": {},
     "output_type": "execute_result"
    }
   ],
   "source": [
    "from Bio import SeqIO\n",
    "record = SeqIO.read(\"NC_005816.fna\", \"fasta\")\n",
    "record"
   ]
  },
  {
   "cell_type": "code",
   "execution_count": null,
   "id": "dd61d12d",
   "metadata": {
    "colab": {
     "base_uri": "https://localhost:8080/"
    },
    "id": "wm8o8rMFr_Bh",
    "outputId": "2b9e514d-75d6-4447-f381-1fdc1885bc0d"
   },
   "outputs": [
    {
     "data": {
      "text/plain": [
       "Seq('TGTAACGAACGGTGCAATAGTGATCCACACCCAACGCCTGAAATCAGATCCAGG...CTG')"
      ]
     },
     "execution_count": 269,
     "metadata": {},
     "output_type": "execute_result"
    }
   ],
   "source": [
    "record.seq"
   ]
  },
  {
   "cell_type": "code",
   "execution_count": null,
   "id": "5a4c3d86",
   "metadata": {
    "colab": {
     "base_uri": "https://localhost:8080/",
     "height": 34
    },
    "id": "h5WIpblOsBOs",
    "outputId": "954579a6-6c73-4ff2-ed75-93ee9bbe7a96"
   },
   "outputs": [
    {
     "data": {
      "application/vnd.google.colaboratory.intrinsic+json": {
       "type": "string"
      },
      "text/plain": [
       "'gi|45478711|ref|NC_005816.1| Yersinia pestis biovar Microtus str. 91001 plasmid pPCP1, complete sequence'"
      ]
     },
     "execution_count": 270,
     "metadata": {},
     "output_type": "execute_result"
    }
   ],
   "source": [
    "record.id\n",
    "record.name\n",
    "record.description"
   ]
  },
  {
   "cell_type": "code",
   "execution_count": null,
   "id": "1290abcb",
   "metadata": {
    "colab": {
     "base_uri": "https://localhost:8080/"
    },
    "id": "K0vOGsFTsGkE",
    "outputId": "11b66e9f-f482-4b39-a7d9-c919dddd6ba4"
   },
   "outputs": [
    {
     "data": {
      "text/plain": [
       "[]"
      ]
     },
     "execution_count": 271,
     "metadata": {},
     "output_type": "execute_result"
    }
   ],
   "source": [
    "record.dbxrefs\n",
    "record.annotations\n",
    "record.letter_annotations\n",
    "record.features"
   ]
  },
  {
   "cell_type": "markdown",
   "id": "1d2cb83e",
   "metadata": {
    "id": "gyJzNWSBP9s7"
   },
   "source": [
    "### 4.2.3 SeqRecord objects from GenBank files\n",
    "As in the previous example, we’re going to look at the whole sequence for Yersinia pestis biovar Microtus str. 91001 plasmid pPCP1, originally downloaded from the NCBI, but this time as a GenBank file. Again, this file is included with the Biopython unit tests under the GenBank folder, or online [NC_005816.gb](https://raw.githubusercontent.com/biopython/biopython/master/Tests/GenBank/NC_005816.gb) from our website."
   ]
  },
  {
   "cell_type": "markdown",
   "id": "2b710a5e",
   "metadata": {
    "id": "je_mmzI6sJs6"
   },
   "source": [
    "## 4.3 Feature, location and position objects"
   ]
  },
  {
   "cell_type": "markdown",
   "id": "5808a796",
   "metadata": {
    "id": "Op219x36sg61"
   },
   "source": [
    "### 4.3.2 Positions and locations"
   ]
  },
  {
   "cell_type": "code",
   "execution_count": null,
   "id": "7a98f629",
   "metadata": {
    "id": "iYtjibGXsJ66"
   },
   "outputs": [],
   "source": [
    "from Bio import SeqFeature\n",
    "start_pos = SeqFeature.AfterPosition(5)\n",
    "end_pos = SeqFeature.BetweenPosition(9, left=8, right=9)\n",
    "my_location = SeqFeature.SimpleLocation(start_pos, end_pos)"
   ]
  },
  {
   "cell_type": "code",
   "execution_count": null,
   "id": "020607ab",
   "metadata": {
    "colab": {
     "base_uri": "https://localhost:8080/"
    },
    "id": "jUqNCG9GslpM",
    "outputId": "3c6090e0-836f-48c5-f6f6-e294f304a367"
   },
   "outputs": [
    {
     "name": "stdout",
     "output_type": "stream",
     "text": [
      "[>5:(8^9)]\n"
     ]
    }
   ],
   "source": [
    "print(my_location)"
   ]
  },
  {
   "cell_type": "code",
   "execution_count": null,
   "id": "382bb48b",
   "metadata": {
    "colab": {
     "base_uri": "https://localhost:8080/"
    },
    "id": "y7ISDPrcsnc5",
    "outputId": "30d6f434-c16a-4611-f506-fd693dcf7d0b"
   },
   "outputs": [
    {
     "name": "stdout",
     "output_type": "stream",
     "text": [
      ">5\n",
      "(8^9)\n"
     ]
    }
   ],
   "source": [
    "my_location.start\n",
    "print(my_location.start)\n",
    "my_location.end\n",
    "print(my_location.end)"
   ]
  },
  {
   "cell_type": "code",
   "execution_count": null,
   "id": "76ab2766",
   "metadata": {
    "colab": {
     "base_uri": "https://localhost:8080/"
    },
    "id": "c2CUSWtysxgI",
    "outputId": "b5167688-6cac-4b33-d2f7-bd34c5ab858e"
   },
   "outputs": [
    {
     "data": {
      "text/plain": [
       "9"
      ]
     },
     "execution_count": 275,
     "metadata": {},
     "output_type": "execute_result"
    }
   ],
   "source": [
    "int(my_location.start)\n",
    "int(my_location.end)"
   ]
  },
  {
   "cell_type": "code",
   "execution_count": null,
   "id": "15ee956a",
   "metadata": {
    "colab": {
     "base_uri": "https://localhost:8080/"
    },
    "id": "2tEA8_8tsx8K",
    "outputId": "9723c240-a11b-4624-cca8-065b08ae0622"
   },
   "outputs": [
    {
     "name": "stdout",
     "output_type": "stream",
     "text": [
      "[5:9]\n"
     ]
    },
    {
     "data": {
      "text/plain": [
       "5"
      ]
     },
     "execution_count": 276,
     "metadata": {},
     "output_type": "execute_result"
    }
   ],
   "source": [
    "exact_location = SeqFeature.SimpleLocation(5, 9)\n",
    "print(exact_location)\n",
    "exact_location.start\n",
    "int(exact_location.start)"
   ]
  },
  {
   "cell_type": "code",
   "execution_count": null,
   "id": "bfd6c5cf",
   "metadata": {
    "colab": {
     "base_uri": "https://localhost:8080/"
    },
    "id": "U5vG20RVs46U",
    "outputId": "409a4e20-cd88-41b0-908d-37ca3e1a8ef4"
   },
   "outputs": [
    {
     "name": "stdout",
     "output_type": "stream",
     "text": [
      "source ['taxon:229193']\n",
      "gene ['GeneID:2767712']\n",
      "CDS ['GI:45478716', 'GeneID:2767712']\n"
     ]
    }
   ],
   "source": [
    "from Bio import SeqIO\n",
    "my_snp = 4350\n",
    "record = SeqIO.read(\"NC_005816.gb\", \"genbank\")\n",
    "for feature in record.features:\n",
    "    if my_snp in feature:\n",
    "        print(\"%s %s\" % (feature.type, feature.qualifiers.get(\"db_xref\")))"
   ]
  },
  {
   "cell_type": "markdown",
   "id": "ccff1192",
   "metadata": {
    "id": "UmV95K8ytIA4"
   },
   "source": [
    "### 4.3.3 Sequence described by a feature or location"
   ]
  },
  {
   "cell_type": "code",
   "execution_count": null,
   "id": "04232615",
   "metadata": {
    "id": "J-htEZmEtN5g"
   },
   "outputs": [],
   "source": [
    "from Bio.Seq import Seq\n",
    "from Bio.SeqFeature import SeqFeature, SimpleLocation\n",
    "seq = Seq(\"ACCGAGACGGCAAAGGCTAGCATAGGTATGAGACTTCCTTCCTGCCAGTGCTGAGGAACTGGGAGCCTAC\")\n",
    "feature = SeqFeature(SimpleLocation(5, 18, strand=-1), type=\"gene\")"
   ]
  },
  {
   "cell_type": "code",
   "execution_count": null,
   "id": "f3cebece",
   "metadata": {
    "colab": {
     "base_uri": "https://localhost:8080/"
    },
    "id": "p7RV3P7ntOO9",
    "outputId": "9468a670-48ba-40b7-e1d4-d7d5971b6290"
   },
   "outputs": [
    {
     "name": "stdout",
     "output_type": "stream",
     "text": [
      "AGCCTTTGCCGTC\n"
     ]
    }
   ],
   "source": [
    "feature_seq = seq[feature.location.start : feature.location.end].reverse_complement()\n",
    "print(feature_seq)"
   ]
  },
  {
   "cell_type": "code",
   "execution_count": null,
   "id": "ef27d6b5",
   "metadata": {
    "colab": {
     "base_uri": "https://localhost:8080/"
    },
    "id": "ESIp6YUTtOF7",
    "outputId": "feeef4f3-d4b4-45c8-944d-a4c861d8dfab"
   },
   "outputs": [
    {
     "name": "stdout",
     "output_type": "stream",
     "text": [
      "AGCCTTTGCCGTC\n"
     ]
    }
   ],
   "source": [
    "feature_seq = feature.extract(seq)\n",
    "print(feature_seq)"
   ]
  },
  {
   "cell_type": "code",
   "execution_count": null,
   "id": "46613dc9",
   "metadata": {
    "colab": {
     "base_uri": "https://localhost:8080/"
    },
    "id": "1FXPIsgXtVub",
    "outputId": "ca27e89d-2079-440d-f4e9-add9a21e0865"
   },
   "outputs": [
    {
     "name": "stdout",
     "output_type": "stream",
     "text": [
      "13\n",
      "13\n",
      "13\n"
     ]
    }
   ],
   "source": [
    "print(len(feature_seq))\n",
    "print(len(feature))\n",
    "print(len(feature.location))"
   ]
  },
  {
   "cell_type": "markdown",
   "id": "ceaf7f58",
   "metadata": {
    "id": "5wipOXM5tevN"
   },
   "source": [
    "## 4.4 Comparison"
   ]
  },
  {
   "cell_type": "code",
   "execution_count": null,
   "id": "91cc26df",
   "metadata": {
    "id": "8Nmcn6uHth-g"
   },
   "outputs": [],
   "source": [
    "from Bio.Seq import Seq\n",
    "from Bio.SeqRecord import SeqRecord\n",
    "record1 = SeqRecord(Seq(\"ACGT\"), id=\"test\")\n",
    "record2 = SeqRecord(Seq(\"ACGT\"), id=\"test\")"
   ]
  },
  {
   "cell_type": "markdown",
   "id": "12d59486",
   "metadata": {
    "id": "nby9-DAIty8z"
   },
   "source": [
    "As of Biopython 1.67, SeqRecord comparison like `record1 == record2` will instead raise an explicit error to avoid people being caught out by this:"
   ]
  },
  {
   "cell_type": "code",
   "execution_count": null,
   "id": "bb0f46e5",
   "metadata": {
    "colab": {
     "base_uri": "https://localhost:8080/",
     "height": 325
    },
    "id": "rNWpTXM6ttDd",
    "outputId": "9ea646d6-e86b-4eb6-f105-8824ffa756bb"
   },
   "outputs": [
    {
     "ename": "NotImplementedError",
     "evalue": "ignored",
     "output_type": "error",
     "traceback": [
      "\u001b[0;31m---------------------------------------------------------------------------\u001b[0m",
      "\u001b[0;31mNotImplementedError\u001b[0m                       Traceback (most recent call last)",
      "\u001b[0;32m<ipython-input-283-6d7a9f1068f6>\u001b[0m in \u001b[0;36m<module>\u001b[0;34m\u001b[0m\n\u001b[0;32m----> 1\u001b[0;31m \u001b[0mrecord1\u001b[0m \u001b[0;34m==\u001b[0m \u001b[0mrecord2\u001b[0m  \u001b[0;31m# NotImplementedError: SeqRecord comparison is deliberately not implemented. Explicitly compare the attributes of interest.\u001b[0m\u001b[0;34m\u001b[0m\u001b[0;34m\u001b[0m\u001b[0m\n\u001b[0m",
      "\u001b[0;32m/usr/local/lib/python3.9/dist-packages/Bio/SeqRecord.py\u001b[0m in \u001b[0;36m__eq__\u001b[0;34m(self, other)\u001b[0m\n\u001b[1;32m    796\u001b[0m     \u001b[0;32mdef\u001b[0m \u001b[0m__eq__\u001b[0m\u001b[0;34m(\u001b[0m\u001b[0mself\u001b[0m\u001b[0;34m,\u001b[0m \u001b[0mother\u001b[0m\u001b[0;34m)\u001b[0m\u001b[0;34m:\u001b[0m\u001b[0;34m\u001b[0m\u001b[0;34m\u001b[0m\u001b[0m\n\u001b[1;32m    797\u001b[0m         \u001b[0;34m\"\"\"Define the equal-to operand (not implemented).\"\"\"\u001b[0m\u001b[0;34m\u001b[0m\u001b[0;34m\u001b[0m\u001b[0m\n\u001b[0;32m--> 798\u001b[0;31m         \u001b[0;32mraise\u001b[0m \u001b[0mNotImplementedError\u001b[0m\u001b[0;34m(\u001b[0m\u001b[0m_NO_SEQRECORD_COMPARISON\u001b[0m\u001b[0;34m)\u001b[0m\u001b[0;34m\u001b[0m\u001b[0;34m\u001b[0m\u001b[0m\n\u001b[0m\u001b[1;32m    799\u001b[0m \u001b[0;34m\u001b[0m\u001b[0m\n\u001b[1;32m    800\u001b[0m     \u001b[0;32mdef\u001b[0m \u001b[0m__ne__\u001b[0m\u001b[0;34m(\u001b[0m\u001b[0mself\u001b[0m\u001b[0;34m,\u001b[0m \u001b[0mother\u001b[0m\u001b[0;34m)\u001b[0m\u001b[0;34m:\u001b[0m\u001b[0;34m\u001b[0m\u001b[0;34m\u001b[0m\u001b[0m\n",
      "\u001b[0;31mNotImplementedError\u001b[0m: SeqRecord comparison is deliberately not implemented. Explicitly compare the attributes of interest."
     ]
    }
   ],
   "source": [
    "record1 == record2  # NotImplementedError: SeqRecord comparison is deliberately not implemented. Explicitly compare the attributes of interest."
   ]
  },
  {
   "cell_type": "markdown",
   "id": "31d80672",
   "metadata": {
    "id": "9c4VANIhuA3D"
   },
   "source": [
    "Instead you should check the attributes you are interested in, for example the identifier and the sequence:"
   ]
  },
  {
   "cell_type": "code",
   "execution_count": null,
   "id": "4544d9f4",
   "metadata": {
    "colab": {
     "base_uri": "https://localhost:8080/"
    },
    "id": "5pLz7CDAuEKZ",
    "outputId": "4a6da05d-bb83-45c5-e03c-804ccf93794d"
   },
   "outputs": [
    {
     "data": {
      "text/plain": [
       "True"
      ]
     },
     "execution_count": 284,
     "metadata": {},
     "output_type": "execute_result"
    }
   ],
   "source": [
    "record1.id == record2.id\n",
    "record1.seq == record2.seq"
   ]
  },
  {
   "cell_type": "markdown",
   "id": "50aaf6c4",
   "metadata": {
    "id": "Mr7ER8DLuI62"
   },
   "source": [
    "## 4.6 The format method"
   ]
  },
  {
   "cell_type": "code",
   "execution_count": null,
   "id": "10171a50",
   "metadata": {
    "colab": {
     "base_uri": "https://localhost:8080/"
    },
    "id": "EfC4d1YJuQE-",
    "outputId": "87fd2cd8-ab69-4501-a80f-a1e3df7d50a2"
   },
   "outputs": [
    {
     "name": "stdout",
     "output_type": "stream",
     "text": [
      ">gi|14150838|gb|AAK54648.1|AF376133_1 chalcone synthase [Cucumis sativus]\n",
      "MMYQQGCFAGGTVLRLAKDLAENNRGARVLVVCSEITAVTFRGPSETHLDSMVGQALFGD\n",
      "GAGAVIVGSDPDLSVERPLYELVWTGATLLPDSEGAIDGHLREVGLTFHLLKDVPGLISK\n",
      "NIEKSLKEAFTPLGISDWNSTFWIAHPGGPAILDQVEAKLGLKEEKMRATREVLSEYGNM\n",
      "SSAC\n",
      "\n"
     ]
    }
   ],
   "source": [
    "from Bio.Seq import Seq\n",
    "from Bio.SeqRecord import SeqRecord\n",
    "record = SeqRecord(\n",
    "    Seq(\n",
    "        \"MMYQQGCFAGGTVLRLAKDLAENNRGARVLVVCSEITAVTFRGPSETHLDSMVGQALFGD\"\n",
    "        \"GAGAVIVGSDPDLSVERPLYELVWTGATLLPDSEGAIDGHLREVGLTFHLLKDVPGLISK\"\n",
    "        \"NIEKSLKEAFTPLGISDWNSTFWIAHPGGPAILDQVEAKLGLKEEKMRATREVLSEYGNM\"\n",
    "        \"SSAC\"\n",
    "    ),\n",
    "    id=\"gi|14150838|gb|AAK54648.1|AF376133_1\",\n",
    "    description=\"chalcone synthase [Cucumis sativus]\",\n",
    ")\n",
    "print(record.format(\"fasta\"))"
   ]
  },
  {
   "cell_type": "markdown",
   "id": "1e552d36",
   "metadata": {
    "id": "uMnT_ZmtuPtC"
   },
   "source": [
    "## 4.7 Slicing a SeqRecord"
   ]
  },
  {
   "cell_type": "code",
   "execution_count": null,
   "id": "1445bfd0",
   "metadata": {
    "colab": {
     "base_uri": "https://localhost:8080/"
    },
    "id": "Uty3UqL-umlf",
    "outputId": "65ce371e-9c7d-4929-909f-4b1b265cf30e"
   },
   "outputs": [
    {
     "data": {
      "text/plain": [
       "SeqRecord(seq=Seq('TGTAACGAACGGTGCAATAGTGATCCACACCCAACGCCTGAAATCAGATCCAGG...CTG'), id='NC_005816.1', name='NC_005816', description='Yersinia pestis biovar Microtus str. 91001 plasmid pPCP1, complete sequence', dbxrefs=['Project:58037'])"
      ]
     },
     "execution_count": 286,
     "metadata": {},
     "output_type": "execute_result"
    }
   ],
   "source": [
    "from Bio import SeqIO\n",
    "record = SeqIO.read(\"NC_005816.gb\", \"genbank\")\n",
    "record"
   ]
  },
  {
   "cell_type": "code",
   "execution_count": null,
   "id": "2aaa44fa",
   "metadata": {
    "colab": {
     "base_uri": "https://localhost:8080/"
    },
    "id": "42Kki749upav",
    "outputId": "ad7a3e4d-f753-4217-9261-bba7242b6b92"
   },
   "outputs": [
    {
     "data": {
      "text/plain": [
       "41"
      ]
     },
     "execution_count": 287,
     "metadata": {},
     "output_type": "execute_result"
    }
   ],
   "source": [
    "len(record)\n",
    "len(record.features)"
   ]
  },
  {
   "cell_type": "code",
   "execution_count": null,
   "id": "9471299f",
   "metadata": {
    "colab": {
     "base_uri": "https://localhost:8080/"
    },
    "id": "3mAdY6LGutJx",
    "outputId": "c57ab2f5-d67b-4eb7-e7ff-c5624d5dbf26"
   },
   "outputs": [
    {
     "name": "stdout",
     "output_type": "stream",
     "text": [
      "type: gene\n",
      "location: [4342:4780](+)\n",
      "qualifiers:\n",
      "    Key: db_xref, Value: ['GeneID:2767712']\n",
      "    Key: gene, Value: ['pim']\n",
      "    Key: locus_tag, Value: ['YP_pPCP05']\n",
      "\n"
     ]
    }
   ],
   "source": [
    "print(record.features[20])"
   ]
  },
  {
   "cell_type": "code",
   "execution_count": null,
   "id": "c660e1e1",
   "metadata": {
    "colab": {
     "base_uri": "https://localhost:8080/"
    },
    "id": "NPgvKl_euuhn",
    "outputId": "ea0f7f8b-f255-4f44-ab20-f00eb0304b9d"
   },
   "outputs": [
    {
     "name": "stdout",
     "output_type": "stream",
     "text": [
      "type: CDS\n",
      "location: [4342:4780](+)\n",
      "qualifiers:\n",
      "    Key: codon_start, Value: ['1']\n",
      "    Key: db_xref, Value: ['GI:45478716', 'GeneID:2767712']\n",
      "    Key: gene, Value: ['pim']\n",
      "    Key: locus_tag, Value: ['YP_pPCP05']\n",
      "    Key: note, Value: ['similar to many previously sequenced pesticin immunity protein entries of Yersinia pestis plasmid pPCP, e.g. gi| 16082683|,ref|NP_395230.1| (NC_003132) , gi|1200166|emb|CAA90861.1| (Z54145 ) , gi|1488655| emb|CAA63439.1| (X92856) , gi|2996219|gb|AAC62543.1| (AF053945) , and gi|5763814|emb|CAB531 67.1| (AL109969)']\n",
      "    Key: product, Value: ['pesticin immunity protein']\n",
      "    Key: protein_id, Value: ['NP_995571.1']\n",
      "    Key: transl_table, Value: ['11']\n",
      "    Key: translation, Value: ['MGGGMISKLFCLALIFLSSSGLAEKNTYTAKDILQNLELNTFGNSLSHGIYGKQTTFKQTEFTNIKSNTKKHIALINKDNSWMISLKILGIKRDEYTVCFEDFSLIRPPTYVAIHPLLIKKVKSGNFIVVKEIKKSIPGCTVYYH']\n",
      "\n"
     ]
    }
   ],
   "source": [
    "print(record.features[21])"
   ]
  },
  {
   "cell_type": "code",
   "execution_count": null,
   "id": "96ee1300",
   "metadata": {
    "colab": {
     "base_uri": "https://localhost:8080/"
    },
    "id": "V2FDd-sguxdB",
    "outputId": "1fcd8cb5-514f-405f-f079-de8402be78ac"
   },
   "outputs": [
    {
     "data": {
      "text/plain": [
       "2"
      ]
     },
     "execution_count": 290,
     "metadata": {},
     "output_type": "execute_result"
    }
   ],
   "source": [
    "sub_record = record[4300:4800]\n",
    "sub_record\n",
    "len(sub_record)\n",
    "len(sub_record.features)"
   ]
  },
  {
   "cell_type": "code",
   "execution_count": null,
   "id": "df88b543",
   "metadata": {
    "colab": {
     "base_uri": "https://localhost:8080/"
    },
    "id": "BcJFdI33u4Ft",
    "outputId": "59424291-99b2-43eb-e2e7-719282f6e619"
   },
   "outputs": [
    {
     "name": "stdout",
     "output_type": "stream",
     "text": [
      "type: gene\n",
      "location: [42:480](+)\n",
      "qualifiers:\n",
      "    Key: db_xref, Value: ['GeneID:2767712']\n",
      "    Key: gene, Value: ['pim']\n",
      "    Key: locus_tag, Value: ['YP_pPCP05']\n",
      "\n"
     ]
    }
   ],
   "source": [
    "print(sub_record.features[0])"
   ]
  },
  {
   "cell_type": "code",
   "execution_count": null,
   "id": "b4956315",
   "metadata": {
    "colab": {
     "base_uri": "https://localhost:8080/"
    },
    "id": "wak69g_zu3-j",
    "outputId": "eb2ed1f5-5f67-4b24-c0ae-b61a59fabcb4"
   },
   "outputs": [
    {
     "name": "stdout",
     "output_type": "stream",
     "text": [
      "type: CDS\n",
      "location: [42:480](+)\n",
      "qualifiers:\n",
      "    Key: codon_start, Value: ['1']\n",
      "    Key: db_xref, Value: ['GI:45478716', 'GeneID:2767712']\n",
      "    Key: gene, Value: ['pim']\n",
      "    Key: locus_tag, Value: ['YP_pPCP05']\n",
      "    Key: note, Value: ['similar to many previously sequenced pesticin immunity protein entries of Yersinia pestis plasmid pPCP, e.g. gi| 16082683|,ref|NP_395230.1| (NC_003132) , gi|1200166|emb|CAA90861.1| (Z54145 ) , gi|1488655| emb|CAA63439.1| (X92856) , gi|2996219|gb|AAC62543.1| (AF053945) , and gi|5763814|emb|CAB531 67.1| (AL109969)']\n",
      "    Key: product, Value: ['pesticin immunity protein']\n",
      "    Key: protein_id, Value: ['NP_995571.1']\n",
      "    Key: transl_table, Value: ['11']\n",
      "    Key: translation, Value: ['MGGGMISKLFCLALIFLSSSGLAEKNTYTAKDILQNLELNTFGNSLSHGIYGKQTTFKQTEFTNIKSNTKKHIALINKDNSWMISLKILGIKRDEYTVCFEDFSLIRPPTYVAIHPLLIKKVKSGNFIVVKEIKKSIPGCTVYYH']\n",
      "\n"
     ]
    }
   ],
   "source": [
    "print(sub_record.features[1])"
   ]
  },
  {
   "cell_type": "code",
   "execution_count": null,
   "id": "ba78a579",
   "metadata": {
    "colab": {
     "base_uri": "https://localhost:8080/"
    },
    "id": "HUZ60hgPvAAU",
    "outputId": "b0f4888f-625e-486c-e890-e2b733b9eb77"
   },
   "outputs": [
    {
     "data": {
      "text/plain": [
       "[]"
      ]
     },
     "execution_count": 293,
     "metadata": {},
     "output_type": "execute_result"
    }
   ],
   "source": [
    "sub_record.annotations\n",
    "sub_record.dbxrefs"
   ]
  },
  {
   "cell_type": "code",
   "execution_count": null,
   "id": "ae1b7fc0",
   "metadata": {
    "id": "R7ZS_r6QvEWC"
   },
   "outputs": [],
   "source": [
    "sub_record.annotations[\"topology\"] = \"linear\""
   ]
  },
  {
   "cell_type": "code",
   "execution_count": null,
   "id": "a7b36500",
   "metadata": {
    "colab": {
     "base_uri": "https://localhost:8080/",
     "height": 34
    },
    "id": "vp-6GzLMvEMA",
    "outputId": "a769002b-4fd7-4078-cbc4-1f978b5f6a60"
   },
   "outputs": [
    {
     "data": {
      "application/vnd.google.colaboratory.intrinsic+json": {
       "type": "string"
      },
      "text/plain": [
       "'Yersinia pestis biovar Microtus str. 91001 plasmid pPCP1, complete sequence'"
      ]
     },
     "execution_count": 295,
     "metadata": {},
     "output_type": "execute_result"
    }
   ],
   "source": [
    "sub_record.id\n",
    "sub_record.name\n",
    "sub_record.description"
   ]
  },
  {
   "cell_type": "code",
   "execution_count": null,
   "id": "c9afd352",
   "metadata": {
    "colab": {
     "base_uri": "https://localhost:8080/"
    },
    "id": "WL6Robi2vEI1",
    "outputId": "080cd7ee-388e-4a6d-e612-534b7172e454"
   },
   "outputs": [
    {
     "name": "stdout",
     "output_type": "stream",
     "text": [
      "LOCUS       NC_005816                500 bp    DNA     linear   UNK 01-JAN-1980\n",
      "DEFINITION  Yersinia pestis biovar Microtus str. 91001 plasmid pPCP1, partial.\n",
      "ACCESSION   NC_005816\n",
      "VERSION     NC_0058...\n"
     ]
    }
   ],
   "source": [
    "sub_record.description = \"Yersinia pestis biovar Microtus str. 91001 plasmid pPCP1, partial\"\n",
    "print(sub_record.format(\"genbank\")[:200] + \"...\")"
   ]
  },
  {
   "cell_type": "markdown",
   "id": "194fccad",
   "metadata": {
    "id": "QlQgQzQhvR_I"
   },
   "source": [
    "## 4.8 Adding SeqRecord objects\n",
    "For this example we’ll use some real data downloaded from the ENA sequence read archive, ftp://ftp.sra.ebi.ac.uk/vol1/fastq/SRR020/SRR020192/SRR020192.fastq.gz (2MB) which unzips to a 19MB file `SRR020192.fastq`.\n",
    "* To download test file :\n",
    "```\n",
    "wget ftp://ftp.sra.ebi.ac.uk/vol1/fastq/SRR020/SRR020192/SRR020192.fastq.gz\n",
    "gzip -d SRR020192.fastq.gz\n",
    "```"
   ]
  },
  {
   "cell_type": "code",
   "execution_count": null,
   "id": "1b283220",
   "metadata": {
    "colab": {
     "base_uri": "https://localhost:8080/"
    },
    "id": "_9IrFW2uvWBC",
    "outputId": "8abc25df-e288-4054-9023-ff6b534b29ac"
   },
   "outputs": [
    {
     "name": "stdout",
     "output_type": "stream",
     "text": [
      "GATGACGGTGTCTACATTGTTCCCGACCACTCATCTCCTCTGTCATGCCCGAAACGTCTTCTCAAACCCGTCGT\n",
      "[24, 23, 27, 30, 30, 30, 23, 23, 24, 23, 23, 30, 28, 27, 25, 25, 27, 27, 27, 22, 22, 24, 18, 18, 18, 30, 19, 19, 23, 23, 30, 30, 32, 32, 32, 30, 24, 23, 23, 27, 30, 32, 30, 32, 29, 28, 28, 17, 17, 17, 17, 24, 17, 17, 13, 15, 17, 25, 25, 24, 24, 23, 27, 27, 15, 15, 15, 15, 15, 17, 17, 11, 15, 15]\n"
     ]
    }
   ],
   "source": [
    "from Bio import SeqIO\n",
    "record = next(SeqIO.parse(\"SRR020192.fastq\", \"fastq\"))\n",
    "len(record)\n",
    "print(record.seq)\n",
    "print(record.letter_annotations[\"phred_quality\"])"
   ]
  },
  {
   "cell_type": "code",
   "execution_count": null,
   "id": "0d2c709a",
   "metadata": {
    "colab": {
     "base_uri": "https://localhost:8080/"
    },
    "id": "rJjTclsfvehg",
    "outputId": "121c8df4-0f08-43f2-fd19-5899888873fb"
   },
   "outputs": [
    {
     "name": "stdout",
     "output_type": "stream",
     "text": [
      "GATGACGGTGTCTACATTGT\n",
      "[24, 23, 27, 30, 30, 30, 23, 23, 24, 23, 23, 30, 28, 27, 25, 25, 27, 27, 27, 22]\n",
      "CCCGACCACTCATCTCCTCTGTCATGCCCGAAACGTCTTCTCAAACCCGTCGT\n",
      "[24, 18, 18, 18, 30, 19, 19, 23, 23, 30, 30, 32, 32, 32, 30, 24, 23, 23, 27, 30, 32, 30, 32, 29, 28, 28, 17, 17, 17, 17, 24, 17, 17, 13, 15, 17, 25, 25, 24, 24, 23, 27, 27, 15, 15, 15, 15, 15, 17, 17, 11, 15, 15]\n"
     ]
    }
   ],
   "source": [
    "left = record[:20]\n",
    "print(left.seq)\n",
    "print(left.letter_annotations[\"phred_quality\"])\n",
    "right = record[21:]\n",
    "print(right.seq)\n",
    "print(right.letter_annotations[\"phred_quality\"])"
   ]
  },
  {
   "cell_type": "code",
   "execution_count": null,
   "id": "5918ace9",
   "metadata": {
    "colab": {
     "base_uri": "https://localhost:8080/"
    },
    "id": "YEDUeSpvvhgJ",
    "outputId": "512d82af-ad37-4e24-b203-60e5123eb65e"
   },
   "outputs": [
    {
     "name": "stdout",
     "output_type": "stream",
     "text": [
      "GATGACGGTGTCTACATTGTCCCGACCACTCATCTCCTCTGTCATGCCCGAAACGTCTTCTCAAACCCGTCGT\n",
      "[24, 23, 27, 30, 30, 30, 23, 23, 24, 23, 23, 30, 28, 27, 25, 25, 27, 27, 27, 22, 24, 18, 18, 18, 30, 19, 19, 23, 23, 30, 30, 32, 32, 32, 30, 24, 23, 23, 27, 30, 32, 30, 32, 29, 28, 28, 17, 17, 17, 17, 24, 17, 17, 13, 15, 17, 25, 25, 24, 24, 23, 27, 27, 15, 15, 15, 15, 15, 17, 17, 11, 15, 15]\n"
     ]
    }
   ],
   "source": [
    "edited = left + right\n",
    "len(edited)\n",
    "print(edited.seq)\n",
    "print(edited.letter_annotations[\"phred_quality\"])\n",
    "\n",
    "# edited = record[:20] + record[21:]"
   ]
  },
  {
   "cell_type": "code",
   "execution_count": null,
   "id": "6e5540d7",
   "metadata": {
    "colab": {
     "base_uri": "https://localhost:8080/"
    },
    "id": "jWK5zqtbv2zd",
    "outputId": "b56668a5-1dea-4779-913b-72712b626001"
   },
   "outputs": [
    {
     "data": {
      "text/plain": [
       "dict_keys(['molecule_type', 'topology', 'data_file_division', 'date', 'accessions', 'sequence_version', 'gi', 'keywords', 'source', 'organism', 'taxonomy', 'references', 'comment'])"
      ]
     },
     "execution_count": 298,
     "metadata": {},
     "output_type": "execute_result"
    }
   ],
   "source": [
    "from Bio import SeqIO\n",
    "record = SeqIO.read(\"NC_005816.gb\", \"genbank\")\n",
    "record\n",
    "len(record)\n",
    "len(record.features)\n",
    "record.dbxrefs\n",
    "record.annotations.keys()"
   ]
  },
  {
   "cell_type": "code",
   "execution_count": null,
   "id": "48bd1a87",
   "metadata": {
    "colab": {
     "base_uri": "https://localhost:8080/"
    },
    "id": "Pwg-aTOzv91a",
    "outputId": "bdb00115-7adc-47af-de2b-378f92198e7b"
   },
   "outputs": [
    {
     "data": {
      "text/plain": [
       "9609"
      ]
     },
     "execution_count": 299,
     "metadata": {},
     "output_type": "execute_result"
    }
   ],
   "source": [
    "shifted = record[2000:] + record[:2000]\n",
    "shifted\n",
    "len(shifted)"
   ]
  },
  {
   "cell_type": "code",
   "execution_count": null,
   "id": "55c6fbbc",
   "metadata": {
    "colab": {
     "base_uri": "https://localhost:8080/"
    },
    "id": "3c9y-5Fdv9wQ",
    "outputId": "d95c4a31-c40e-4a5a-dfb8-83b2a7350ed9"
   },
   "outputs": [
    {
     "data": {
      "text/plain": [
       "dict_keys(['molecule_type'])"
      ]
     },
     "execution_count": 300,
     "metadata": {},
     "output_type": "execute_result"
    }
   ],
   "source": [
    "len(shifted.features)\n",
    "shifted.dbxrefs\n",
    "shifted.annotations.keys()"
   ]
  },
  {
   "cell_type": "code",
   "execution_count": null,
   "id": "27e60ebd",
   "metadata": {
    "colab": {
     "base_uri": "https://localhost:8080/"
    },
    "id": "X-Ko2ruRv9pL",
    "outputId": "46c979c4-f812-4de4-d893-73b147651c0d"
   },
   "outputs": [
    {
     "data": {
      "text/plain": [
       "dict_keys(['molecule_type', 'topology', 'data_file_division', 'date', 'accessions', 'sequence_version', 'gi', 'keywords', 'source', 'organism', 'taxonomy', 'references', 'comment'])"
      ]
     },
     "execution_count": 301,
     "metadata": {},
     "output_type": "execute_result"
    }
   ],
   "source": [
    "shifted.dbxrefs = record.dbxrefs[:]\n",
    "shifted.annotations = record.annotations.copy()\n",
    "shifted.dbxrefs\n",
    "shifted.annotations.keys()"
   ]
  },
  {
   "cell_type": "markdown",
   "id": "5769eb59",
   "metadata": {
    "id": "vKyJo1JYwUpJ"
   },
   "source": [
    "## 4.9 Reverse-complementing SeqRecord objects"
   ]
  },
  {
   "cell_type": "code",
   "execution_count": null,
   "id": "b6e9d58d",
   "metadata": {
    "colab": {
     "base_uri": "https://localhost:8080/"
    },
    "id": "nP2PzhzzwX5p",
    "outputId": "a761ba99-6058-4eea-8b31-81e9100101d2"
   },
   "outputs": [
    {
     "name": "stdout",
     "output_type": "stream",
     "text": [
      "NC_005816.1 9609 41 1 13\n"
     ]
    }
   ],
   "source": [
    "from Bio import SeqIO\n",
    "record = SeqIO.read(\"NC_005816.gb\", \"genbank\")\n",
    "print(\"%s %i %i %i %i\" % (record.id, len(record), len(record.features), len(record.dbxrefs), len(record.annotations)))"
   ]
  },
  {
   "cell_type": "code",
   "execution_count": null,
   "id": "80251bda",
   "metadata": {
    "colab": {
     "base_uri": "https://localhost:8080/"
    },
    "id": "cgrjDPuawXey",
    "outputId": "3a6f3351-219c-4a8f-ab16-2fd6a20ad9be"
   },
   "outputs": [
    {
     "name": "stdout",
     "output_type": "stream",
     "text": [
      "TESTING 9609 41 0 0\n"
     ]
    }
   ],
   "source": [
    "rc = record.reverse_complement(id=\"TESTING\")\n",
    "print(\"%s %i %i %i %i\" % (rc.id, len(rc), len(rc.features), len(rc.dbxrefs), len(rc.annotations)))"
   ]
  }
 ],
 "metadata": {
  "kernelspec": {
   "display_name": "Python 3 (ipykernel)",
   "language": "python",
   "name": "python3"
  },
  "language_info": {
   "codemirror_mode": {
    "name": "ipython",
    "version": 3
   },
   "file_extension": ".py",
   "mimetype": "text/x-python",
   "name": "python",
   "nbconvert_exporter": "python",
   "pygments_lexer": "ipython3",
   "version": "3.10.9"
  }
 },
 "nbformat": 4,
 "nbformat_minor": 5
}
