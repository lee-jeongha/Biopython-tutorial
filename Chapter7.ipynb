{
 "cells": [
  {
   "cell_type": "markdown",
   "id": "82db3e97",
   "metadata": {},
   "source": [
    "# Chapter 7. BLAST\n",
    "\n",
    "Dealing with BLAST can be split up into two steps, both of which can be done from within Biopython.\n",
    "Firstly, running BLAST for your query sequence(s), and getting some output. Secondly, parsing the BLAST\n",
    "output in Python for further analysis.\n",
    "\n",
    "Your first introduction to running BLAST was probably via the NCBI web-service. In fact, there are\n",
    "lots of ways you can run BLAST, which can be categorized in several ways. The most important distinction\n",
    "is running BLAST locally (on your own machine), and running BLAST remotely (on another machine,\n",
    "typically the NCBI servers). We’re going to start this chapter by invoking the NCBI online BLAST service\n",
    "from within a Python script.\n",
    "\n",
    "NOTE: The following Chapter 8 describes `Bio.SearchIO`, an experimental module in Biopython. We\n",
    "intend this to ultimately replace the older Bio.Blast module, as it provides a more general framework\n",
    "handling other related sequence searching tools as well. However, until that is declared stable, for production\n",
    "code please continue to use the `Bio.Blast` module for dealing with NCBI BLAST."
   ]
  },
  {
   "cell_type": "markdown",
   "id": "bb3744d7",
   "metadata": {
    "id": "o6vZUpSI9AtO"
   },
   "source": [
    "## 7.1 Running BLAST over the Internet\n",
    "We use the function qblast() in the `Bio.Blast.NCBIWWW` module to call the online version of BLAST. This has three non-optional arguments:\n",
    "* The first argument is the blast program to use for the search, as a lower case string. The options and descriptions of the programs are available at https://blast.ncbi.nlm.nih.gov/Blast.cgi. Currently qblast only works with blastn, blastp, blastx, tblast and tblastx.\n",
    "* The second argument specifies the databases to search against. Again, the options for this are available on the NCBI Guide to BLAST ftp://ftp.ncbi.nlm.nih.gov/pub/factsheets/HowTo_BLASTGuide.pdf.\n",
    "* The third argument is a string containing your query sequence. This can either be the sequence itself, the sequence in fasta format, or an identifier like a GI number.\n",
    "\n",
    "NCBI guidelines, from https://blast.ncbi.nlm.nih.gov/Blast.cgi?CMD=Web&PAGE_TYPE=BlastDocs&DOC_TYPE=DeveloperInfo state:\n",
    "1. Do not contact the server more often than once every 10 seconds.\n",
    "2. Do not poll for any single RID more often than once a minute.\n",
    "3. Use the URL parameter email and tool, so that the NCBI can contact you if there is a problem.\n",
    "4. Run scripts weekends or between 9 pm and 5 am Eastern time on weekdays if more than 50 searches will be submitted.\n",
    "\n",
    "To fulfill the third point, one can set the `NCBIWWW.email` variable."
   ]
  },
  {
   "cell_type": "code",
   "execution_count": 33,
   "id": "c53fcf45",
   "metadata": {
    "id": "55mbbPvl8_yh"
   },
   "outputs": [],
   "source": [
    "from Bio.Blast import NCBIWWW\n",
    "#NCBIWWW.email = \"A.N.Other@example.com\""
   ]
  },
  {
   "cell_type": "markdown",
   "id": "8dfbf7e7",
   "metadata": {
    "id": "EPnLqgN9-wcH"
   },
   "source": [
    "For more about the optional BLAST arguments, we refer you to the NCBI’s own documentation, or that built into Biopython:\n",
    "```\n",
    "from Bio.Blast import NCBIWWW\n",
    "help(NCBIWWW.qblast)\n",
    "```"
   ]
  },
  {
   "cell_type": "markdown",
   "id": "eedc2396",
   "metadata": {
    "id": "PQw59SUC-6Wt"
   },
   "source": [
    "Note that the default settings on the NCBI BLAST website are not quite the same as the defaults on QBLAST. If you get different results, you’ll need to check the parameters (e.g., the expectation value threshold and the gap values).\n",
    "\n",
    "For example, if you have a nucleotide sequence you want to search against the nucleotide database (nt) using BLASTN, and you know the GI number of your query sequence, you can use:"
   ]
  },
  {
   "cell_type": "code",
   "execution_count": 34,
   "id": "a37e2fb0",
   "metadata": {
    "id": "BxmlMKkm8-ei"
   },
   "outputs": [],
   "source": [
    "from Bio.Blast import NCBIWWW\n",
    "result_handle = NCBIWWW.qblast(\"blastn\", \"nt\", \"8332116\")"
   ]
  },
  {
   "cell_type": "markdown",
   "id": "d64e3917",
   "metadata": {
    "id": "gIS0-KKK_Q7f"
   },
   "source": [
    "Alternatively, if we have our query sequence already in a FASTA formatted file, we just need to open the file and read in this record as a string, and use that as the query argument:\n",
    "* To download test file : [`m_cold.fasta`](https://github.com/biopython/biopython/blob/master/Doc/examples/m_cold.fasta)"
   ]
  },
  {
   "cell_type": "code",
   "execution_count": 36,
   "id": "16315627",
   "metadata": {
    "id": "FYINvopP_U-G"
   },
   "outputs": [],
   "source": [
    "from Bio.Blast import NCBIWWW\n",
    "fasta_string = open(\"m_cold.fasta\").read()\n",
    "result_handle = NCBIWWW.qblast(\"blastn\", \"nt\", fasta_string)"
   ]
  },
  {
   "cell_type": "markdown",
   "id": "c5788527",
   "metadata": {
    "id": "f9b4FV70_c0F"
   },
   "source": [
    "We could also have read in the FASTA file as a SeqRecord and then supplied just the sequence itself:"
   ]
  },
  {
   "cell_type": "code",
   "execution_count": 37,
   "id": "cee5744c",
   "metadata": {
    "id": "3ozZNWvG_ewp"
   },
   "outputs": [],
   "source": [
    "from Bio.Blast import NCBIWWW\n",
    "from Bio import SeqIO\n",
    "record = SeqIO.read(\"m_cold.fasta\", format=\"fasta\")\n",
    "result_handle = NCBIWWW.qblast(\"blastn\", \"nt\", record.seq)"
   ]
  },
  {
   "cell_type": "markdown",
   "id": "b8e5986e",
   "metadata": {
    "id": "Y43n6riB_k7k"
   },
   "source": [
    "Supplying just the sequence means that BLAST will assign an identifier for your sequence automatically.\n",
    "You might prefer to use the SeqRecord object’s format method to make a FASTA string (which will include the existing identifier):"
   ]
  },
  {
   "cell_type": "code",
   "execution_count": 39,
   "id": "74aa6f21",
   "metadata": {
    "id": "xMd9MVJz_z2S"
   },
   "outputs": [],
   "source": [
    "from Bio.Blast import NCBIWWW\n",
    "from Bio import SeqIO\n",
    "record = SeqIO.read(\"m_cold.fasta\", format=\"fasta\")\n",
    "result_handle = NCBIWWW.qblast(\"blastn\", \"nt\", record.format(\"fasta\"))"
   ]
  },
  {
   "cell_type": "markdown",
   "id": "ebf789a1",
   "metadata": {
    "id": "Xgq-w4OWETZG"
   },
   "source": [
    "Whatever arguments you give the `qblast()` function, you should get back your results in a handle object (by default in XML format).\n",
    "\n",
    "We need to be a bit careful since we can use `result_handle.read()` to read the BLAST output only once – calling `result_handle.read()` again returns an empty string."
   ]
  },
  {
   "cell_type": "code",
   "execution_count": 40,
   "id": "5206cdaa",
   "metadata": {
    "id": "BL9ZHiW4Eiu7"
   },
   "outputs": [],
   "source": [
    "with open(\"my_blast.xml\", \"w\") as out_handle:\n",
    "    out_handle.write(result_handle.read())\n",
    "result_handle.close()"
   ]
  },
  {
   "cell_type": "markdown",
   "id": "136f73a8",
   "metadata": {
    "id": "_M0TUlzyEiPP"
   },
   "source": [
    "After doing this, the results are in the file `my_blast.xml` and the original handle has had all its data extracted (so we closed it). However, the `parse` function of the BLAST parser (described in 7.3) takes a file-handle-like object, so we can just open the saved file for input:"
   ]
  },
  {
   "cell_type": "code",
   "execution_count": 41,
   "id": "cb5bbf24",
   "metadata": {
    "id": "H-Zj1foWEn3k"
   },
   "outputs": [],
   "source": [
    "result_handle = open(\"my_blast.xml\")"
   ]
  },
  {
   "cell_type": "markdown",
   "id": "6cadd5e6",
   "metadata": {
    "id": "eePWyjtXE5Lv"
   },
   "source": [
    "## 7.2 Running BLAST locally\n",
    "### 7.2.1 Introduction\n",
    "Running BLAST locally (as opposed to over the internet, see Section 7.1) has at least major two advantages:\n",
    "* Local BLAST may be faster than BLAST over the internet;\n",
    "* Local BLAST allows you to make your own database to search for sequences against.\n",
    "\n",
    "Unfortunately, there are some major drawbacks too – installing all the bits and getting it setup right takes some effort:\n",
    "* Local BLAST requires command line tools to be installed.\n",
    "* Local BLAST requires (large) BLAST databases to be setup (and potentially kept up to date)."
   ]
  },
  {
   "cell_type": "markdown",
   "id": "66a90427",
   "metadata": {
    "id": "fyr6PuzEFyJ5"
   },
   "source": [
    "### 7.2.2 Standalone NCBI BLAST+\n",
    "The “new” [NCBI BLAST+](https://blast.ncbi.nlm.nih.gov/Blast.cgi?CMD=Web&PAGE_TYPE=BlastDocs&DOC_TYPE=Download) suite was released in 2009. This replaces the old NCBI “legacy” BLAST package (see below).\n",
    "This section will show briefly how to use these tools from within Python. If you have already read or tried the alignment tool examples in Section 6.5 this should all seem quite straightforward.\n",
    "\n",
    "For example, taking a FASTA file of gene nucleotide sequences, you might want to run a BLASTX (translation) search against the non-redundant (NR) protein database. Assuming you (or your systems administrator) has downloaded and installed the [NR database](https://ftp.ncbi.nlm.nih.gov/blast/db/FASTA/), \n",
    "\n",
    "* ex) Make blast db for 'swissprot'\n",
    "```\n",
    "$ makeblastdb -in swissprot -dbtype 'nucl' -out swissprot\n",
    "$ makeblastdb -in swissprot -dbtype 'prot' -out swissprot\n",
    "```\n",
    "\n",
    "you might run:\n",
    "\n",
    "`$ blastx -query opuntia.fasta -db nr -out opuntia.xml -evalue 0.001 -outfmt 5`\n",
    "\n",
    "This should run BLASTX against the NR database, using an expectation cut-off value of 0.001 and produce XML output to the specified file (which we can then parse). On my computer this takes about six minutes - a good reason to save the output to a file so you can repeat any analysis as needed.\n",
    "\n",
    "From within python we can use the subprocess module to build the command line string, and run it:"
   ]
  },
  {
   "cell_type": "code",
   "execution_count": 12,
   "id": "6213010d",
   "metadata": {
    "id": "OnrbQUZEGYpR"
   },
   "outputs": [
    {
     "data": {
      "text/plain": [
       "CompletedProcess(args='blastp -query opuntia.fasta -db swissprot -out opuntia.xml -evalue 0.001 -outfmt 5', returncode=0)"
      ]
     },
     "execution_count": 12,
     "metadata": {},
     "output_type": "execute_result"
    }
   ],
   "source": [
    "import subprocess\n",
    "cmd = \"blastp -query opuntia.fasta -db swissprot -out opuntia.xml\" # \"blastx -query opuntia.fasta -db nr -out opuntia.xml\" in original code\n",
    "cmd += \" -evalue 0.001 -outfmt 5\"\n",
    "subprocess.run(cmd, shell=True)"
   ]
  },
  {
   "cell_type": "markdown",
   "id": "85711c61",
   "metadata": {},
   "source": [
    "In this example there shouldn’t be any output from BLASTX to the terminal. You may want to check the output file `opuntia.xml` has been created."
   ]
  },
  {
   "cell_type": "markdown",
   "id": "a107a4f3",
   "metadata": {
    "id": "iDO16oVQFulf"
   },
   "source": [
    "### 7.2.3 Other versions of BLAST\n",
    "You may also come across [Washington University BLAST](http://blast.wustl.edu/) (WU-BLAST), and its successor, [Advanced Biocomputing BLAST](https://blast.advbiocomp.com) (AB-BLAST, released in 2009, not free/open source). These packages include the command line tools wu-blastall and ab-blastall, which mimicked blastall from the NCBI “legacy” BLAST suite. Biopython does not currently provide wrappers for calling these tools, but should be able to parse any NCBI compatible output from them."
   ]
  },
  {
   "cell_type": "markdown",
   "id": "3c5efb0c",
   "metadata": {
    "id": "6ogWlJX5G4sH"
   },
   "source": [
    "## 7.3 Parsing BLAST output\n",
    "we now recommend to parse the output in XML format, which can be generated by recent versions of BLAST. Not only is the XML output more stable than the plain text and HTML output, it is also much easier to parse automatically, making Biopython a whole lot more stable."
   ]
  },
  {
   "cell_type": "markdown",
   "id": "48af557f",
   "metadata": {
    "id": "iN0Eci4-I0CC"
   },
   "source": [
    "Using a GI number to do an online search:"
   ]
  },
  {
   "cell_type": "code",
   "execution_count": 13,
   "id": "4b7f5b15",
   "metadata": {
    "id": "nPw3ImiUI09R"
   },
   "outputs": [],
   "source": [
    "from Bio.Blast import NCBIWWW\n",
    "result_handle = NCBIWWW.qblast(\"blastn\", \"nt\", \"8332116\")"
   ]
  },
  {
   "cell_type": "markdown",
   "id": "ebab8e71",
   "metadata": {
    "id": "gOcqRPLwJjuO"
   },
   "source": [
    "If instead you ran BLAST some other way, and have the BLAST output (in XML format) in the file `my_blast.xml`, all you need to do is to open the file for reading:\n",
    "* To download test file : [`my_blast.xml`](https://github.com/biopython/biopython/blob/master/Doc/examples/my_blast.xml)"
   ]
  },
  {
   "cell_type": "code",
   "execution_count": 30,
   "id": "1b4b3a2c",
   "metadata": {
    "id": "QW9TfjWUJn-U"
   },
   "outputs": [],
   "source": [
    "result_handle = open(\"my_blast.xml\")"
   ]
  },
  {
   "cell_type": "code",
   "execution_count": 25,
   "id": "5645c4e7",
   "metadata": {
    "id": "ptJo8hjeJyJg"
   },
   "outputs": [],
   "source": [
    "from Bio.Blast import NCBIXML\n",
    "blast_record = NCBIXML.read(result_handle)"
   ]
  },
  {
   "cell_type": "markdown",
   "id": "bb1111f4",
   "metadata": {
    "id": "e49D3UJ-J0j-"
   },
   "source": [
    "or, if you have lots of results (i.e., multiple query sequences):"
   ]
  },
  {
   "cell_type": "code",
   "execution_count": 22,
   "id": "e3bdb716",
   "metadata": {
    "id": "VpykdrbFJ15g"
   },
   "outputs": [],
   "source": [
    "from Bio.Blast import NCBIXML\n",
    "blast_records = NCBIXML.parse(result_handle)"
   ]
  },
  {
   "cell_type": "markdown",
   "id": "9b9ffb44",
   "metadata": {
    "id": "aCCbjM7UKnEy"
   },
   "source": [
    "To be able to handle the situation where the BLAST file may be huge, containing thousands of results, `NCBIXML.parse()` returns an iterator. In plain English, an iterator allows you to step through the BLAST output, retrieving BLAST records one by one for each BLAST search result:\n",
    "```\n",
    ">>> from Bio.Blast import NCBIXML\n",
    ">>> blast_records = NCBIXML.parse(result_handle)\n",
    ">>> blast_record = next(blast_records)\n",
    "# ... do something with blast_record\n",
    ">>> blast_record = next(blast_records)\n",
    "# ... do something with blast_record\n",
    ">>> blast_record = next(blast_records)\n",
    "# ... do something with blast_record\n",
    ">>> blast_record = next(blast_records)\n",
    "Traceback (most recent call last):\n",
    "  File \"<stdin>\", line 1, in <module>\n",
    "StopIteration\n",
    "# No further records\n",
    "```\n",
    "\n",
    "Or, you can use a for-loop:\n",
    "```\n",
    ">>> for blast_record in blast_records:\n",
    "...     pass     # Do something with blast_record\n",
    "...\n",
    "```"
   ]
  },
  {
   "cell_type": "markdown",
   "id": "66ac94d4",
   "metadata": {
    "id": "umPVw64mLS04"
   },
   "source": [
    "Note though that you can step through the BLAST records only once. Usually, from each BLAST record you would save the information that you are interested in. If you want to save all returned BLAST records, you can convert the iterator into a list:"
   ]
  },
  {
   "cell_type": "code",
   "execution_count": 20,
   "id": "6976276a",
   "metadata": {},
   "outputs": [
    {
     "name": "stdout",
     "output_type": "stream",
     "text": [
      "[<Bio.Blast.Record.Blast object at 0x7f8bd44a4670>]\n"
     ]
    }
   ],
   "source": [
    "blast_records = list(blast_records)\n",
    "print(blast_records)"
   ]
  },
  {
   "cell_type": "markdown",
   "id": "1b8a414e",
   "metadata": {
    "id": "t8q7iXNZL6hg"
   },
   "source": [
    "Usually, you’ll be running one BLAST search at a time. Then, all you need to do is to pick up the first (and only) BLAST record in `blast_records`:"
   ]
  },
  {
   "cell_type": "code",
   "execution_count": 28,
   "id": "1d7e915e",
   "metadata": {
    "id": "EQvK6ExMMRqz"
   },
   "outputs": [],
   "source": [
    "from Bio.Blast import NCBIXML\n",
    "blast_records = NCBIXML.parse(result_handle)\n",
    "blast_record = next(blast_records)"
   ]
  },
  {
   "cell_type": "markdown",
   "id": "fba7e502",
   "metadata": {
    "id": "pfceCEjAMWk7"
   },
   "source": [
    "or more elegantly:"
   ]
  },
  {
   "cell_type": "code",
   "execution_count": 31,
   "id": "5493f5aa",
   "metadata": {
    "id": "B-UnF0XAMYHd"
   },
   "outputs": [],
   "source": [
    "from Bio.Blast import NCBIXML\n",
    "blast_record = NCBIXML.read(result_handle)"
   ]
  },
  {
   "cell_type": "markdown",
   "id": "892842d5",
   "metadata": {
    "id": "14H2xsjQMdWN"
   },
   "source": [
    "## 7.4 The BLAST record class\n",
    "Let’s just print out some summary info about all hits in our blast report\n",
    "greater than a particular threshold. The following code does this:\n",
    "\n",
    "This will print out summary reports like the following:\n",
    "```\n",
    "****Alignment****\n",
    "sequence: >gb|AF283004.1|AF283004 Arabidopsis thaliana cold acclimation protein WCOR413-like protein\n",
    "alpha form mRNA, complete cds\n",
    "length: 783\n",
    "e value: 0.034\n",
    "tacttgttgatattggatcgaacaaactggagaaccaacatgctcacgtcacttttagtcccttacatattcctc...\n",
    "||||||||| | ||||||||||| || |||| || || |||||||| |||||| | | |||||||| ||| ||...\n",
    "tacttgttggtgttggatcgaaccaattggaagacgaatatgctcacatcacttctcattccttacatcttcttc...\n",
    "```"
   ]
  },
  {
   "cell_type": "code",
   "execution_count": 32,
   "id": "1fd7480c",
   "metadata": {
    "id": "D_c6iu5GMpXB"
   },
   "outputs": [
    {
     "name": "stdout",
     "output_type": "stream",
     "text": [
      "****Alignment****\n",
      "sequence: gi|1219041180|ref|XM_021875076.1| PREDICTED: Chenopodium quinoa cold-regulated 413 plasma membrane protein 2-like (LOC110697660), mRNA\n",
      "length: 1173\n",
      "e value: 6.87655e-117\n",
      "ACAGAAAATGGGGAGAGAAATGAAGTACTTGGCCATGAAAACTGATCAATTGGCCGTGGCTAATATGATCGATTC...\n",
      "|| ||||||||| |||| | |||| ||  |||| |||| | |||| ||| | |||| ||| ||| ||||| | ||...\n",
      "ACCGAAAATGGGCAGAGGAGTGAATTATATGGCAATGACACCTGAGCAACTAGCCGCGGCCAATTTGATCAACTC...\n",
      "****Alignment****\n",
      "sequence: gi|1226796956|ref|XM_021992092.1| PREDICTED: Spinacia oleracea cold-regulated 413 plasma membrane protein 2-like (LOC110787470), mRNA\n",
      "length: 672\n",
      "e value: 4.33958e-113\n",
      "AAAATGGGGAGAGAAATGAAGTACTTGGCCATGAAAACTGATCAATTGGCCGTGGCTAATATGATCGATTCCGAT...\n",
      "|||||||| |||  |||| | || ||||| |||||||| || ||||| |||| ||| ||| ||||||||||||||...\n",
      "AAAATGGGTAGACGAATGGATTATTTGGCGATGAAAACCGAGCAATTAGCCGCGGCCAATTTGATCGATTCCGAT...\n",
      "****Alignment****\n",
      "sequence: gi|2252585423|ref|XM_010682658.2| PREDICTED: Beta vulgaris subsp. vulgaris cold-regulated 413 plasma membrane protein 2 (LOC104895996), mRNA\n",
      "length: 898\n",
      "e value: 4.95145e-106\n",
      "TTGGCCATGAAAACTGATCAATTGGCCGTGGCTAATATGATCGATTCCGATATCAATGAGCTTAAAATGGCAACA...\n",
      "||||||||||||||||| ||| ||||  |||||||| |||| ||||  ||||| ||||| ||||| || ||    ...\n",
      "TTGGCCATGAAAACTGAGCAAATGGCGTTGGCTAATTTGATAGATTATGATATGAATGAACTTAAGATCGCTTTG...\n",
      "****Alignment****\n",
      "sequence: gi|2031543140|ref|XM_041168865.1| PREDICTED: Juglans microcarpa x Juglans regia cold-regulated 413 plasma membrane protein 2-like (LOC121265293), mRNA\n",
      "length: 1020\n",
      "e value: 1.72823e-105\n",
      "AATGGGGAGAGAAATGAAGTACTTGGCCATGAAAACTGATCAATTGGCCGTGGCTAATATGATCGATTCCGATAT...\n",
      "||||||||| |||  | |  | |||||||||||||||||||    ||||  |||  || ||||||| || |||| ...\n",
      "AATGGGGAG-GAA--GGATAATTTGGCCATGAAAACTGATCC---GGCCACGGCGGATTTGATCGACTCTGATAA...\n",
      "****Alignment****\n",
      "sequence: gi|2247117892|ref|XM_048479995.1| PREDICTED: Ziziphus jujuba var. spinosa cold-regulated 413 plasma membrane protein 2-like (LOC107424728), mRNA\n",
      "length: 1030\n",
      "e value: 6.0321e-105\n",
      "AAAATGGGGAGAGAAATGAAGTACTTGGCCATGAAAACTGATCAATTGGCCGTGGCTAATATGATCGATTCCGAT...\n",
      "|||||||||||    ||| |||  ||||| |||| |||||||| |   |||  |||| |  ||||  |||| |||...\n",
      "AAAATGGGGAGG---ATGGAGTTTTTGGCTATGAGAACTGATCCA---GCCACGGCTGACTTGATAAATTCTGAT...\n",
      "****Alignment****\n",
      "sequence: gi|2082357255|ref|XM_043119049.1| PREDICTED: Carya illinoinensis cold-regulated 413 plasma membrane protein 2-like (LOC122306609), transcript variant X2, mRNA\n",
      "length: 1036\n",
      "e value: 7.34861e-104\n",
      "ATGGGGAGAGAAATGAAGTACTTGGCCATGAAAACTGATCAATTGGCCGTGGCTAATATGATCGATTCCGATATC...\n",
      "|||||||| |||  | | || |||||||||||||||||||    ||||  |||  || ||||||| || ||||||...\n",
      "ATGGGGAG-GAA--GGATTATTTGGCCATGAAAACTGATCC---GGCCACGGCGGATTTGATCGACTCTGATATC...\n",
      "****Alignment****\n",
      "sequence: gi|2082357253|ref|XM_043119041.1| PREDICTED: Carya illinoinensis cold-regulated 413 plasma membrane protein 2-like (LOC122306609), transcript variant X1, mRNA\n",
      "length: 1020\n",
      "e value: 7.34861e-104\n",
      "ATGGGGAGAGAAATGAAGTACTTGGCCATGAAAACTGATCAATTGGCCGTGGCTAATATGATCGATTCCGATATC...\n",
      "|||||||| |||  | | || |||||||||||||||||||    ||||  |||  || ||||||| || ||||||...\n",
      "ATGGGGAG-GAA--GGATTATTTGGCCATGAAAACTGATCC---GGCCACGGCGGATTTGATCGACTCTGATATC...\n",
      "****Alignment****\n",
      "sequence: gi|1882610310|ref|XM_035691634.1| PREDICTED: Juglans regia cold-regulated 413 plasma membrane protein 2 (LOC108995251), transcript variant X2, mRNA\n",
      "length: 909\n",
      "e value: 8.95244e-103\n",
      "AATGGGGAGAGAAATGAAGTACTTGGCCATGAAAACTGATCAATT---------GGCCGTGGCTAATATGATCGA...\n",
      "||||||||| |||  | | || |||||||||||||||||||             ||||  |||  || |||||||...\n",
      "AATGGGGAG-GAA--GGATTATTTGGCCATGAAAACTGATCCGGCCACGGCCACGGCCACGGCGGATTTGATCGA...\n",
      "****Alignment****\n",
      "sequence: gi|1882610309|ref|XM_018970776.2| PREDICTED: Juglans regia cold-regulated 413 plasma membrane protein 2 (LOC108995251), transcript variant X1, mRNA\n",
      "length: 1025\n",
      "e value: 8.95244e-103\n",
      "AATGGGGAGAGAAATGAAGTACTTGGCCATGAAAACTGATCAATT---------GGCCGTGGCTAATATGATCGA...\n",
      "||||||||| |||  | | || |||||||||||||||||||             ||||  |||  || |||||||...\n",
      "AATGGGGAG-GAA--GGATTATTTGGCCATGAAAACTGATCCGGCCACGGCCACGGCCACGGCGGATTTGATCGA...\n",
      "****Alignment****\n",
      "sequence: gi|1350315641|ref|XM_024180293.1| PREDICTED: Citrus clementina cold-regulated 413 plasma membrane protein 2 (LOC18037141), transcript variant X4, mRNA\n",
      "length: 868\n",
      "e value: 6.88263e-98\n",
      "AAATGGGGAGAGAAATGAAGTACTTGGCCATGAAAACTGATCAATTGGCCGTGGCTAATATGATCGATTCCGATA...\n",
      "|||||||||||    |||| || ||||| |||||||||||| |   ||  |  ||  |  |||||   || ||| ...\n",
      "AAATGGGGAGAT---TGAATTATTTGGCTATGAAAACTGATGATCAGGTTGCAGCAGAGTTGATCAGCTCTGATT...\n",
      "****Alignment****\n",
      "sequence: gi|1350315638|ref|XM_006425719.2| PREDICTED: Citrus clementina cold-regulated 413 plasma membrane protein 2 (LOC18037141), transcript variant X3, mRNA\n",
      "length: 893\n",
      "e value: 6.88263e-98\n",
      "AAATGGGGAGAGAAATGAAGTACTTGGCCATGAAAACTGATCAATTGGCCGTGGCTAATATGATCGATTCCGATA...\n",
      "|||||||||||    |||| || ||||| |||||||||||| |   ||  |  ||  |  |||||   || ||| ...\n",
      "AAATGGGGAGAT---TGAATTATTTGGCTATGAAAACTGATGATCAGGTTGCAGCAGAGTTGATCAGCTCTGATT...\n",
      "****Alignment****\n",
      "sequence: gi|1350315636|ref|XM_006425716.2| PREDICTED: Citrus clementina cold-regulated 413 plasma membrane protein 2 (LOC18037141), transcript variant X2, mRNA\n",
      "length: 881\n",
      "e value: 6.88263e-98\n",
      "AAATGGGGAGAGAAATGAAGTACTTGGCCATGAAAACTGATCAATTGGCCGTGGCTAATATGATCGATTCCGATA...\n",
      "|||||||||||    |||| || ||||| |||||||||||| |   ||  |  ||  |  |||||   || ||| ...\n",
      "AAATGGGGAGAT---TGAATTATTTGGCTATGAAAACTGATGATCAGGTTGCAGCAGAGTTGATCAGCTCTGATT...\n",
      "****Alignment****\n",
      "sequence: gi|1350315634|ref|XM_006425717.2| PREDICTED: Citrus clementina cold-regulated 413 plasma membrane protein 2 (LOC18037141), transcript variant X1, mRNA\n",
      "length: 952\n",
      "e value: 6.88263e-98\n",
      "AAATGGGGAGAGAAATGAAGTACTTGGCCATGAAAACTGATCAATTGGCCGTGGCTAATATGATCGATTCCGATA...\n",
      "|||||||||||    |||| || ||||| |||||||||||| |   ||  |  ||  |  |||||   || ||| ...\n",
      "AAATGGGGAGAT---TGAATTATTTGGCTATGAAAACTGATGATCAGGTTGCAGCAGAGTTGATCAGCTCTGATT...\n",
      "****Alignment****\n",
      "sequence: gi|1204884098|ref|XM_021445554.1| PREDICTED: Herrania umbratica cold-regulated 413 plasma membrane protein 2-like (LOC110429488), mRNA\n",
      "length: 905\n",
      "e value: 6.88263e-98\n",
      "AAATGGGGAGAGAAATGAAGTACTTGGCCATGAAAACTGATCAATTGGCCGTGGCTAATATGATCGATTCCGATA...\n",
      "|||||||||||   ||| | || ||||| |||||||| ||||   | || |  |   || |||||  ||| ||||...\n",
      "AAATGGGGAGA---ATGGACTATTTGGCTATGAAAACAGATCCTGTAGCAGAAG---ATTTGATCAGTTCTGATA...\n",
      "****Alignment****\n",
      "sequence: gi|2395983800|ref|XM_006466626.4| PREDICTED: Citrus sinensis cold-regulated 413 plasma membrane protein 2 (LOC102620025), transcript variant X5, mRNA\n",
      "length: 913\n",
      "e value: 6.88263e-98\n",
      "AAATGGGGAGAGAAATGAAGTACTTGGCCATGAAAACTGATCAATTGGCCGTGGCTAATATGATCGATTCCGATA...\n",
      "|||||||||||    |||| || ||||| |||||||||||| |   ||  |  ||  |  |||||   || ||| ...\n",
      "AAATGGGGAGAT---TGAATTATTTGGCTATGAAAACTGATGATCAGGTTGCAGCAGAGTTGATCAGCTCTGATT...\n",
      "****Alignment****\n",
      "sequence: gi|2395983799|ref|XM_006466625.3| PREDICTED: Citrus sinensis cold-regulated 413 plasma membrane protein 2 (LOC102620025), transcript variant X4, mRNA\n",
      "length: 978\n",
      "e value: 6.88263e-98\n",
      "AAATGGGGAGAGAAATGAAGTACTTGGCCATGAAAACTGATCAATTGGCCGTGGCTAATATGATCGATTCCGATA...\n",
      "|||||||||||    |||| || ||||| |||||||||||| |   ||  |  ||  |  |||||   || ||| ...\n",
      "AAATGGGGAGAT---TGAATTATTTGGCTATGAAAACTGATGATCAGGTTGCAGCAGAGTTGATCAGCTCTGATT...\n",
      "****Alignment****\n",
      "sequence: gi|2395983798|ref|XM_006466623.4| PREDICTED: Citrus sinensis cold-regulated 413 plasma membrane protein 2 (LOC102620025), transcript variant X3, mRNA\n",
      "length: 1052\n",
      "e value: 6.88263e-98\n",
      "AAATGGGGAGAGAAATGAAGTACTTGGCCATGAAAACTGATCAATTGGCCGTGGCTAATATGATCGATTCCGATA...\n",
      "|||||||||||    |||| || ||||| |||||||||||| |   ||  |  ||  |  |||||   || ||| ...\n",
      "AAATGGGGAGAT---TGAATTATTTGGCTATGAAAACTGATGATCAGGTTGCAGCAGAGTTGATCAGCTCTGATT...\n",
      "****Alignment****\n",
      "sequence: gi|2395983797|ref|XM_006466624.4| PREDICTED: Citrus sinensis cold-regulated 413 plasma membrane protein 2 (LOC102620025), transcript variant X2, mRNA\n",
      "length: 968\n",
      "e value: 6.88263e-98\n",
      "AAATGGGGAGAGAAATGAAGTACTTGGCCATGAAAACTGATCAATTGGCCGTGGCTAATATGATCGATTCCGATA...\n",
      "|||||||||||    |||| || ||||| |||||||||||| |   ||  |  ||  |  |||||   || ||| ...\n",
      "AAATGGGGAGAT---TGAATTATTTGGCTATGAAAACTGATGATCAGGTTGCAGCAGAGTTGATCAGCTCTGATT...\n",
      "****Alignment****\n",
      "sequence: gi|2395983796|ref|XM_025094967.2| PREDICTED: Citrus sinensis cold-regulated 413 plasma membrane protein 2 (LOC102620025), transcript variant X1, mRNA\n",
      "length: 980\n",
      "e value: 6.88263e-98\n",
      "AAATGGGGAGAGAAATGAAGTACTTGGCCATGAAAACTGATCAATTGGCCGTGGCTAATATGATCGATTCCGATA...\n",
      "|||||||||||    |||| || ||||| |||||||||||| |   ||  |  ||  |  |||||   || ||| ...\n",
      "AAATGGGGAGAT---TGAATTATTTGGCTATGAAAACTGATGATCAGGTTGCAGCAGAGTTGATCAGCTCTGATT...\n",
      "****Alignment****\n",
      "sequence: gi|1227938481|ref|XM_022049453.1| PREDICTED: Carica papaya cold-regulated 413 plasma membrane protein 2-like (LOC110820077), mRNA\n",
      "length: 1009\n",
      "e value: 2.92657e-96\n",
      "AGAAAATGGGGAGAGAAATGAAGTACTTGGCCATGAAAACTGATCAATTGGCCGTGGCTAATATGATCGATTCCG...\n",
      "|||||||||||||    ||| | || ||||| ||||| ||||||||   ||||   ||| || | |||  ||| |...\n",
      "AGAAAATGGGGAGG---ATGGAATATTTGGCTATGAAGACTGATCA---GGCCACTGCTGATCTCATCACTTCTG...\n",
      "****Alignment****\n",
      "sequence: gi|1063463253|ref|XM_007047033.2| PREDICTED: Theobroma cacao cold-regulated 413 plasma membrane protein 2 (LOC18611025), transcript variant X2, mRNA\n",
      "length: 1071\n",
      "e value: 1.24441e-94\n",
      "TGTGAACAGA-AAATGGGGAGAGAAATGAAGTACTTGGCCATGAAAACTGATCAATTGGCCGTGGCTAATATGAT...\n",
      "|| |||| || |||||||||||   ||| | || ||||| |||||||| ||||   | || |  |   || ||||...\n",
      "TGAGAACTGAGAAATGGGGAGA---ATGGACTATTTGGCTATGAAAACAGATCCTGTAGCAGAAG---ATTTGAT...\n",
      "****Alignment****\n",
      "sequence: gi|1063463252|ref|XM_007047032.2| PREDICTED: Theobroma cacao cold-regulated 413 plasma membrane protein 2 (LOC18611025), transcript variant X1, mRNA\n",
      "length: 1065\n",
      "e value: 1.24441e-94\n",
      "TGTGAACAGA-AAATGGGGAGAGAAATGAAGTACTTGGCCATGAAAACTGATCAATTGGCCGTGGCTAATATGAT...\n",
      "|| |||| || |||||||||||   ||| | || ||||| |||||||| ||||   | || |  |   || ||||...\n",
      "TGAGAACTGAGAAATGGGGAGA---ATGGACTATTTGGCTATGAAAACAGATCCTGTAGCAGAAG---ATTTGAT...\n",
      "****Alignment****\n",
      "sequence: gi|1269881407|ref|XM_022895605.1| PREDICTED: Durio zibethinus cold-regulated 413 plasma membrane protein 2 (LOC111300020), transcript variant X3, mRNA\n",
      "length: 1069\n",
      "e value: 4.34341e-94\n",
      "AAATGGGGAGAGAAATGAAGTACTTGGCCATGAAAACTGATCAATTGGCCGTGGCTAATATGATCGATTCCGATA...\n",
      "|||||||||||   ||| |||| ||||| |||||||||||||   | || |  |  ||| |||||  ||| ||||...\n",
      "AAATGGGGAGA---ATGGAGTATTTGGCTATGAAAACTGATCCTGTAGCTGAAG--AAT-TGATCAGTTCTGATA...\n",
      "****Alignment****\n",
      "sequence: gi|1269881405|ref|XM_022895604.1| PREDICTED: Durio zibethinus cold-regulated 413 plasma membrane protein 2 (LOC111300020), transcript variant X2, mRNA\n",
      "length: 1091\n",
      "e value: 4.34341e-94\n",
      "AAATGGGGAGAGAAATGAAGTACTTGGCCATGAAAACTGATCAATTGGCCGTGGCTAATATGATCGATTCCGATA...\n",
      "|||||||||||   ||| |||| ||||| |||||||||||||   | || |  |  ||| |||||  ||| ||||...\n",
      "AAATGGGGAGA---ATGGAGTATTTGGCTATGAAAACTGATCCTGTAGCTGAAG--AAT-TGATCAGTTCTGATA...\n",
      "****Alignment****\n",
      "sequence: gi|1269881403|ref|XM_022895603.1| PREDICTED: Durio zibethinus cold-regulated 413 plasma membrane protein 2 (LOC111300020), transcript variant X1, mRNA\n",
      "length: 1072\n",
      "e value: 4.34341e-94\n",
      "AAATGGGGAGAGAAATGAAGTACTTGGCCATGAAAACTGATCAATTGGCCGTGGCTAATATGATCGATTCCGATA...\n",
      "|||||||||||   ||| |||| ||||| |||||||||||||   | || |  |  ||| |||||  ||| ||||...\n",
      "AAATGGGGAGA---ATGGAGTATTTGGCTATGAAAACTGATCCTGTAGCTGAAG--AAT-TGATCAGTTCTGATA...\n",
      "****Alignment****\n",
      "sequence: gi|2082386146|ref|XM_043113302.1| PREDICTED: Carya illinoinensis cold-regulated 413 plasma membrane protein 2-like (LOC122301958), transcript variant X2, mRNA\n",
      "length: 824\n",
      "e value: 1.516e-93\n",
      "ATGAAGTACTTGGCCATGAAAACTGATCAATTGGCCGTGGCTAATATGATCGATTCCGATATCAATGAGCTTAAA...\n",
      "||||| |||||||| |||||||||||||    |||  |||   || ||||||  || ||||||||||| || || ...\n",
      "ATGAATTACTTGGCTATGAAAACTGATCC---GGCAATGGAGGATTTGATCGGCTCTGATATCAATGACCTCAAG...\n",
      "****Alignment****\n",
      "sequence: gi|2082386143|ref|XM_043113301.1| PREDICTED: Carya illinoinensis cold-regulated 413 plasma membrane protein 2-like (LOC122301958), transcript variant X1, mRNA\n",
      "length: 844\n",
      "e value: 1.516e-93\n",
      "ATGAAGTACTTGGCCATGAAAACTGATCAATTGGCCGTGGCTAATATGATCGATTCCGATATCAATGAGCTTAAA...\n",
      "||||| |||||||| |||||||||||||    |||  |||   || ||||||  || ||||||||||| || || ...\n",
      "ATGAATTACTTGGCTATGAAAACTGATCC---GGCAATGGAGGATTTGATCGGCTCTGATATCAATGACCTCAAG...\n",
      "****Alignment****\n",
      "sequence: gi|1954740698|ref|XM_038867092.1| PREDICTED: Tripterygium wilfordii cold-regulated 413 plasma membrane protein 2 (LOC120014952), mRNA\n",
      "length: 999\n",
      "e value: 5.29136e-93\n",
      "GAACAGAAAATGGGGAGAGAAATGAAGTACTTGGCCATGAAAACTGATCAATTGGCCGTGGCTAATATGATCGAT...\n",
      "||| ||||||||||||||   | | | || ||||| ||||| |||||||    ||  ||||   || |||||   ...\n",
      "GAAAAGAAAATGGGGAGA---ACGGATTATTTGGCGATGAAGACTGATCC---GGTTGTGGACGATTTGATCAGC...\n",
      "****Alignment****\n",
      "sequence: gi|1882636119|ref|XM_018974650.2| PREDICTED: Juglans regia cold-regulated 413 plasma membrane protein 2-like (LOC108998174), mRNA\n",
      "length: 1015\n",
      "e value: 6.44619e-92\n",
      "AATGGGGAGAGAAATGAAGTACTTGGCCATGAAAACTGATCAATTGGCCGTGGCTAATATGATCGATTCCGATAT...\n",
      "|||||||||    ||||| || ||||| |||||||||||||    |||  ||| | || ||||||  || |||||...\n",
      "AATGGGGAGG---ATGAATTATTTGGCTATGAAAACTGATCC---GGCAATGGATGATTTGATCGGCTCTGATAT...\n",
      "****Alignment****\n",
      "sequence: gi|1187397285|gb|KX009413.1| Santalum album COR413-PM2 mRNA, complete cds\n",
      "length: 837\n",
      "e value: 2.24994e-91\n",
      "AATGGGGAGAGAAATGAAGTACTTGGCCATGAAAACTGATCAATTGGCCGTGGCTAATATGATCGATTCCGATAT...\n",
      "|||||||||    ||| | | ||||||||||||||| ||||    |||||  |   || ||||| ||||||| ||...\n",
      "AATGGGGAGG---ATGGATTTCTTGGCCATGAAAACAGATCCCGCGGCCGCCG---ATTTGATCAATTCCGACAT...\n",
      "****Alignment****\n",
      "sequence: gi|2250518185|ref|XM_009343631.3| PREDICTED: Pyrus x bretschneideri cold-regulated 413 plasma membrane protein 2 (LOC103933927), mRNA\n",
      "length: 787\n",
      "e value: 1.1655e-88\n",
      "TGATCGATTCCGATATCAATGAGCTTAAAATGGCAACAATGAGGCTCATCAATGATGCTAGTATGCTCGGTCATT...\n",
      "|||| ||||| |||||||| ||||| || || ||| | | ||| ||||||| |||||| |  | ||| |||  ||...\n",
      "TGATAGATTCAGATATCAAAGAGCTCAAGATTGCAGCCAAGAGACTCATCAGTGATGCCACCAAGCTTGGTGGTT...\n",
      "****Alignment****\n",
      "sequence: gi|1350280614|ref|XM_024170292.1| PREDICTED: Morus notabilis cold-regulated 413 plasma membrane protein 2 (LOC21394987), mRNA\n",
      "length: 1020\n",
      "e value: 4.06799e-88\n",
      "AAATGGGGAGAGAAATGAAGTACTTGGCCATGAAAACTGATCAATTGGCCGTGGCTAATATGATCGATTCCGATA...\n",
      "|||||||||| ||       || |||||||||||||| || | |   |||  |||| || ||||  |||| ||||...\n",
      "AAATGGGGAGGGAT------TATTTGGCCATGAAAACGGACCCA---GCCACGGCTGATTTGATAAATTCTGATA...\n",
      "****Alignment****\n",
      "sequence: gi|743838297|ref|XM_011027373.1| PREDICTED: Populus euphratica cold-regulated 413 plasma membrane protein 2 (LOC105126500), transcript variant X2, mRNA\n",
      "length: 1132\n",
      "e value: 4.06799e-88\n",
      "AAAATGGGGAGAGAAATGAAGTACTTGGCCATGAAAACTGATCAATTGGCCGTGGCTAATATGATCGATTCCGAT...\n",
      "|||||||||||    ||| |||  |||   ||||| |||||| |    | |   |||||| | || |||||||||...\n",
      "AAAATGGGGAGG---ATGGAGTTTTTGAAGATGAAGACTGATGATGAAGTCAGCGCTAATTTAATTGATTCCGAT...\n",
      "****Alignment****\n",
      "sequence: gi|743838293|ref|XM_011027372.1| PREDICTED: Populus euphratica cold-regulated 413 plasma membrane protein 2 (LOC105126500), transcript variant X1, mRNA\n",
      "length: 980\n",
      "e value: 4.06799e-88\n",
      "AAAATGGGGAGAGAAATGAAGTACTTGGCCATGAAAACTGATCAATTGGCCGTGGCTAATATGATCGATTCCGAT...\n",
      "|||||||||||    ||| |||  |||   ||||| |||||| |    | |   |||||| | || |||||||||...\n",
      "AAAATGGGGAGG---ATGGAGTTTTTGAAGATGAAGACTGATGATGAAGTCAGCGCTAATTTAATTGATTCCGAT...\n",
      "****Alignment****\n",
      "sequence: gi|1768569081|ref|XM_031406607.1| PREDICTED: Pistacia vera cold-regulated 413 plasma membrane protein 2-like (LOC116120644), mRNA\n",
      "length: 982\n",
      "e value: 4.95583e-87\n",
      "AAAATGGGGAGAGAAATGAAGTACTTGGCCATGAAAACTGATCAATT-GGCCGTGGCTAATATGATCGATTCCGA...\n",
      "|||||||||||    ||| | ||  |||  ||||||||||| ||||  ||     ||| |  ||||  | || ||...\n",
      "AAAATGGGGAGG---ATGGATTATCTGGGAATGAAAACTGA-CAATCAGGTTACTGCTGAGGTGATTAACTCTGA...\n",
      "****Alignment****\n",
      "sequence: gi|1216950057|ref|XM_021815585.1| PREDICTED: Hevea brasiliensis cold-regulated 413 plasma membrane protein 2-like (LOC110658100), transcript variant X2, mRNA\n",
      "length: 1073\n",
      "e value: 4.95583e-87\n",
      "AAATGGGGAGAGAAATGAAGTACTTGGCCATGAAAACTGATCAATTGGCCGTGGCTAATATGATCGATTCCGATA...\n",
      "||||||||||    ||| ||||||||   ||||  ||||||||| |  |   |||  || ||||| | || ||| ...\n",
      "AAATGGGGAGG---ATGGAGTACTTGAAAATGAGTACTGATCAAGTACC---GGCCGATTTGATCAAGTCTGATC...\n",
      "****Alignment****\n",
      "sequence: gi|1216950055|ref|XM_021815584.1| PREDICTED: Hevea brasiliensis cold-regulated 413 plasma membrane protein 2-like (LOC110658100), transcript variant X1, mRNA\n",
      "length: 1024\n",
      "e value: 4.95583e-87\n",
      "AAATGGGGAGAGAAATGAAGTACTTGGCCATGAAAACTGATCAATTGGCCGTGGCTAATATGATCGATTCCGATA...\n",
      "||||||||||    ||| ||||||||   ||||  ||||||||| |  |   |||  || ||||| | || ||| ...\n",
      "AAATGGGGAGG---ATGGAGTACTTGAAAATGAGTACTGATCAAGTACC---GGCCGATTTGATCAAGTCTGATC...\n",
      "****Alignment****\n",
      "sequence: gi|2396494064|ref|XM_024605027.2| PREDICTED: Populus trichocarpa cold-regulated 413 plasma membrane protein 2 (LOC18101203), transcript variant X2, mRNA\n",
      "length: 1178\n",
      "e value: 1.72975e-86\n",
      "AAAATGGGGAGAGAAATGAAGTACTTGGCCATGAAAACTGATCAATTGGCCGTGGCTAATATGATCGATTCCGAT...\n",
      "|||||||||||    ||| |||  |||   ||||| |||||| |    | |   |||||| | || || ||||||...\n",
      "AAAATGGGGAGG---ATGGAGTTTTTGAAGATGAAGACTGATGATGAAGTCAGCGCTAATTTAATTGAGTCCGAT...\n",
      "****Alignment****\n",
      "sequence: gi|2396494060|ref|XM_052454347.1| PREDICTED: Populus trichocarpa cold-regulated 413 plasma membrane protein 2 (LOC18101203), transcript variant X1, mRNA\n",
      "length: 1018\n",
      "e value: 1.72975e-86\n",
      "AAAATGGGGAGAGAAATGAAGTACTTGGCCATGAAAACTGATCAATTGGCCGTGGCTAATATGATCGATTCCGAT...\n",
      "|||||||||||    ||| |||  |||   ||||| |||||| |    | |   |||||| | || || ||||||...\n",
      "AAAATGGGGAGG---ATGGAGTTTTTGAAGATGAAGACTGATGATGAAGTCAGCGCTAATTTAATTGAGTCCGAT...\n",
      "****Alignment****\n",
      "sequence: gi|1585724761|ref|XM_028202722.1| PREDICTED: Camellia sinensis cold-regulated 413 plasma membrane protein 2-like (LOC114262355), mRNA\n",
      "length: 910\n",
      "e value: 6.03743e-86\n",
      "AGAAAATGGGGAGAGAAATGAAGTACTTGGCCATGAAAACTGATCAATTGGCCGTGGCTAATATGATCGATTCCG...\n",
      "|||||||||||||  ||||| |||| ||||| ||||| || |||||    |||    |  |   |||  ||||||...\n",
      "AGAAAATGGGGAGGAAAATGGAGTATTTGGCAATGAAGACCGATCATCCAGCCCCAACCCAATCGATGAATTCCG...\n",
      "****Alignment****\n",
      "sequence: gi|1860377401|ref|XM_035077206.1| PREDICTED: Populus alba cold-regulated 413 plasma membrane protein 2-like (LOC118063227), transcript variant X2, mRNA\n",
      "length: 916\n",
      "e value: 2.10727e-85\n",
      "AAAATGGGGAGAGAAATGAAGTACTTGGCCATGAAAACTGATCAATTGGCCGTGGCTAATATGATCGATTCCGAT...\n",
      "|||||||||||    ||| |||  |||   ||||| |||||| |    | |   | |||| | || || ||||||...\n",
      "AAAATGGGGAGG---ATGGAGTTTTTGAAGATGAAGACTGATGATGAAGTCAGCGGTAATTTAATTGAGTCCGAT...\n",
      "****Alignment****\n",
      "sequence: gi|1860377399|ref|XM_035077205.1| PREDICTED: Populus alba cold-regulated 413 plasma membrane protein 2-like (LOC118063227), transcript variant X1, mRNA\n",
      "length: 1109\n",
      "e value: 2.10727e-85\n",
      "AAAATGGGGAGAGAAATGAAGTACTTGGCCATGAAAACTGATCAATTGGCCGTGGCTAATATGATCGATTCCGAT...\n",
      "|||||||||||    ||| |||  |||   ||||| |||||| |    | |   | |||| | || || ||||||...\n",
      "AAAATGGGGAGG---ATGGAGTTTTTGAAGATGAAGACTGATGATGAAGTCAGCGGTAATTTAATTGAGTCCGAT...\n",
      "****Alignment****\n",
      "sequence: gi|1162571919|ref|XM_020568695.1| PREDICTED: Prunus persica cold-regulated 413 plasma membrane protein 2 (LOC18770198), transcript variant X2, mRNA\n",
      "length: 929\n",
      "e value: 2.56718e-84\n",
      "TGATCGATTCCGATATCAATGAGCTTAAAATGGCAACAATGAGGCTCATCAATGATGCTAGTATGCTCGGTCATT...\n",
      "||||  |||| || |||||||| || || || ||| | | ||  |||||||||||||| | || ||| |||   |...\n",
      "TGATAAATTCAGACATCAATGATCTCAAGATTGCAGCCAAGAAACTCATCAATGATGCCACTAAGCTTGGTGGGT...\n",
      "****Alignment****\n",
      "sequence: gi|1162571918|ref|XM_007202530.2| PREDICTED: Prunus persica cold-regulated 413 plasma membrane protein 2 (LOC18770198), transcript variant X1, mRNA\n",
      "length: 811\n",
      "e value: 2.56718e-84\n",
      "TGATCGATTCCGATATCAATGAGCTTAAAATGGCAACAATGAGGCTCATCAATGATGCTAGTATGCTCGGTCATT...\n",
      "||||  |||| || |||||||| || || || ||| | | ||  |||||||||||||| | || ||| |||   |...\n",
      "TGATAAATTCAGACATCAATGATCTCAAGATTGCAGCCAAGAAACTCATCAATGATGCCACTAAGCTTGGTGGGT...\n",
      "****Alignment****\n",
      "sequence: gi|1229761331|ref|XM_022277554.1| PREDICTED: Momordica charantia cold-regulated 413 plasma membrane protein 2-like (LOC111005887), mRNA\n",
      "length: 850\n",
      "e value: 8.96035e-84\n",
      "ATTCCGATATCAATGAGCTTAAAATGGCAACAATGAGGCTCATCAATGATGCTAGTATGCTCGGTCATTACGGGT...\n",
      "|||| |||||||| ||||||||||| ||| | | ||||||  |  |  |||| |  | |||||||    | ||  ...\n",
      "ATTCTGATATCAACGAGCTTAAAATTGCAGCCACGAGGCTTCTTGAACATGCCACCAAGCTCGGTGGAAAGGGCC...\n",
      "****Alignment****\n",
      "sequence: gi|2118882425|ref|XM_044613294.1| PREDICTED: Mangifera indica cold-regulated 413 plasma membrane protein 2-like (LOC123198583), mRNA\n",
      "length: 1083\n",
      "e value: 3.12747e-83\n",
      "AAAATGGGGAGAGAAATGAAGTACTTGGCCATGAAAACTGATCAATTGGCCGTGGCTAATATGATCGATTCCGAT...\n",
      "|| ||||||||    ||| | ||  |||| |||||||||||  |   ||  |  ||| |  ||||| | || |||...\n",
      "AAGATGGGGAGG---ATGGATTATCTGGCAATGAAAACTGACGATCAGGTTGCTGCTGACTTGATCAACTCTGAT...\n",
      "****Alignment****\n",
      "sequence: gi|764593175|ref|XM_004300526.2| PREDICTED: Fragaria vesca subsp. vesca cold-regulated 413 plasma membrane protein 2 (LOC101313417), mRNA\n",
      "length: 1105\n",
      "e value: 1.09159e-82\n",
      "ATGGGGAGAGAAATGAAGTACTTGGCCATGAAAACTGATCAATTGGCCGTGGCTAAT---ATGATCGATTCCGAT...\n",
      "|||||||| |   || | || ||||| ||||||||||| | | | ||   ||| |||    ||||  ||||||||...\n",
      "ATGGGGAGGG---TGGACTATTTGGCTATGAAAACTGACCCAGTTGC---GGCCAATGAGTTGATGAATTCCGAT...\n",
      "****Alignment****\n",
      "sequence: gi|1861285698|gb|MN544658.1| Populus simonii x Populus nigra cold temperature stress protein (WCOR413) mRNA, complete cds\n",
      "length: 639\n",
      "e value: 1.09159e-82\n",
      "GCTAATATGATCGATTCCGATATCAATGAGCTTAAAATGGCAACAATGAGGCTCATCAATGATGCTAGTATGCTC...\n",
      "|||||| | || || |||||| |||||||||| ||  | ||  | | ||  |||||||| |||||   || ||| ...\n",
      "GCTAATTTAATTGAGTCCGATGTCAATGAGCTCAAGGTTGCTGCTAAGAAACTCATCAAGGATGCCGCTAAGCTT...\n",
      "****Alignment****\n",
      "sequence: gi|1104507484|ref|XM_002274845.4| PREDICTED: Vitis vinifera cold-regulated 413 plasma membrane protein 2 (LOC100267774), mRNA\n",
      "length: 893\n",
      "e value: 3.81004e-82\n",
      "TGAACAGAAAATGGGGAGAGAAATGAAGTACTTGGCCATGAAAACTGATCAATTGGCCGTGGCTAATATGATCGA...\n",
      "||||  ||||||||||||    ||| ||||  |||| |||||||||||||    |  |    | ||| ||||  |...\n",
      "TGAAACGAAAATGGGGAGG---ATGGAGTATCTGGCTATGAAAACTGATCCC--GAACCAACCCAAT-TGATTAA...\n",
      "****Alignment****\n",
      "sequence: gi|349709091|emb|FQ378501.1| Vitis vinifera clone SS0AEB13YG07\n",
      "length: 834\n",
      "e value: 3.81004e-82\n",
      "TGAACAGAAAATGGGGAGAGAAATGAAGTACTTGGCCATGAAAACTGATCAATTGGCCGTGGCTAATATGATCGA...\n",
      "||||  ||||||||||||    ||| ||||  |||| |||||||||||||    |  |    | ||| ||||  |...\n",
      "TGAAACGAAAATGGGGAGG---ATGGAGTATCTGGCTATGAAAACTGATCCC--GAACCAACCCAAT-TGATTAA...\n"
     ]
    }
   ],
   "source": [
    "E_VALUE_THRESH = 0.04\n",
    "\n",
    "for alignment in blast_record.alignments:\n",
    "    for hsp in alignment.hsps:\n",
    "        if hsp.expect < E_VALUE_THRESH:\n",
    "            print(\"****Alignment****\")\n",
    "            print(\"sequence:\", alignment.title)\n",
    "            print(\"length:\", alignment.length)\n",
    "            print(\"e value:\", hsp.expect)\n",
    "            print(hsp.query[0:75] + \"...\")\n",
    "            print(hsp.match[0:75] + \"...\")\n",
    "            print(hsp.sbjct[0:75] + \"...\")"
   ]
  },
  {
   "cell_type": "markdown",
   "id": "efd0186b",
   "metadata": {
    "id": "9n6wQezKM6fb"
   },
   "source": [
    "Basically, you can do anything you want to with the info in the BLAST report once you have parsed it.\n",
    "This will, of course, depend on what you want to use it for, but hopefully this helps you get started on doing what you need to do!"
   ]
  },
  {
   "cell_type": "markdown",
   "id": "88d4e86b",
   "metadata": {
    "id": "8IJ24mMXNLQK"
   },
   "source": [
    "## 7.5 Dealing with PSI-BLAST\n",
    "You can run the standalone version of PSI-BLAST (the legacy NCBI command line tool `blastpgp`, or its replacement `psiblast`) directly from the command line or using python’s subprocess module.\n",
    "At the time of writing, the NCBI do not appear to support tools running a PSI-BLAST search via the internet."
   ]
  },
  {
   "cell_type": "markdown",
   "id": "cdcbd8e1",
   "metadata": {
    "id": "j2NwhifqNssg"
   },
   "source": [
    "## 7.6 Dealing with RPS-BLAST\n",
    "You can run the standalone version of RPS-BLAST (either the legacy NCBI command line tool `rpsblast`, or its replacement with the same name) directly from the command line or using python’s subprocess module.\n",
    "At the time of writing, the NCBI do not appear to support tools running an RPS-BLAST search via the internet.\n",
    "You can use the `Bio.Blast.NCBIXML` parser to read the XML output from current versions of RPS-BLAST."
   ]
  }
 ],
 "metadata": {
  "kernelspec": {
   "display_name": "Python 3 (ipykernel)",
   "language": "python",
   "name": "python3"
  },
  "language_info": {
   "codemirror_mode": {
    "name": "ipython",
    "version": 3
   },
   "file_extension": ".py",
   "mimetype": "text/x-python",
   "name": "python",
   "nbconvert_exporter": "python",
   "pygments_lexer": "ipython3",
   "version": "3.10.9"
  }
 },
 "nbformat": 4,
 "nbformat_minor": 5
}
