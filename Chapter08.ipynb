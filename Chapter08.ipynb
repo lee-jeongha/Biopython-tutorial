{
 "cells": [
  {
   "cell_type": "code",
   "execution_count": 1,
   "id": "a4f61152",
   "metadata": {},
   "outputs": [],
   "source": [
    "import warnings\n",
    "warnings.filterwarnings(action='ignore')"
   ]
  },
  {
   "cell_type": "markdown",
   "id": "8e854f50",
   "metadata": {
    "id": "uMK0NQ76N6CS"
   },
   "source": [
    "# Chapter 8. BLAST and other sequence search tools\n",
    "\n",
    "In this chapter, we’ll go through the main features of `Bio.SearchIO` to show what it can do for you. We’ll use two popular search tools along the way: BLAST and BLAT. They are used merely for illustrative purposes, and you should be able to adapt the workflow to any other search tools supported by `Bio.SearchIO` in a breeze. You’re very welcome to follow along with the search output files we’ll be using. The BLAST\n",
    "output file can be downloaded [here(`my_blast.xml`)](https://github.com/biopython/biopython/blob/master/Doc/examples/my_blast.xml), and the BLAT output file [here(`my_blat.psl`)](https://raw.githubusercontent.com/biopython/biopython/master/Doc/examples/my_blat.psl) or are included with the Biopython source code under the `Doc/examples/` folder. Both output files were generated using this sequence:\n",
    "```\n",
    ">mystery_seq\n",
    "CCCTCTACAGGGAAGCGCTTTCTGTTGTCTGAAAGAAAAGAAAGTGCTTCCTTTTAGAGGG\n",
    "```\n",
    "The BLAST result is an XML file generated using blastn against the NCBI `refseq_rna` database. For BLAT, the sequence database was the February 2009 `hg19` human genome draft and the output format is PSL."
   ]
  },
  {
   "cell_type": "markdown",
   "id": "d24b9a7e",
   "metadata": {
    "id": "TluU7xEvPy3Z"
   },
   "source": [
    "## 8.1 The SearchIO object model\n",
    "The object model consists of a nested hierarchy of Python objects. These objects are:\n",
    "* `QueryResult`, to represent a single search query.\n",
    "* `Hit`, to represent a single database hit. `Hit` objects are contained within `QueryResult` and in each `QueryResult` there is zero or more Hit objects.\n",
    "* `HSP` (short for high-scoring pair), to represent region(s) of significant alignments between query and hit sequences. `HSP` objects are contained within `Hit` objects and each `Hit` has one or more `HSP` objects.\n",
    "* `HSPFragment`, to represent a single contiguous alignment between query and hit sequences. `HSPFragment` objects are contained within `HSP` objects. Most sequence search tools like BLAST and HMMER unify\n",
    "`HSP` and `HSPFragment` objects as each `HSP` will only have a single `HSPFragment`. However there are tools like BLAT and Exonerate that produce `HSP` containing multiple `HSPFragment`.\n",
    "\n",
    "These four objects are the ones you will interact with when you use `Bio.SearchIO`. They are created using one of the main `Bio.SearchIO` methods: `read`, `parse`, `index`, or `index_db`. These functions\n",
    "behave similarly to their `Bio.SeqIO` and `Bio.AlignIO` counterparts:\n",
    "* `read` is used for search output files with a single query and returns a QueryResult object\n",
    "* `parse` is used for search output files with multiple queries and returns a generator that yields QueryResult objects\n",
    "\n",
    "With that settled, let’s start probing each Bio.SearchIO object, beginning with QueryResult."
   ]
  },
  {
   "cell_type": "markdown",
   "id": "1def8726",
   "metadata": {
    "id": "JFXtywCeRK6E"
   },
   "source": [
    "### 8.1.1 QueryResult\n",
    "The QueryResult object represents a single search query and contains zero or more Hit objects. Let’s see what it looks like using the BLAST file we have:"
   ]
  },
  {
   "cell_type": "code",
   "execution_count": 2,
   "id": "680c468d",
   "metadata": {
    "id": "BAb6frD0NCqm"
   },
   "outputs": [
    {
     "name": "stdout",
     "output_type": "stream",
     "text": [
      "Program: blastn (2.14.0+)\n",
      "  Query: gi|8332116|gb|BE037100.1|BE037100 (1111)\n",
      "         MP14H09 MP Mesembryanthemum crystallinum cDNA 5' similar to cold acc...\n",
      " Target: nt\n",
      "   Hits: ----  -----  ----------------------------------------------------------\n",
      "            #  # HSP  ID + description\n",
      "         ----  -----  ----------------------------------------------------------\n",
      "            0      1  gi|1219041180|ref|XM_021875076.1|  PREDICTED: Chenopodi...\n",
      "            1      1  gi|1226796956|ref|XM_021992092.1|  PREDICTED: Spinacia ...\n",
      "            2      1  gi|2252585423|ref|XM_010682658.2|  PREDICTED: Beta vulg...\n",
      "            3      1  gi|2031543140|ref|XM_041168865.1|  PREDICTED: Juglans m...\n",
      "            4      1  gi|2247117892|ref|XM_048479995.1|  PREDICTED: Ziziphus ...\n",
      "            5      1  gi|2082357255|ref|XM_043119049.1|  PREDICTED: Carya ill...\n",
      "            6      1  gi|2082357253|ref|XM_043119041.1|  PREDICTED: Carya ill...\n",
      "            7      1  gi|1882610310|ref|XM_035691634.1|  PREDICTED: Juglans r...\n",
      "            8      1  gi|1882610309|ref|XM_018970776.2|  PREDICTED: Juglans r...\n",
      "            9      1  gi|1350315641|ref|XM_024180293.1|  PREDICTED: Citrus cl...\n",
      "           10      1  gi|1350315638|ref|XM_006425719.2|  PREDICTED: Citrus cl...\n",
      "           11      1  gi|1350315636|ref|XM_006425716.2|  PREDICTED: Citrus cl...\n",
      "           12      1  gi|1350315634|ref|XM_006425717.2|  PREDICTED: Citrus cl...\n",
      "           13      1  gi|1204884098|ref|XM_021445554.1|  PREDICTED: Herrania ...\n",
      "           14      1  gi|2395983800|ref|XM_006466626.4|  PREDICTED: Citrus si...\n",
      "           15      1  gi|2395983799|ref|XM_006466625.3|  PREDICTED: Citrus si...\n",
      "           16      1  gi|2395983798|ref|XM_006466623.4|  PREDICTED: Citrus si...\n",
      "           17      1  gi|2395983797|ref|XM_006466624.4|  PREDICTED: Citrus si...\n",
      "           18      1  gi|2395983796|ref|XM_025094967.2|  PREDICTED: Citrus si...\n",
      "           19      1  gi|1227938481|ref|XM_022049453.1|  PREDICTED: Carica pa...\n",
      "           20      1  gi|1063463253|ref|XM_007047033.2|  PREDICTED: Theobroma...\n",
      "           21      1  gi|1063463252|ref|XM_007047032.2|  PREDICTED: Theobroma...\n",
      "           22      1  gi|1269881407|ref|XM_022895605.1|  PREDICTED: Durio zib...\n",
      "           23      1  gi|1269881405|ref|XM_022895604.1|  PREDICTED: Durio zib...\n",
      "           24      1  gi|1269881403|ref|XM_022895603.1|  PREDICTED: Durio zib...\n",
      "           25      1  gi|2082386146|ref|XM_043113302.1|  PREDICTED: Carya ill...\n",
      "           26      1  gi|2082386143|ref|XM_043113301.1|  PREDICTED: Carya ill...\n",
      "           27      1  gi|1954740698|ref|XM_038867092.1|  PREDICTED: Tripteryg...\n",
      "           28      1  gi|1882636119|ref|XM_018974650.2|  PREDICTED: Juglans r...\n",
      "           29      1  gi|1187397285|gb|KX009413.1|  Santalum album COR413-PM2...\n",
      "           ~~~\n",
      "           47      1  gi|1861285698|gb|MN544658.1|  Populus simonii x Populus...\n",
      "           48      1  gi|1104507484|ref|XM_002274845.4|  PREDICTED: Vitis vin...\n",
      "           49      1  gi|349709091|emb|FQ378501.1|  Vitis vinifera clone SS0A...\n"
     ]
    }
   ],
   "source": [
    "from Bio import SearchIO\n",
    "blast_qresult = SearchIO.read(\"my_blast.xml\", \"blast-xml\")\n",
    "print(blast_qresult)"
   ]
  },
  {
   "cell_type": "markdown",
   "id": "0cbc9621",
   "metadata": {
    "id": "WfulIWoYRecA"
   },
   "source": [
    "By invoking print on the `QueryResult object`, you can see:\n",
    "* The program name and version (blastn version 2.2.27+)\n",
    "* The query ID, description, and its sequence length (ID is 42291, description is ‘mystery seq’, and it is 61 nucleotides long)\n",
    "* The target database to search against (refseq rna)\n",
    "* A quick overview of the resulting hits. For our query sequence, there are 100 potential hits (numbered 0–99 in the table). For each hit, we can also see how many HSPs it contains, its ID, and a snippet of its description. Notice here that `Bio.SearchIO` truncates the hit table overview, by showing only hits numbered 0–29, and then 97–99."
   ]
  },
  {
   "cell_type": "markdown",
   "id": "49e47ebe",
   "metadata": {
    "id": "eUYL3XS0RY_Z"
   },
   "source": [
    "Now let’s check our BLAT results using the same procedure as above:"
   ]
  },
  {
   "cell_type": "code",
   "execution_count": 3,
   "id": "49fcf81e",
   "metadata": {
    "id": "oMkLFxchRafi"
   },
   "outputs": [
    {
     "name": "stdout",
     "output_type": "stream",
     "text": [
      "Program: blat (<unknown version>)\n",
      "  Query: mystery_seq (61)\n",
      "         <unknown description>\n",
      " Target: <unknown target>\n",
      "   Hits: ----  -----  ----------------------------------------------------------\n",
      "            #  # HSP  ID + description\n",
      "         ----  -----  ----------------------------------------------------------\n",
      "            0     17  chr19  <unknown description>\n"
     ]
    }
   ],
   "source": [
    "blat_qresult = SearchIO.read(\"my_blat.psl\", \"blat-psl\")\n",
    "print(blat_qresult)"
   ]
  },
  {
   "cell_type": "markdown",
   "id": "5255c547",
   "metadata": {
    "id": "7Zw5mlshR3Qh"
   },
   "source": [
    "All the details you saw when invoking the print method can be accessed individually using Python’s object attribute access notation (a.k.a. the dot notation). There are also other format-specific attributes that you can access using the same method."
   ]
  },
  {
   "cell_type": "code",
   "execution_count": 4,
   "id": "ac051346",
   "metadata": {
    "id": "mR9CRqvN4xV0"
   },
   "outputs": [
    {
     "name": "stdout",
     "output_type": "stream",
     "text": [
      "blastn 2.14.0+\n",
      "blat <unknown version>\n"
     ]
    },
    {
     "data": {
      "text/plain": [
       "10.0"
      ]
     },
     "execution_count": 4,
     "metadata": {},
     "output_type": "execute_result"
    }
   ],
   "source": [
    "print(\"%s %s\" % (blast_qresult.program, blast_qresult.version))\n",
    "print(\"%s %s\" % (blat_qresult.program, blat_qresult.version))\n",
    "blast_qresult.param_evalue_threshold # blast-xml specific"
   ]
  },
  {
   "cell_type": "markdown",
   "id": "5837f349",
   "metadata": {
    "id": "aZOk7b775Bai"
   },
   "source": [
    "Like Python lists and dictionaries, `QueryResult` objects are iterable. Each iteration returns a `Hit` object:"
   ]
  },
  {
   "cell_type": "code",
   "execution_count": 5,
   "id": "5a0241f4",
   "metadata": {
    "id": "ocklc5DZ5CUd"
   },
   "outputs": [
    {
     "name": "stdout",
     "output_type": "stream",
     "text": [
      "Query: gi|8332116|gb|BE037100.1|BE037100\n",
      "       MP14H09 MP Mesembryanthemum crystallinum cDNA 5' similar to cold accli...\n",
      "  Hit: gi|1219041180|ref|XM_021875076.1| (1173)\n",
      "       PREDICTED: Chenopodium quinoa cold-regulated 413 plasma membrane prote...\n",
      " HSPs: ----  --------  ---------  ------  ---------------  ---------------------\n",
      "          #   E-value  Bit score    Span      Query range              Hit range\n",
      "       ----  --------  ---------  ------  ---------------  ---------------------\n",
      "          0  7.1e-117     435.90     624         [58:678]              [277:901]\n",
      "Query: gi|8332116|gb|BE037100.1|BE037100\n",
      "       MP14H09 MP Mesembryanthemum crystallinum cDNA 5' similar to cold accli...\n",
      "  Hit: gi|1226796956|ref|XM_021992092.1| (672)\n",
      "       PREDICTED: Spinacia oleracea cold-regulated 413 plasma membrane protei...\n",
      " HSPs: ----  --------  ---------  ------  ---------------  ---------------------\n",
      "          #   E-value  Bit score    Span      Query range              Hit range\n",
      "       ----  --------  ---------  ------  ---------------  ---------------------\n",
      "          0  4.5e-113     423.27     590         [62:649]               [10:600]\n",
      "Query: gi|8332116|gb|BE037100.1|BE037100\n",
      "       MP14H09 MP Mesembryanthemum crystallinum cDNA 5' similar to cold accli...\n",
      "  Hit: gi|2252585423|ref|XM_010682658.2| (898)\n",
      "       PREDICTED: Beta vulgaris subsp. vulgaris cold-regulated 413 plasma mem...\n",
      " HSPs: ----  --------  ---------  ------  ---------------  ---------------------\n",
      "          #   E-value  Bit score    Span      Query range              Hit range\n",
      "       ----  --------  ---------  ------  ---------------  ---------------------\n",
      "          0  5.1e-106     400.73     597         [86:679]               [24:621]\n",
      "Query: gi|8332116|gb|BE037100.1|BE037100\n",
      "       MP14H09 MP Mesembryanthemum crystallinum cDNA 5' similar to cold accli...\n",
      "  Hit: gi|2031543140|ref|XM_041168865.1| (1020)\n",
      "       PREDICTED: Juglans microcarpa x Juglans regia cold-regulated 413 plasm...\n",
      " HSPs: ----  --------  ---------  ------  ---------------  ---------------------\n",
      "          #   E-value  Bit score    Span      Query range              Hit range\n",
      "       ----  --------  ---------  ------  ---------------  ---------------------\n",
      "          0  1.8e-105     398.93     593         [64:655]              [253:838]\n",
      "Query: gi|8332116|gb|BE037100.1|BE037100\n",
      "       MP14H09 MP Mesembryanthemum crystallinum cDNA 5' similar to cold accli...\n",
      "  Hit: gi|2247117892|ref|XM_048479995.1| (1030)\n",
      "       PREDICTED: Ziziphus jujuba var. spinosa cold-regulated 413 plasma memb...\n",
      " HSPs: ----  --------  ---------  ------  ---------------  ---------------------\n",
      "          #   E-value  Bit score    Span      Query range              Hit range\n",
      "       ----  --------  ---------  ------  ---------------  ---------------------\n",
      "          0  6.2e-105     397.13     596         [62:655]              [170:757]\n",
      "Query: gi|8332116|gb|BE037100.1|BE037100\n",
      "       MP14H09 MP Mesembryanthemum crystallinum cDNA 5' similar to cold accli...\n",
      "  Hit: gi|2082357255|ref|XM_043119049.1| (1036)\n",
      "       PREDICTED: Carya illinoinensis cold-regulated 413 plasma membrane prot...\n",
      " HSPs: ----  --------  ---------  ------  ---------------  ---------------------\n",
      "          #   E-value  Bit score    Span      Query range              Hit range\n",
      "       ----  --------  ---------  ------  ---------------  ---------------------\n",
      "          0  7.6e-104     392.62     592         [65:655]              [245:829]\n",
      "Query: gi|8332116|gb|BE037100.1|BE037100\n",
      "       MP14H09 MP Mesembryanthemum crystallinum cDNA 5' similar to cold accli...\n",
      "  Hit: gi|2082357253|ref|XM_043119041.1| (1020)\n",
      "       PREDICTED: Carya illinoinensis cold-regulated 413 plasma membrane prot...\n",
      " HSPs: ----  --------  ---------  ------  ---------------  ---------------------\n",
      "          #   E-value  Bit score    Span      Query range              Hit range\n",
      "       ----  --------  ---------  ------  ---------------  ---------------------\n",
      "          0  7.6e-104     392.62     592         [65:655]              [229:813]\n",
      "Query: gi|8332116|gb|BE037100.1|BE037100\n",
      "       MP14H09 MP Mesembryanthemum crystallinum cDNA 5' similar to cold accli...\n",
      "  Hit: gi|1882610310|ref|XM_035691634.1| (909)\n",
      "       PREDICTED: Juglans regia cold-regulated 413 plasma membrane protein 2 ...\n",
      " HSPs: ----  --------  ---------  ------  ---------------  ---------------------\n",
      "          #   E-value  Bit score    Span      Query range              Hit range\n",
      "       ----  --------  ---------  ------  ---------------  ---------------------\n",
      "          0  9.2e-103     389.01     602         [64:655]              [129:726]\n",
      "Query: gi|8332116|gb|BE037100.1|BE037100\n",
      "       MP14H09 MP Mesembryanthemum crystallinum cDNA 5' similar to cold accli...\n",
      "  Hit: gi|1882610309|ref|XM_018970776.2| (1025)\n",
      "       PREDICTED: Juglans regia cold-regulated 413 plasma membrane protein 2 ...\n",
      " HSPs: ----  --------  ---------  ------  ---------------  ---------------------\n",
      "          #   E-value  Bit score    Span      Query range              Hit range\n",
      "       ----  --------  ---------  ------  ---------------  ---------------------\n",
      "          0  9.2e-103     389.01     602         [64:655]              [245:842]\n",
      "Query: gi|8332116|gb|BE037100.1|BE037100\n",
      "       MP14H09 MP Mesembryanthemum crystallinum cDNA 5' similar to cold accli...\n",
      "  Hit: gi|1350315641|ref|XM_024180293.1| (868)\n",
      "       PREDICTED: Citrus clementina cold-regulated 413 plasma membrane protei...\n",
      " HSPs: ----  --------  ---------  ------  ---------------  ---------------------\n",
      "          #   E-value  Bit score    Span      Query range              Hit range\n",
      "       ----  --------  ---------  ------  ---------------  ---------------------\n",
      "          0   7.1e-98     373.68     596         [63:655]              [106:695]\n",
      "Query: gi|8332116|gb|BE037100.1|BE037100\n",
      "       MP14H09 MP Mesembryanthemum crystallinum cDNA 5' similar to cold accli...\n",
      "  Hit: gi|1350315638|ref|XM_006425719.2| (893)\n",
      "       PREDICTED: Citrus clementina cold-regulated 413 plasma membrane protei...\n",
      " HSPs: ----  --------  ---------  ------  ---------------  ---------------------\n",
      "          #   E-value  Bit score    Span      Query range              Hit range\n",
      "       ----  --------  ---------  ------  ---------------  ---------------------\n",
      "          0   7.1e-98     373.68     596         [63:655]              [131:720]\n",
      "Query: gi|8332116|gb|BE037100.1|BE037100\n",
      "       MP14H09 MP Mesembryanthemum crystallinum cDNA 5' similar to cold accli...\n",
      "  Hit: gi|1350315636|ref|XM_006425716.2| (881)\n",
      "       PREDICTED: Citrus clementina cold-regulated 413 plasma membrane protei...\n",
      " HSPs: ----  --------  ---------  ------  ---------------  ---------------------\n",
      "          #   E-value  Bit score    Span      Query range              Hit range\n",
      "       ----  --------  ---------  ------  ---------------  ---------------------\n",
      "          0   7.1e-98     373.68     596         [63:655]              [119:708]\n",
      "Query: gi|8332116|gb|BE037100.1|BE037100\n",
      "       MP14H09 MP Mesembryanthemum crystallinum cDNA 5' similar to cold accli...\n",
      "  Hit: gi|1350315634|ref|XM_006425717.2| (952)\n",
      "       PREDICTED: Citrus clementina cold-regulated 413 plasma membrane protei...\n",
      " HSPs: ----  --------  ---------  ------  ---------------  ---------------------\n",
      "          #   E-value  Bit score    Span      Query range              Hit range\n",
      "       ----  --------  ---------  ------  ---------------  ---------------------\n",
      "          0   7.1e-98     373.68     596         [63:655]              [190:779]\n",
      "Query: gi|8332116|gb|BE037100.1|BE037100\n",
      "       MP14H09 MP Mesembryanthemum crystallinum cDNA 5' similar to cold accli...\n",
      "  Hit: gi|1204884098|ref|XM_021445554.1| (905)\n",
      "       PREDICTED: Herrania umbratica cold-regulated 413 plasma membrane prote...\n",
      " HSPs: ----  --------  ---------  ------  ---------------  ---------------------\n",
      "          #   E-value  Bit score    Span      Query range              Hit range\n",
      "       ----  --------  ---------  ------  ---------------  ---------------------\n",
      "          0   7.1e-98     373.68     594         [63:655]               [16:602]\n",
      "Query: gi|8332116|gb|BE037100.1|BE037100\n",
      "       MP14H09 MP Mesembryanthemum crystallinum cDNA 5' similar to cold accli...\n",
      "  Hit: gi|2395983800|ref|XM_006466626.4| (913)\n",
      "       PREDICTED: Citrus sinensis cold-regulated 413 plasma membrane protein ...\n",
      " HSPs: ----  --------  ---------  ------  ---------------  ---------------------\n",
      "          #   E-value  Bit score    Span      Query range              Hit range\n",
      "       ----  --------  ---------  ------  ---------------  ---------------------\n",
      "          0   7.1e-98     373.68     596         [63:655]              [128:717]\n",
      "Query: gi|8332116|gb|BE037100.1|BE037100\n",
      "       MP14H09 MP Mesembryanthemum crystallinum cDNA 5' similar to cold accli...\n",
      "  Hit: gi|2395983799|ref|XM_006466625.3| (978)\n",
      "       PREDICTED: Citrus sinensis cold-regulated 413 plasma membrane protein ...\n",
      " HSPs: ----  --------  ---------  ------  ---------------  ---------------------\n",
      "          #   E-value  Bit score    Span      Query range              Hit range\n",
      "       ----  --------  ---------  ------  ---------------  ---------------------\n",
      "          0   7.1e-98     373.68     596         [63:655]              [193:782]\n",
      "Query: gi|8332116|gb|BE037100.1|BE037100\n",
      "       MP14H09 MP Mesembryanthemum crystallinum cDNA 5' similar to cold accli...\n",
      "  Hit: gi|2395983798|ref|XM_006466623.4| (1052)\n",
      "       PREDICTED: Citrus sinensis cold-regulated 413 plasma membrane protein ...\n",
      " HSPs: ----  --------  ---------  ------  ---------------  ---------------------\n",
      "          #   E-value  Bit score    Span      Query range              Hit range\n",
      "       ----  --------  ---------  ------  ---------------  ---------------------\n",
      "          0   7.1e-98     373.68     596         [63:655]              [267:856]\n",
      "Query: gi|8332116|gb|BE037100.1|BE037100\n",
      "       MP14H09 MP Mesembryanthemum crystallinum cDNA 5' similar to cold accli...\n",
      "  Hit: gi|2395983797|ref|XM_006466624.4| (968)\n",
      "       PREDICTED: Citrus sinensis cold-regulated 413 plasma membrane protein ...\n",
      " HSPs: ----  --------  ---------  ------  ---------------  ---------------------\n",
      "          #   E-value  Bit score    Span      Query range              Hit range\n",
      "       ----  --------  ---------  ------  ---------------  ---------------------\n",
      "          0   7.1e-98     373.68     596         [63:655]              [183:772]\n",
      "Query: gi|8332116|gb|BE037100.1|BE037100\n",
      "       MP14H09 MP Mesembryanthemum crystallinum cDNA 5' similar to cold accli...\n",
      "  Hit: gi|2395983796|ref|XM_025094967.2| (980)\n",
      "       PREDICTED: Citrus sinensis cold-regulated 413 plasma membrane protein ...\n",
      " HSPs: ----  --------  ---------  ------  ---------------  ---------------------\n",
      "          #   E-value  Bit score    Span      Query range              Hit range\n",
      "       ----  --------  ---------  ------  ---------------  ---------------------\n",
      "          0   7.1e-98     373.68     596         [63:655]              [195:784]\n",
      "Query: gi|8332116|gb|BE037100.1|BE037100\n",
      "       MP14H09 MP Mesembryanthemum crystallinum cDNA 5' similar to cold accli...\n",
      "  Hit: gi|1227938481|ref|XM_022049453.1| (1009)\n",
      "       PREDICTED: Carica papaya cold-regulated 413 plasma membrane protein 2-...\n",
      " HSPs: ----  --------  ---------  ------  ---------------  ---------------------\n",
      "          #   E-value  Bit score    Span      Query range              Hit range\n",
      "       ----  --------  ---------  ------  ---------------  ---------------------\n",
      "          0     3e-96     367.37     595         [60:655]               [84:673]\n",
      "Query: gi|8332116|gb|BE037100.1|BE037100\n",
      "       MP14H09 MP Mesembryanthemum crystallinum cDNA 5' similar to cold accli...\n",
      "  Hit: gi|1063463253|ref|XM_007047033.2| (1071)\n",
      "       PREDICTED: Theobroma cacao cold-regulated 413 plasma membrane protein ...\n",
      " HSPs: ----  --------  ---------  ------  ---------------  ---------------------\n",
      "          #   E-value  Bit score    Span      Query range              Hit range\n",
      "       ----  --------  ---------  ------  ---------------  ---------------------\n",
      "          0   1.3e-94     362.86     605         [53:655]              [226:823]\n",
      "Query: gi|8332116|gb|BE037100.1|BE037100\n",
      "       MP14H09 MP Mesembryanthemum crystallinum cDNA 5' similar to cold accli...\n",
      "  Hit: gi|1063463252|ref|XM_007047032.2| (1065)\n",
      "       PREDICTED: Theobroma cacao cold-regulated 413 plasma membrane protein ...\n",
      " HSPs: ----  --------  ---------  ------  ---------------  ---------------------\n",
      "          #   E-value  Bit score    Span      Query range              Hit range\n",
      "       ----  --------  ---------  ------  ---------------  ---------------------\n",
      "          0   1.3e-94     362.86     605         [53:655]              [220:817]\n",
      "Query: gi|8332116|gb|BE037100.1|BE037100\n",
      "       MP14H09 MP Mesembryanthemum crystallinum cDNA 5' similar to cold accli...\n",
      "  Hit: gi|1269881407|ref|XM_022895605.1| (1069)\n",
      "       PREDICTED: Durio zibethinus cold-regulated 413 plasma membrane protein...\n",
      " HSPs: ----  --------  ---------  ------  ---------------  ---------------------\n",
      "          #   E-value  Bit score    Span      Query range              Hit range\n",
      "       ----  --------  ---------  ------  ---------------  ---------------------\n",
      "          0   4.5e-94     361.06     593         [63:655]              [246:832]\n",
      "Query: gi|8332116|gb|BE037100.1|BE037100\n",
      "       MP14H09 MP Mesembryanthemum crystallinum cDNA 5' similar to cold accli...\n",
      "  Hit: gi|1269881405|ref|XM_022895604.1| (1091)\n",
      "       PREDICTED: Durio zibethinus cold-regulated 413 plasma membrane protein...\n",
      " HSPs: ----  --------  ---------  ------  ---------------  ---------------------\n",
      "          #   E-value  Bit score    Span      Query range              Hit range\n",
      "       ----  --------  ---------  ------  ---------------  ---------------------\n",
      "          0   4.5e-94     361.06     593         [63:655]              [268:854]\n",
      "Query: gi|8332116|gb|BE037100.1|BE037100\n",
      "       MP14H09 MP Mesembryanthemum crystallinum cDNA 5' similar to cold accli...\n",
      "  Hit: gi|1269881403|ref|XM_022895603.1| (1072)\n",
      "       PREDICTED: Durio zibethinus cold-regulated 413 plasma membrane protein...\n",
      " HSPs: ----  --------  ---------  ------  ---------------  ---------------------\n",
      "          #   E-value  Bit score    Span      Query range              Hit range\n",
      "       ----  --------  ---------  ------  ---------------  ---------------------\n",
      "          0   4.5e-94     361.06     593         [63:655]              [249:835]\n",
      "Query: gi|8332116|gb|BE037100.1|BE037100\n",
      "       MP14H09 MP Mesembryanthemum crystallinum cDNA 5' similar to cold accli...\n",
      "  Hit: gi|2082386146|ref|XM_043113302.1| (824)\n",
      "       PREDICTED: Carya illinoinensis cold-regulated 413 plasma membrane prot...\n",
      " HSPs: ----  --------  ---------  ------  ---------------  ---------------------\n",
      "          #   E-value  Bit score    Span      Query range              Hit range\n",
      "       ----  --------  ---------  ------  ---------------  ---------------------\n",
      "          0   1.6e-93     359.25     580         [77:655]              [132:707]\n",
      "Query: gi|8332116|gb|BE037100.1|BE037100\n",
      "       MP14H09 MP Mesembryanthemum crystallinum cDNA 5' similar to cold accli...\n",
      "  Hit: gi|2082386143|ref|XM_043113301.1| (844)\n",
      "       PREDICTED: Carya illinoinensis cold-regulated 413 plasma membrane prot...\n",
      " HSPs: ----  --------  ---------  ------  ---------------  ---------------------\n",
      "          #   E-value  Bit score    Span      Query range              Hit range\n",
      "       ----  --------  ---------  ------  ---------------  ---------------------\n",
      "          0   1.6e-93     359.25     580         [77:655]              [152:727]\n",
      "Query: gi|8332116|gb|BE037100.1|BE037100\n",
      "       MP14H09 MP Mesembryanthemum crystallinum cDNA 5' similar to cold accli...\n",
      "  Hit: gi|1954740698|ref|XM_038867092.1| (999)\n",
      "       PREDICTED: Tripterygium wilfordii cold-regulated 413 plasma membrane p...\n",
      " HSPs: ----  --------  ---------  ------  ---------------  ---------------------\n",
      "          #   E-value  Bit score    Span      Query range              Hit range\n",
      "       ----  --------  ---------  ------  ---------------  ---------------------\n",
      "          0   5.4e-93     356.55     604         [56:655]              [187:780]\n",
      "Query: gi|8332116|gb|BE037100.1|BE037100\n",
      "       MP14H09 MP Mesembryanthemum crystallinum cDNA 5' similar to cold accli...\n",
      "  Hit: gi|1882636119|ref|XM_018974650.2| (1015)\n",
      "       PREDICTED: Juglans regia cold-regulated 413 plasma membrane protein 2-...\n",
      " HSPs: ----  --------  ---------  ------  ---------------  ---------------------\n",
      "          #   E-value  Bit score    Span      Query range              Hit range\n",
      "       ----  --------  ---------  ------  ---------------  ---------------------\n",
      "          0   6.6e-92     353.85     593         [64:655]              [112:697]\n",
      "Query: gi|8332116|gb|BE037100.1|BE037100\n",
      "       MP14H09 MP Mesembryanthemum crystallinum cDNA 5' similar to cold accli...\n",
      "  Hit: gi|1187397285|gb|KX009413.1| (837)\n",
      "       Santalum album COR413-PM2 mRNA, complete cds\n",
      " HSPs: ----  --------  ---------  ------  ---------------  ---------------------\n",
      "          #   E-value  Bit score    Span      Query range              Hit range\n",
      "       ----  --------  ---------  ------  ---------------  ---------------------\n",
      "          0   2.3e-91     351.14     595         [64:658]               [24:612]\n",
      "Query: gi|8332116|gb|BE037100.1|BE037100\n",
      "       MP14H09 MP Mesembryanthemum crystallinum cDNA 5' similar to cold accli...\n",
      "  Hit: gi|2250518185|ref|XM_009343631.3| (787)\n",
      "       PREDICTED: Pyrus x bretschneideri cold-regulated 413 plasma membrane p...\n",
      " HSPs: ----  --------  ---------  ------  ---------------  ---------------------\n",
      "          #   E-value  Bit score    Span      Query range              Hit range\n",
      "       ----  --------  ---------  ------  ---------------  ---------------------\n",
      "          0   1.2e-88     342.12     533        [123:655]               [76:608]\n",
      "Query: gi|8332116|gb|BE037100.1|BE037100\n",
      "       MP14H09 MP Mesembryanthemum crystallinum cDNA 5' similar to cold accli...\n",
      "  Hit: gi|1350280614|ref|XM_024170292.1| (1020)\n",
      "       PREDICTED: Morus notabilis cold-regulated 413 plasma membrane protein ...\n",
      " HSPs: ----  --------  ---------  ------  ---------------  ---------------------\n",
      "          #   E-value  Bit score    Span      Query range              Hit range\n",
      "       ----  --------  ---------  ------  ---------------  ---------------------\n",
      "          0   4.2e-88     341.22     593         [63:655]              [337:920]\n",
      "Query: gi|8332116|gb|BE037100.1|BE037100\n",
      "       MP14H09 MP Mesembryanthemum crystallinum cDNA 5' similar to cold accli...\n",
      "  Hit: gi|743838297|ref|XM_011027373.1| (1132)\n",
      "       PREDICTED: Populus euphratica cold-regulated 413 plasma membrane prote...\n",
      " HSPs: ----  --------  ---------  ------  ---------------  ---------------------\n",
      "          #   E-value  Bit score    Span      Query range              Hit range\n",
      "       ----  --------  ---------  ------  ---------------  ---------------------\n",
      "          0   4.2e-88     340.32     596         [62:655]              [269:859]\n",
      "Query: gi|8332116|gb|BE037100.1|BE037100\n",
      "       MP14H09 MP Mesembryanthemum crystallinum cDNA 5' similar to cold accli...\n",
      "  Hit: gi|743838293|ref|XM_011027372.1| (980)\n",
      "       PREDICTED: Populus euphratica cold-regulated 413 plasma membrane prote...\n",
      " HSPs: ----  --------  ---------  ------  ---------------  ---------------------\n",
      "          #   E-value  Bit score    Span      Query range              Hit range\n",
      "       ----  --------  ---------  ------  ---------------  ---------------------\n",
      "          0   4.2e-88     340.32     596         [62:655]              [117:707]\n",
      "Query: gi|8332116|gb|BE037100.1|BE037100\n",
      "       MP14H09 MP Mesembryanthemum crystallinum cDNA 5' similar to cold accli...\n",
      "  Hit: gi|1768569081|ref|XM_031406607.1| (982)\n",
      "       PREDICTED: Pistacia vera cold-regulated 413 plasma membrane protein 2-...\n",
      " HSPs: ----  --------  ---------  ------  ---------------  ---------------------\n",
      "          #   E-value  Bit score    Span      Query range              Hit range\n",
      "       ----  --------  ---------  ------  ---------------  ---------------------\n",
      "          0   5.1e-87     336.71     595         [62:655]              [265:855]\n",
      "Query: gi|8332116|gb|BE037100.1|BE037100\n",
      "       MP14H09 MP Mesembryanthemum crystallinum cDNA 5' similar to cold accli...\n",
      "  Hit: gi|1216950057|ref|XM_021815585.1| (1073)\n",
      "       PREDICTED: Hevea brasiliensis cold-regulated 413 plasma membrane prote...\n",
      " HSPs: ----  --------  ---------  ------  ---------------  ---------------------\n",
      "          #   E-value  Bit score    Span      Query range              Hit range\n",
      "       ----  --------  ---------  ------  ---------------  ---------------------\n",
      "          0   5.1e-87     336.71     595         [63:655]              [207:793]\n",
      "Query: gi|8332116|gb|BE037100.1|BE037100\n",
      "       MP14H09 MP Mesembryanthemum crystallinum cDNA 5' similar to cold accli...\n",
      "  Hit: gi|1216950055|ref|XM_021815584.1| (1024)\n",
      "       PREDICTED: Hevea brasiliensis cold-regulated 413 plasma membrane prote...\n",
      " HSPs: ----  --------  ---------  ------  ---------------  ---------------------\n",
      "          #   E-value  Bit score    Span      Query range              Hit range\n",
      "       ----  --------  ---------  ------  ---------------  ---------------------\n",
      "          0   5.1e-87     336.71     595         [63:655]              [201:787]\n",
      "Query: gi|8332116|gb|BE037100.1|BE037100\n",
      "       MP14H09 MP Mesembryanthemum crystallinum cDNA 5' similar to cold accli...\n",
      "  Hit: gi|2396494064|ref|XM_024605027.2| (1178)\n",
      "       PREDICTED: Populus trichocarpa cold-regulated 413 plasma membrane prot...\n",
      " HSPs: ----  --------  ---------  ------  ---------------  ---------------------\n",
      "          #   E-value  Bit score    Span      Query range              Hit range\n",
      "       ----  --------  ---------  ------  ---------------  ---------------------\n",
      "          0   1.8e-86     335.81     596         [62:655]              [294:884]\n",
      "Query: gi|8332116|gb|BE037100.1|BE037100\n",
      "       MP14H09 MP Mesembryanthemum crystallinum cDNA 5' similar to cold accli...\n",
      "  Hit: gi|2396494060|ref|XM_052454347.1| (1018)\n",
      "       PREDICTED: Populus trichocarpa cold-regulated 413 plasma membrane prot...\n",
      " HSPs: ----  --------  ---------  ------  ---------------  ---------------------\n",
      "          #   E-value  Bit score    Span      Query range              Hit range\n",
      "       ----  --------  ---------  ------  ---------------  ---------------------\n",
      "          0   1.8e-86     335.81     596         [62:655]              [134:724]\n",
      "Query: gi|8332116|gb|BE037100.1|BE037100\n",
      "       MP14H09 MP Mesembryanthemum crystallinum cDNA 5' similar to cold accli...\n",
      "  Hit: gi|1585724761|ref|XM_028202722.1| (910)\n",
      "       PREDICTED: Camellia sinensis cold-regulated 413 plasma membrane protei...\n",
      " HSPs: ----  --------  ---------  ------  ---------------  ---------------------\n",
      "          #   E-value  Bit score    Span      Query range              Hit range\n",
      "       ----  --------  ---------  ------  ---------------  ---------------------\n",
      "          0   6.2e-86     333.11     577         [60:635]               [82:657]\n",
      "Query: gi|8332116|gb|BE037100.1|BE037100\n",
      "       MP14H09 MP Mesembryanthemum crystallinum cDNA 5' similar to cold accli...\n",
      "  Hit: gi|1860377401|ref|XM_035077206.1| (916)\n",
      "       PREDICTED: Populus alba cold-regulated 413 plasma membrane protein 2-l...\n",
      " HSPs: ----  --------  ---------  ------  ---------------  ---------------------\n",
      "          #   E-value  Bit score    Span      Query range              Hit range\n",
      "       ----  --------  ---------  ------  ---------------  ---------------------\n",
      "          0   2.2e-85     331.30     596         [62:655]               [82:672]\n",
      "Query: gi|8332116|gb|BE037100.1|BE037100\n",
      "       MP14H09 MP Mesembryanthemum crystallinum cDNA 5' similar to cold accli...\n",
      "  Hit: gi|1860377399|ref|XM_035077205.1| (1109)\n",
      "       PREDICTED: Populus alba cold-regulated 413 plasma membrane protein 2-l...\n",
      " HSPs: ----  --------  ---------  ------  ---------------  ---------------------\n",
      "          #   E-value  Bit score    Span      Query range              Hit range\n",
      "       ----  --------  ---------  ------  ---------------  ---------------------\n",
      "          0   2.2e-85     331.30     596         [62:655]              [275:865]\n",
      "Query: gi|8332116|gb|BE037100.1|BE037100\n",
      "       MP14H09 MP Mesembryanthemum crystallinum cDNA 5' similar to cold accli...\n",
      "  Hit: gi|1162571919|ref|XM_020568695.1| (929)\n",
      "       PREDICTED: Prunus persica cold-regulated 413 plasma membrane protein 2...\n",
      " HSPs: ----  --------  ---------  ------  ---------------  ---------------------\n",
      "          #   E-value  Bit score    Span      Query range              Hit range\n",
      "       ----  --------  ---------  ------  ---------------  ---------------------\n",
      "          0   2.6e-84     328.60     533        [123:655]              [274:806]\n",
      "Query: gi|8332116|gb|BE037100.1|BE037100\n",
      "       MP14H09 MP Mesembryanthemum crystallinum cDNA 5' similar to cold accli...\n",
      "  Hit: gi|1162571918|ref|XM_007202530.2| (811)\n",
      "       PREDICTED: Prunus persica cold-regulated 413 plasma membrane protein 2...\n",
      " HSPs: ----  --------  ---------  ------  ---------------  ---------------------\n",
      "          #   E-value  Bit score    Span      Query range              Hit range\n",
      "       ----  --------  ---------  ------  ---------------  ---------------------\n",
      "          0   2.6e-84     328.60     533        [123:655]              [156:688]\n",
      "Query: gi|8332116|gb|BE037100.1|BE037100\n",
      "       MP14H09 MP Mesembryanthemum crystallinum cDNA 5' similar to cold accli...\n",
      "  Hit: gi|1229761331|ref|XM_022277554.1| (850)\n",
      "       PREDICTED: Momordica charantia cold-regulated 413 plasma membrane prot...\n",
      " HSPs: ----  --------  ---------  ------  ---------------  ---------------------\n",
      "          #   E-value  Bit score    Span      Query range              Hit range\n",
      "       ----  --------  ---------  ------  ---------------  ---------------------\n",
      "          0   9.2e-84     325.89     528        [129:655]              [123:649]\n",
      "Query: gi|8332116|gb|BE037100.1|BE037100\n",
      "       MP14H09 MP Mesembryanthemum crystallinum cDNA 5' similar to cold accli...\n",
      "  Hit: gi|2118882425|ref|XM_044613294.1| (1083)\n",
      "       PREDICTED: Mangifera indica cold-regulated 413 plasma membrane protein...\n",
      " HSPs: ----  --------  ---------  ------  ---------------  ---------------------\n",
      "          #   E-value  Bit score    Span      Query range              Hit range\n",
      "       ----  --------  ---------  ------  ---------------  ---------------------\n",
      "          0   3.2e-83     324.09     594         [62:655]              [227:817]\n",
      "Query: gi|8332116|gb|BE037100.1|BE037100\n",
      "       MP14H09 MP Mesembryanthemum crystallinum cDNA 5' similar to cold accli...\n",
      "  Hit: gi|764593175|ref|XM_004300526.2| (1105)\n",
      "       PREDICTED: Fragaria vesca subsp. vesca cold-regulated 413 plasma membr...\n",
      " HSPs: ----  --------  ---------  ------  ---------------  ---------------------\n",
      "          #   E-value  Bit score    Span      Query range              Hit range\n",
      "       ----  --------  ---------  ------  ---------------  ---------------------\n",
      "          0   1.1e-82     323.19     596         [65:655]              [313:900]\n",
      "Query: gi|8332116|gb|BE037100.1|BE037100\n",
      "       MP14H09 MP Mesembryanthemum crystallinum cDNA 5' similar to cold accli...\n",
      "  Hit: gi|1861285698|gb|MN544658.1| (639)\n",
      "       Populus simonii x Populus nigra cold temperature stress protein (WCOR4...\n",
      " HSPs: ----  --------  ---------  ------  ---------------  ---------------------\n",
      "          #   E-value  Bit score    Span      Query range              Hit range\n",
      "       ----  --------  ---------  ------  ---------------  ---------------------\n",
      "          0   1.1e-82     323.19     542        [116:655]               [48:585]\n",
      "Query: gi|8332116|gb|BE037100.1|BE037100\n",
      "       MP14H09 MP Mesembryanthemum crystallinum cDNA 5' similar to cold accli...\n",
      "  Hit: gi|1104507484|ref|XM_002274845.4| (893)\n",
      "       PREDICTED: Vitis vinifera cold-regulated 413 plasma membrane protein 2...\n",
      " HSPs: ----  --------  ---------  ------  ---------------  ---------------------\n",
      "          #   E-value  Bit score    Span      Query range              Hit range\n",
      "       ----  --------  ---------  ------  ---------------  ---------------------\n",
      "          0   3.9e-82     321.38     601         [55:655]               [79:673]\n",
      "Query: gi|8332116|gb|BE037100.1|BE037100\n",
      "       MP14H09 MP Mesembryanthemum crystallinum cDNA 5' similar to cold accli...\n",
      "  Hit: gi|349709091|emb|FQ378501.1| (834)\n",
      "       Vitis vinifera clone SS0AEB13YG07\n",
      " HSPs: ----  --------  ---------  ------  ---------------  ---------------------\n",
      "          #   E-value  Bit score    Span      Query range              Hit range\n",
      "       ----  --------  ---------  ------  ---------------  ---------------------\n",
      "          0   3.9e-82     321.38     601         [55:655]               [58:652]\n"
     ]
    }
   ],
   "source": [
    "for hit in blast_qresult:\n",
    "    print(hit)"
   ]
  },
  {
   "cell_type": "markdown",
   "id": "367d70b4",
   "metadata": {
    "id": "DozGn_QS5RM2"
   },
   "source": [
    "To check how many items (hits) a QueryResult has, you can simply invoke Python’s len method:"
   ]
  },
  {
   "cell_type": "code",
   "execution_count": 6,
   "id": "2803e7c6",
   "metadata": {
    "id": "kYdzvqZM5TVo"
   },
   "outputs": [
    {
     "name": "stdout",
     "output_type": "stream",
     "text": [
      "50\n",
      "1\n"
     ]
    }
   ],
   "source": [
    "print(len(blast_qresult))\n",
    "print(len(blat_qresult))"
   ]
  },
  {
   "cell_type": "code",
   "execution_count": 7,
   "id": "f2ae8c33",
   "metadata": {
    "id": "z9iF5gli5X6F"
   },
   "outputs": [
    {
     "data": {
      "text/plain": [
       "Hit(id='gi|349709091|emb|FQ378501.1|', query_id='gi|8332116|gb|BE037100.1|BE037100', 1 hsps)"
      ]
     },
     "execution_count": 7,
     "metadata": {},
     "output_type": "execute_result"
    }
   ],
   "source": [
    "blast_qresult[0] # retrieves the top hit\n",
    "blast_qresult[-1] # retrieves the last hit"
   ]
  },
  {
   "cell_type": "code",
   "execution_count": 8,
   "id": "319e18ef",
   "metadata": {
    "id": "A3vnx4y75c81"
   },
   "outputs": [
    {
     "name": "stdout",
     "output_type": "stream",
     "text": [
      "Program: blastn (2.14.0+)\n",
      "  Query: gi|8332116|gb|BE037100.1|BE037100 (1111)\n",
      "         MP14H09 MP Mesembryanthemum crystallinum cDNA 5' similar to cold acc...\n",
      " Target: nt\n",
      "   Hits: ----  -----  ----------------------------------------------------------\n",
      "            #  # HSP  ID + description\n",
      "         ----  -----  ----------------------------------------------------------\n",
      "            0      1  gi|1219041180|ref|XM_021875076.1|  PREDICTED: Chenopodi...\n",
      "            1      1  gi|1226796956|ref|XM_021992092.1|  PREDICTED: Spinacia ...\n",
      "            2      1  gi|2252585423|ref|XM_010682658.2|  PREDICTED: Beta vulg...\n"
     ]
    }
   ],
   "source": [
    "blast_slice = blast_qresult[:3] # slices the first three hits\n",
    "print(blast_slice)"
   ]
  },
  {
   "cell_type": "markdown",
   "id": "56ebeefb",
   "metadata": {
    "id": "3ZIw-etO5XRr"
   },
   "source": [
    "Like Python dictionaries, you can also retrieve hits using the hit’s ID. This is particularly useful if you know a given hit ID exists within a search query results:"
   ]
  },
  {
   "cell_type": "code",
   "execution_count": 9,
   "id": "ee597595",
   "metadata": {
    "id": "FEzNfHwl5jaL"
   },
   "outputs": [
    {
     "data": {
      "text/plain": [
       "Hit(id='gi|1219041180|ref|XM_021875076.1|', query_id='gi|8332116|gb|BE037100.1|BE037100', 1 hsps)"
      ]
     },
     "execution_count": 9,
     "metadata": {},
     "output_type": "execute_result"
    }
   ],
   "source": [
    "blast_qresult[\"gi|1219041180|ref|XM_021875076.1|\"] # \"gi|262205317|ref|NR_030195.1|\" in original code"
   ]
  },
  {
   "cell_type": "code",
   "execution_count": 10,
   "id": "203d0794",
   "metadata": {
    "id": "eoudXpYg5oIo",
    "scrolled": false
   },
   "outputs": [
    {
     "data": {
      "text/plain": [
       "[Hit(id='gi|1219041180|ref|XM_021875076.1|', query_id='gi|8332116|gb|BE037100.1|BE037100', 1 hsps),\n",
       " Hit(id='gi|1226796956|ref|XM_021992092.1|', query_id='gi|8332116|gb|BE037100.1|BE037100', 1 hsps),\n",
       " Hit(id='gi|2252585423|ref|XM_010682658.2|', query_id='gi|8332116|gb|BE037100.1|BE037100', 1 hsps),\n",
       " Hit(id='gi|2031543140|ref|XM_041168865.1|', query_id='gi|8332116|gb|BE037100.1|BE037100', 1 hsps),\n",
       " Hit(id='gi|2247117892|ref|XM_048479995.1|', query_id='gi|8332116|gb|BE037100.1|BE037100', 1 hsps),\n",
       " Hit(id='gi|2082357255|ref|XM_043119049.1|', query_id='gi|8332116|gb|BE037100.1|BE037100', 1 hsps),\n",
       " Hit(id='gi|2082357253|ref|XM_043119041.1|', query_id='gi|8332116|gb|BE037100.1|BE037100', 1 hsps),\n",
       " Hit(id='gi|1882610310|ref|XM_035691634.1|', query_id='gi|8332116|gb|BE037100.1|BE037100', 1 hsps),\n",
       " Hit(id='gi|1882610309|ref|XM_018970776.2|', query_id='gi|8332116|gb|BE037100.1|BE037100', 1 hsps),\n",
       " Hit(id='gi|1350315641|ref|XM_024180293.1|', query_id='gi|8332116|gb|BE037100.1|BE037100', 1 hsps),\n",
       " Hit(id='gi|1350315638|ref|XM_006425719.2|', query_id='gi|8332116|gb|BE037100.1|BE037100', 1 hsps),\n",
       " Hit(id='gi|1350315636|ref|XM_006425716.2|', query_id='gi|8332116|gb|BE037100.1|BE037100', 1 hsps),\n",
       " Hit(id='gi|1350315634|ref|XM_006425717.2|', query_id='gi|8332116|gb|BE037100.1|BE037100', 1 hsps),\n",
       " Hit(id='gi|1204884098|ref|XM_021445554.1|', query_id='gi|8332116|gb|BE037100.1|BE037100', 1 hsps),\n",
       " Hit(id='gi|2395983800|ref|XM_006466626.4|', query_id='gi|8332116|gb|BE037100.1|BE037100', 1 hsps),\n",
       " Hit(id='gi|2395983799|ref|XM_006466625.3|', query_id='gi|8332116|gb|BE037100.1|BE037100', 1 hsps),\n",
       " Hit(id='gi|2395983798|ref|XM_006466623.4|', query_id='gi|8332116|gb|BE037100.1|BE037100', 1 hsps),\n",
       " Hit(id='gi|2395983797|ref|XM_006466624.4|', query_id='gi|8332116|gb|BE037100.1|BE037100', 1 hsps),\n",
       " Hit(id='gi|2395983796|ref|XM_025094967.2|', query_id='gi|8332116|gb|BE037100.1|BE037100', 1 hsps),\n",
       " Hit(id='gi|1227938481|ref|XM_022049453.1|', query_id='gi|8332116|gb|BE037100.1|BE037100', 1 hsps),\n",
       " Hit(id='gi|1063463253|ref|XM_007047033.2|', query_id='gi|8332116|gb|BE037100.1|BE037100', 1 hsps),\n",
       " Hit(id='gi|1063463252|ref|XM_007047032.2|', query_id='gi|8332116|gb|BE037100.1|BE037100', 1 hsps),\n",
       " Hit(id='gi|1269881407|ref|XM_022895605.1|', query_id='gi|8332116|gb|BE037100.1|BE037100', 1 hsps),\n",
       " Hit(id='gi|1269881405|ref|XM_022895604.1|', query_id='gi|8332116|gb|BE037100.1|BE037100', 1 hsps),\n",
       " Hit(id='gi|1269881403|ref|XM_022895603.1|', query_id='gi|8332116|gb|BE037100.1|BE037100', 1 hsps),\n",
       " Hit(id='gi|2082386146|ref|XM_043113302.1|', query_id='gi|8332116|gb|BE037100.1|BE037100', 1 hsps),\n",
       " Hit(id='gi|2082386143|ref|XM_043113301.1|', query_id='gi|8332116|gb|BE037100.1|BE037100', 1 hsps),\n",
       " Hit(id='gi|1954740698|ref|XM_038867092.1|', query_id='gi|8332116|gb|BE037100.1|BE037100', 1 hsps),\n",
       " Hit(id='gi|1882636119|ref|XM_018974650.2|', query_id='gi|8332116|gb|BE037100.1|BE037100', 1 hsps),\n",
       " Hit(id='gi|1187397285|gb|KX009413.1|', query_id='gi|8332116|gb|BE037100.1|BE037100', 1 hsps),\n",
       " Hit(id='gi|2250518185|ref|XM_009343631.3|', query_id='gi|8332116|gb|BE037100.1|BE037100', 1 hsps),\n",
       " Hit(id='gi|1350280614|ref|XM_024170292.1|', query_id='gi|8332116|gb|BE037100.1|BE037100', 1 hsps),\n",
       " Hit(id='gi|743838297|ref|XM_011027373.1|', query_id='gi|8332116|gb|BE037100.1|BE037100', 1 hsps),\n",
       " Hit(id='gi|743838293|ref|XM_011027372.1|', query_id='gi|8332116|gb|BE037100.1|BE037100', 1 hsps),\n",
       " Hit(id='gi|1768569081|ref|XM_031406607.1|', query_id='gi|8332116|gb|BE037100.1|BE037100', 1 hsps),\n",
       " Hit(id='gi|1216950057|ref|XM_021815585.1|', query_id='gi|8332116|gb|BE037100.1|BE037100', 1 hsps),\n",
       " Hit(id='gi|1216950055|ref|XM_021815584.1|', query_id='gi|8332116|gb|BE037100.1|BE037100', 1 hsps),\n",
       " Hit(id='gi|2396494064|ref|XM_024605027.2|', query_id='gi|8332116|gb|BE037100.1|BE037100', 1 hsps),\n",
       " Hit(id='gi|2396494060|ref|XM_052454347.1|', query_id='gi|8332116|gb|BE037100.1|BE037100', 1 hsps),\n",
       " Hit(id='gi|1585724761|ref|XM_028202722.1|', query_id='gi|8332116|gb|BE037100.1|BE037100', 1 hsps),\n",
       " Hit(id='gi|1860377401|ref|XM_035077206.1|', query_id='gi|8332116|gb|BE037100.1|BE037100', 1 hsps),\n",
       " Hit(id='gi|1860377399|ref|XM_035077205.1|', query_id='gi|8332116|gb|BE037100.1|BE037100', 1 hsps),\n",
       " Hit(id='gi|1162571919|ref|XM_020568695.1|', query_id='gi|8332116|gb|BE037100.1|BE037100', 1 hsps),\n",
       " Hit(id='gi|1162571918|ref|XM_007202530.2|', query_id='gi|8332116|gb|BE037100.1|BE037100', 1 hsps),\n",
       " Hit(id='gi|1229761331|ref|XM_022277554.1|', query_id='gi|8332116|gb|BE037100.1|BE037100', 1 hsps),\n",
       " Hit(id='gi|2118882425|ref|XM_044613294.1|', query_id='gi|8332116|gb|BE037100.1|BE037100', 1 hsps),\n",
       " Hit(id='gi|764593175|ref|XM_004300526.2|', query_id='gi|8332116|gb|BE037100.1|BE037100', 1 hsps),\n",
       " Hit(id='gi|1861285698|gb|MN544658.1|', query_id='gi|8332116|gb|BE037100.1|BE037100', 1 hsps),\n",
       " Hit(id='gi|1104507484|ref|XM_002274845.4|', query_id='gi|8332116|gb|BE037100.1|BE037100', 1 hsps),\n",
       " Hit(id='gi|349709091|emb|FQ378501.1|', query_id='gi|8332116|gb|BE037100.1|BE037100', 1 hsps)]"
      ]
     },
     "execution_count": 10,
     "metadata": {},
     "output_type": "execute_result"
    }
   ],
   "source": [
    "blast_qresult.hits"
   ]
  },
  {
   "cell_type": "code",
   "execution_count": 11,
   "id": "a2c83b90",
   "metadata": {
    "id": "7qTF-nGB5psL",
    "scrolled": false
   },
   "outputs": [
    {
     "data": {
      "text/plain": [
       "['gi|1219041180|ref|XM_021875076.1|',\n",
       " 'gi|1226796956|ref|XM_021992092.1|',\n",
       " 'gi|2252585423|ref|XM_010682658.2|',\n",
       " 'gi|2031543140|ref|XM_041168865.1|',\n",
       " 'gi|2247117892|ref|XM_048479995.1|',\n",
       " 'gi|2082357255|ref|XM_043119049.1|',\n",
       " 'gi|2082357253|ref|XM_043119041.1|',\n",
       " 'gi|1882610310|ref|XM_035691634.1|',\n",
       " 'gi|1882610309|ref|XM_018970776.2|',\n",
       " 'gi|1350315641|ref|XM_024180293.1|',\n",
       " 'gi|1350315638|ref|XM_006425719.2|',\n",
       " 'gi|1350315636|ref|XM_006425716.2|',\n",
       " 'gi|1350315634|ref|XM_006425717.2|',\n",
       " 'gi|1204884098|ref|XM_021445554.1|',\n",
       " 'gi|2395983800|ref|XM_006466626.4|',\n",
       " 'gi|2395983799|ref|XM_006466625.3|',\n",
       " 'gi|2395983798|ref|XM_006466623.4|',\n",
       " 'gi|2395983797|ref|XM_006466624.4|',\n",
       " 'gi|2395983796|ref|XM_025094967.2|',\n",
       " 'gi|1227938481|ref|XM_022049453.1|',\n",
       " 'gi|1063463253|ref|XM_007047033.2|',\n",
       " 'gi|1063463252|ref|XM_007047032.2|',\n",
       " 'gi|1269881407|ref|XM_022895605.1|',\n",
       " 'gi|1269881405|ref|XM_022895604.1|',\n",
       " 'gi|1269881403|ref|XM_022895603.1|',\n",
       " 'gi|2082386146|ref|XM_043113302.1|',\n",
       " 'gi|2082386143|ref|XM_043113301.1|',\n",
       " 'gi|1954740698|ref|XM_038867092.1|',\n",
       " 'gi|1882636119|ref|XM_018974650.2|',\n",
       " 'gi|1187397285|gb|KX009413.1|',\n",
       " 'gi|2250518185|ref|XM_009343631.3|',\n",
       " 'gi|1350280614|ref|XM_024170292.1|',\n",
       " 'gi|743838297|ref|XM_011027373.1|',\n",
       " 'gi|743838293|ref|XM_011027372.1|',\n",
       " 'gi|1768569081|ref|XM_031406607.1|',\n",
       " 'gi|1216950057|ref|XM_021815585.1|',\n",
       " 'gi|1216950055|ref|XM_021815584.1|',\n",
       " 'gi|2396494064|ref|XM_024605027.2|',\n",
       " 'gi|2396494060|ref|XM_052454347.1|',\n",
       " 'gi|1585724761|ref|XM_028202722.1|',\n",
       " 'gi|1860377401|ref|XM_035077206.1|',\n",
       " 'gi|1860377399|ref|XM_035077205.1|',\n",
       " 'gi|1162571919|ref|XM_020568695.1|',\n",
       " 'gi|1162571918|ref|XM_007202530.2|',\n",
       " 'gi|1229761331|ref|XM_022277554.1|',\n",
       " 'gi|2118882425|ref|XM_044613294.1|',\n",
       " 'gi|764593175|ref|XM_004300526.2|',\n",
       " 'gi|1861285698|gb|MN544658.1|',\n",
       " 'gi|1104507484|ref|XM_002274845.4|',\n",
       " 'gi|349709091|emb|FQ378501.1|']"
      ]
     },
     "execution_count": 11,
     "metadata": {},
     "output_type": "execute_result"
    }
   ],
   "source": [
    "blast_qresult.hit_keys"
   ]
  },
  {
   "cell_type": "markdown",
   "id": "da109397",
   "metadata": {
    "id": "6gLYoxzO5v2q"
   },
   "source": [
    "What if you just want to check whether a particular hit is present in the query results? You can do a simple Python membership test using the in keyword:"
   ]
  },
  {
   "cell_type": "code",
   "execution_count": 12,
   "id": "21a271d0",
   "metadata": {
    "id": "rJIPqPOM5zYK"
   },
   "outputs": [
    {
     "name": "stdout",
     "output_type": "stream",
     "text": [
      "True\n",
      "False\n"
     ]
    }
   ],
   "source": [
    "print(\"gi|1219041180|ref|XM_021875076.1|\" in blast_qresult) # \"gi|262205317|ref|NR_030195.1|\" in blast_qresult\n",
    "print(\"gi|262205317|ref|NR_030195.1|\" in blast_qresult) # \"gi|262205317|ref|NR_030194.1|\" in blast_qresult"
   ]
  },
  {
   "cell_type": "code",
   "execution_count": 13,
   "id": "0835d8f7",
   "metadata": {
    "id": "fDxFSt3Y52EG"
   },
   "outputs": [
    {
     "data": {
      "text/plain": [
       "47"
      ]
     },
     "execution_count": 13,
     "metadata": {},
     "output_type": "execute_result"
    }
   ],
   "source": [
    "blast_qresult.index(\"gi|1861285698|gb|MN544658.1|\") # \"gi|301171437|ref|NR_035870.1|\" in original code"
   ]
  },
  {
   "cell_type": "markdown",
   "id": "f44556a0",
   "metadata": {
    "id": "o1yWh7s47boQ"
   },
   "source": [
    "If the native hit ordering doesn’t suit your taste, you can use the sort method of the `QueryResult` object. It is very similar to Python’s `list.sort` method, with the addition of an option to create a new sorted QueryResult object or not.\n",
    "\n",
    "For this particular sort, we’ll set the `in_place` flag to False so that sorting will return a new `QueryResult` object and leave our initial object unsorted."
   ]
  },
  {
   "cell_type": "code",
   "execution_count": 14,
   "id": "425e9fd7",
   "metadata": {
    "id": "VPAShdKF7lfR"
   },
   "outputs": [
    {
     "name": "stdout",
     "output_type": "stream",
     "text": [
      "gi|1219041180|ref|XM_021875076.1| 1173\n",
      "gi|1226796956|ref|XM_021992092.1| 672\n",
      "gi|2252585423|ref|XM_010682658.2| 898\n",
      "gi|2031543140|ref|XM_041168865.1| 1020\n",
      "gi|2247117892|ref|XM_048479995.1| 1030\n"
     ]
    }
   ],
   "source": [
    "for hit in blast_qresult[:5]: # id and sequence length of the first five hits\n",
    "    print(\"%s %i\" % (hit.id, hit.seq_len))"
   ]
  },
  {
   "cell_type": "code",
   "execution_count": 15,
   "id": "69e3edf5",
   "metadata": {
    "id": "enpQucsf7pF1"
   },
   "outputs": [
    {
     "name": "stdout",
     "output_type": "stream",
     "text": [
      "gi|2396494064|ref|XM_024605027.2| 1178\n",
      "gi|1219041180|ref|XM_021875076.1| 1173\n",
      "gi|743838297|ref|XM_011027373.1| 1132\n",
      "gi|1860377399|ref|XM_035077205.1| 1109\n",
      "gi|764593175|ref|XM_004300526.2| 1105\n"
     ]
    }
   ],
   "source": [
    "sort_key = lambda hit: hit.seq_len\n",
    "sorted_qresult = blast_qresult.sort(key=sort_key, reverse=True, in_place=False)\n",
    "for hit in sorted_qresult[:5]:\n",
    "    print(\"%s %i\" % (hit.id, hit.seq_len))"
   ]
  },
  {
   "cell_type": "markdown",
   "id": "d469d8ad",
   "metadata": {
    "id": "XRnnGrwg93qP"
   },
   "source": [
    "Here is an example of using `hit_filter` to filter out `Hit` objects that only have one HSP:"
   ]
  },
  {
   "cell_type": "code",
   "execution_count": 16,
   "id": "916a2fff",
   "metadata": {
    "id": "XagFMoog97xP"
   },
   "outputs": [
    {
     "name": "stdout",
     "output_type": "stream",
     "text": [
      "50\n",
      "50\n",
      "gi|1219041180|ref|XM_021875076.1| 1\n",
      "gi|1226796956|ref|XM_021992092.1| 1\n",
      "gi|2252585423|ref|XM_010682658.2| 1\n",
      "gi|2031543140|ref|XM_041168865.1| 1\n",
      "gi|2247117892|ref|XM_048479995.1| 1\n"
     ]
    }
   ],
   "source": [
    "filter_func = lambda hit: len(hit.hsps) > 0 # the callback function\n",
    "print(len(blast_qresult)) # no. of hits before filtering\n",
    "\n",
    "filtered_qresult = blast_qresult.hit_filter(filter_func)\n",
    "print(len(filtered_qresult)) # no. of hits after filtering\n",
    "\n",
    "for hit in filtered_qresult[:5]: # quick check for the hit lengths\n",
    "    print(\"%s %i\" % (hit.id, len(hit.hsps)))"
   ]
  },
  {
   "cell_type": "markdown",
   "id": "10ebecb7",
   "metadata": {
    "id": "K4gD9fAv-NeG"
   },
   "source": [
    "`hsp_filter` works the same as `hit_filter`, only instead of looking at the Hit objects, it performs filtering on the HSP objects in each hits."
   ]
  },
  {
   "cell_type": "code",
   "execution_count": 17,
   "id": "4b019718",
   "metadata": {
    "id": "4qUr_Htq-CeI"
   },
   "outputs": [
    {
     "name": "stdout",
     "output_type": "stream",
     "text": [
      "XM_021875076.1\n",
      "XM_021992092.1\n",
      "XM_010682658.2\n",
      "XM_041168865.1\n",
      "XM_048479995.1\n"
     ]
    }
   ],
   "source": [
    "def map_func(hit):\n",
    "    # renames \"gi|301171322|ref|NR_035857.1|\" to \"NR_035857.1\"\n",
    "    hit.id = hit.id.split(\"|\")[3]\n",
    "    return hit\n",
    "\n",
    "mapped_qresult = blast_qresult.hit_map(map_func)\n",
    "for hit in mapped_qresult[:5]:\n",
    "    print(hit.id)"
   ]
  },
  {
   "cell_type": "markdown",
   "id": "a636ac3d",
   "metadata": {
    "id": "7BofMvZV-kAJ"
   },
   "source": [
    "### 8.1.2 Hit\n",
    "`Hit` objects represent all query results from a single database entry. Let’s see what they look like, beginning with our BLAST search:"
   ]
  },
  {
   "cell_type": "code",
   "execution_count": 18,
   "id": "8da3a389",
   "metadata": {
    "id": "xIc7YV63-wTs"
   },
   "outputs": [
    {
     "name": "stdout",
     "output_type": "stream",
     "text": [
      "Query: gi|8332116|gb|BE037100.1|BE037100\n",
      "       MP14H09 MP Mesembryanthemum crystallinum cDNA 5' similar to cold accli...\n",
      "  Hit: gi|2031543140|ref|XM_041168865.1| (1020)\n",
      "       PREDICTED: Juglans microcarpa x Juglans regia cold-regulated 413 plasm...\n",
      " HSPs: ----  --------  ---------  ------  ---------------  ---------------------\n",
      "          #   E-value  Bit score    Span      Query range              Hit range\n",
      "       ----  --------  ---------  ------  ---------------  ---------------------\n",
      "          0  1.8e-105     398.93     593         [64:655]              [253:838]\n"
     ]
    }
   ],
   "source": [
    "from Bio import SearchIO\n",
    "blast_qresult = SearchIO.read(\"my_blast.xml\", \"blast-xml\")\n",
    "blast_hit = blast_qresult[3] # fourth hit from the query result\n",
    "print(blast_hit)"
   ]
  },
  {
   "cell_type": "markdown",
   "id": "db2a04b1",
   "metadata": {
    "id": "wkjBENc8AWbR"
   },
   "source": [
    "Now let’s contrast this with the BLAT search."
   ]
  },
  {
   "cell_type": "code",
   "execution_count": 19,
   "id": "d7d792d5",
   "metadata": {
    "id": "8VFrijqiAW9i"
   },
   "outputs": [
    {
     "name": "stdout",
     "output_type": "stream",
     "text": [
      "Query: mystery_seq\n",
      "       <unknown description>\n",
      "  Hit: chr19 (59128983)\n",
      "       <unknown description>\n",
      " HSPs: ----  --------  ---------  ------  ---------------  ---------------------\n",
      "          #   E-value  Bit score    Span      Query range              Hit range\n",
      "       ----  --------  ---------  ------  ---------------  ---------------------\n",
      "          0         ?          ?       ?           [0:61]    [54204480:54204541]\n",
      "          1         ?          ?       ?           [0:61]    [54233104:54264463]\n",
      "          2         ?          ?       ?           [0:61]    [54254477:54260071]\n",
      "          3         ?          ?       ?           [1:61]    [54210720:54210780]\n",
      "          4         ?          ?       ?           [0:60]    [54198476:54198536]\n",
      "          5         ?          ?       ?           [0:61]    [54265610:54265671]\n",
      "          6         ?          ?       ?           [0:61]    [54238143:54240175]\n",
      "          7         ?          ?       ?           [0:60]    [54189735:54189795]\n",
      "          8         ?          ?       ?           [0:61]    [54185425:54185486]\n",
      "          9         ?          ?       ?           [0:60]    [54197657:54197717]\n",
      "         10         ?          ?       ?           [0:61]    [54255662:54255723]\n",
      "         11         ?          ?       ?           [0:61]    [54201651:54201712]\n",
      "         12         ?          ?       ?           [8:60]    [54206009:54206061]\n",
      "         13         ?          ?       ?          [10:61]    [54178987:54179038]\n",
      "         14         ?          ?       ?           [8:61]    [54212018:54212071]\n",
      "         15         ?          ?       ?           [8:51]    [54234278:54234321]\n",
      "         16         ?          ?       ?           [8:61]    [54238143:54238196]\n"
     ]
    }
   ],
   "source": [
    "blat_qresult = SearchIO.read(\"my_blat.psl\", \"blat-psl\")\n",
    "blat_hit = blat_qresult[0] # the only hit\n",
    "print(blat_hit)"
   ]
  },
  {
   "cell_type": "markdown",
   "id": "04aaf0dd",
   "metadata": {
    "id": "VDnfUZikAvNb"
   },
   "source": [
    "Here, we’ve got a similar level of detail as with the BLAST hit we saw earlier. There are some differences worth explaining, though:\n",
    "* The e-value and bit score column values. As BLAT HSPs do not have e-values and bit scores, the display defaults to ‘?’.\n",
    "* What about the span column? The span values is meant to display the complete alignment length, which consists of all residues and any gaps that may be present. The PSL format do not have this information readily available and `Bio.SearchIO` does not attempt to try guess what it is, so we get a ‘?’ similar to the e-value and bit score columns.\n",
    "\n",
    "In terms of Python objects, `Hit` behaves almost the same as Python lists, but contain HSP objects exclusively. If you’re familiar with lists, you should encounter no difficulties working with the `Hit` object.\n",
    "\n",
    "Just like Python lists, `Hit` objects are iterable, and each iteration returns one HSP object it contains:"
   ]
  },
  {
   "cell_type": "code",
   "execution_count": 20,
   "id": "c063abfc",
   "metadata": {
    "id": "5mwbWeC6BWum"
   },
   "outputs": [],
   "source": [
    "for hsp in blast_hit:\n",
    "    hsp"
   ]
  },
  {
   "cell_type": "code",
   "execution_count": 21,
   "id": "7866a24f",
   "metadata": {
    "id": "QqDEw0G_BZrz"
   },
   "outputs": [
    {
     "data": {
      "text/plain": [
       "1"
      ]
     },
     "execution_count": 21,
     "metadata": {},
     "output_type": "execute_result"
    }
   ],
   "source": [
    "len(blast_hit)"
   ]
  },
  {
   "cell_type": "code",
   "execution_count": 22,
   "id": "74b656c0",
   "metadata": {
    "id": "KEAGeQmvBbFi"
   },
   "outputs": [
    {
     "data": {
      "text/plain": [
       "17"
      ]
     },
     "execution_count": 22,
     "metadata": {},
     "output_type": "execute_result"
    }
   ],
   "source": [
    "len(blat_hit)"
   ]
  },
  {
   "cell_type": "code",
   "execution_count": 23,
   "id": "28626623",
   "metadata": {
    "id": "SZmbYOdwBe7z"
   },
   "outputs": [
    {
     "name": "stdout",
     "output_type": "stream",
     "text": [
      "Query: mystery_seq\n",
      "       <unknown description>\n",
      "  Hit: chr19 (59128983)\n",
      "       <unknown description>\n",
      " HSPs: ----  --------  ---------  ------  ---------------  ---------------------\n",
      "          #   E-value  Bit score    Span      Query range              Hit range\n",
      "       ----  --------  ---------  ------  ---------------  ---------------------\n",
      "          0         ?          ?       ?           [0:60]    [54198476:54198536]\n",
      "          1         ?          ?       ?           [0:61]    [54265610:54265671]\n",
      "          2         ?          ?       ?           [0:61]    [54238143:54240175]\n",
      "          3         ?          ?       ?           [0:60]    [54189735:54189795]\n",
      "          4         ?          ?       ?           [0:61]    [54185425:54185486]\n"
     ]
    }
   ],
   "source": [
    "blat_hit[0] # retrieve single items\n",
    "sliced_hit = blat_hit[4:9] # retrieve multiple items\n",
    "len(sliced_hit)\n",
    "print(sliced_hit)"
   ]
  },
  {
   "cell_type": "markdown",
   "id": "481bf7ff",
   "metadata": {
    "id": "MJTjR9HcBnUj"
   },
   "source": [
    "### 8.1.3 HSP\n",
    "`HSP` (high-scoring pair) represents region(s) in the hit sequence that contains significant alignment(s) to the query sequence. It contains the actual match between your query sequence and a database entry. As this match is determined by the sequence search tool’s algorithms, the HSP object contains the bulk of the statistics computed by the search tool. This also makes the distinction between HSP objects from different search tools more apparent compared to the differences you’ve seen in `QueryResult` or `Hit` objects.\n",
    "\n",
    "Let’s see some examples from our BLAST and BLAT searches. We’ll look at the BLAST HSP first:"
   ]
  },
  {
   "cell_type": "code",
   "execution_count": 24,
   "id": "411935d3",
   "metadata": {
    "id": "ohCOq_kwB6Dl"
   },
   "outputs": [
    {
     "name": "stdout",
     "output_type": "stream",
     "text": [
      "      Query: gi|8332116|gb|BE037100.1|BE037100 MP14H09 MP Mesembryanthemum cr...\n",
      "        Hit: gi|1219041180|ref|XM_021875076.1| PREDICTED: Chenopodium quinoa ...\n",
      "Query range: [58:678] (1)\n",
      "  Hit range: [277:901] (1)\n",
      "Quick stats: evalue 7.1e-117; bitscore 435.90\n",
      "  Fragments: 1 (624 columns)\n",
      "     Query - ACAGAAAATGGGGAGAGAAATGAAGTACTTGGCCATGAAAACTGATCAATTGGCCGTGG~~~ATGTA\n",
      "             || ||||||||| |||| | |||| ||  |||| |||| | |||| ||| | |||| ||~~~|| ||\n",
      "       Hit - ACCGAAAATGGGCAGAGGAGTGAATTATATGGCAATGACACCTGAGCAACTAGCCGCGG~~~ATTTA\n"
     ]
    }
   ],
   "source": [
    "from Bio import SearchIO\n",
    "blast_qresult = SearchIO.read(\"my_blast.xml\", \"blast-xml\")\n",
    "blast_hsp = blast_qresult[0][0] # first hit, first hsp\n",
    "print(blast_hsp)"
   ]
  },
  {
   "cell_type": "markdown",
   "id": "f95b7c75",
   "metadata": {
    "id": "Efdx_Kd7CJgl"
   },
   "source": [
    "Just like `QueryResult` and `Hit`, invoking print on an HSP shows its general details:\n",
    "* There are the query and hit IDs and descriptions. We need these to identify our HSP.\n",
    "* We’ve also got the matching range of the query and hit sequences. The slice notation we’re using here is an indication that the range is displayed using Python’s indexing style (zero-based, half open). The number inside the parenthesis denotes the strand. In this case, both sequences have the plus strand.\n",
    "* Some quick statistics are available: the e-value and bitscore.\n",
    "* There is information about the HSP fragments. Ignore this for now; it will be explained later on.\n",
    "* And finally, we have the query and hit sequence alignment itself.\n",
    "\n",
    "These details can be accessed on their own using the dot notation, just like in `QueryResult` and `Hit`:"
   ]
  },
  {
   "cell_type": "code",
   "execution_count": 25,
   "id": "588a16b2",
   "metadata": {
    "id": "YNvEqIQvCbdL"
   },
   "outputs": [
    {
     "name": "stdout",
     "output_type": "stream",
     "text": [
      "(58, 678)\n",
      "7.07413e-117\n"
     ]
    }
   ],
   "source": [
    "print(blast_hsp.query_range)\n",
    "print(blast_hsp.evalue)"
   ]
  },
  {
   "cell_type": "markdown",
   "id": "b8f69043",
   "metadata": {
    "id": "uE5b4huNCxVU"
   },
   "source": [
    "Check out the HSP [documentation](http://biopython.org/docs/1.80/api/Bio.SearchIO.html#module-Bio.SearchIO) for a full list of these predefined properties."
   ]
  },
  {
   "cell_type": "code",
   "execution_count": 26,
   "id": "abc594ea",
   "metadata": {
    "id": "dDlzo-xQCnA5"
   },
   "outputs": [
    {
     "name": "stdout",
     "output_type": "stream",
     "text": [
      "277\n",
      "620\n",
      "624\n"
     ]
    }
   ],
   "source": [
    "print(blast_hsp.hit_start) # start coordinate of the hit sequence\n",
    "print(blast_hsp.query_span) # how many residues in the query sequence\n",
    "print(blast_hsp.aln_span) # how long the alignment is"
   ]
  },
  {
   "cell_type": "code",
   "execution_count": 27,
   "id": "ba29beeb",
   "metadata": {
    "id": "MeA9HlETCdOu"
   },
   "outputs": [
    {
     "name": "stdout",
     "output_type": "stream",
     "text": [
      "4\n",
      "473\n"
     ]
    }
   ],
   "source": [
    "print(blast_hsp.gap_num) # number of gaps\n",
    "print(blast_hsp.ident_num) # number of identical residues"
   ]
  },
  {
   "cell_type": "markdown",
   "id": "047eec12",
   "metadata": {
    "id": "OwuOPZ6DDbNd"
   },
   "source": [
    "To see which details are available for a given sequence search tool, you should check the format’s documentation in `Bio.SearchIO`.\n",
    "Alternatively, you may also use `.__dict__.keys()` for a quick list of what’s available:\n",
    "```\n",
    ">>> blast_hsp.__dict__.keys()\n",
    "['bitscore', 'evalue', 'ident_num', 'gap_num', 'bitscore_raw', 'pos_num', '_items']\n",
    "```"
   ]
  },
  {
   "cell_type": "markdown",
   "id": "5dbd8201",
   "metadata": {
    "id": "jCpkXXI3Do8h"
   },
   "source": [
    "Finally, you may have noticed that the `query` and `hit` attributes of our HSP are not just regular strings:"
   ]
  },
  {
   "cell_type": "code",
   "execution_count": 28,
   "id": "96324747",
   "metadata": {},
   "outputs": [
    {
     "data": {
      "text/plain": [
       "SeqRecord(seq=Seq('ACAGAAAATGGGGAGAGAAATGAAGTACTTGGCCATGAAAACTGATCAATTGGC...GTA'), id='gi|8332116|gb|BE037100.1|BE037100', name='aligned query sequence', description=\"MP14H09 MP Mesembryanthemum crystallinum cDNA 5' similar to cold acclimation protein, mRNA sequence\", dbxrefs=[])"
      ]
     },
     "execution_count": 28,
     "metadata": {},
     "output_type": "execute_result"
    }
   ],
   "source": [
    "blast_hsp.query"
   ]
  },
  {
   "cell_type": "code",
   "execution_count": 29,
   "id": "eb01dba9",
   "metadata": {
    "id": "NuhYhQxCDuSr"
   },
   "outputs": [
    {
     "data": {
      "text/plain": [
       "SeqRecord(seq=Seq('ACCGAAAATGGGCAGAGGAGTGAATTATATGGCAATGACACCTGAGCAACTAGC...TTA'), id='gi|1219041180|ref|XM_021875076.1|', name='aligned hit sequence', description='PREDICTED: Chenopodium quinoa cold-regulated 413 plasma membrane protein 2-like (LOC110697660), mRNA', dbxrefs=[])"
      ]
     },
     "execution_count": 29,
     "metadata": {},
     "output_type": "execute_result"
    }
   ],
   "source": [
    "blast_hsp.hit"
   ]
  },
  {
   "cell_type": "code",
   "execution_count": 30,
   "id": "62cfcac8",
   "metadata": {
    "id": "WK3DBi5WD4g0"
   },
   "outputs": [
    {
     "name": "stdout",
     "output_type": "stream",
     "text": [
      "Alignment with 2 rows and 624 columns\n",
      "ACAGAAAATGGGGAGAGAAATGAAGTACTTGGCCATGAAAACTG...GTA gi|8332116|gb|BE037100.1|BE037100\n",
      "ACCGAAAATGGGCAGAGGAGTGAATTATATGGCAATGACACCTG...TTA gi|1219041180|ref|XM_021875076.1|\n"
     ]
    }
   ],
   "source": [
    "print(blast_hsp.aln)"
   ]
  },
  {
   "cell_type": "markdown",
   "id": "51fc54f1",
   "metadata": {
    "id": "To7o3EmBEm5R"
   },
   "source": [
    "Let’s now take a look at HSPs from our BLAT results for a different kind of HSP. As usual, we’ll begin by invoking print on it:"
   ]
  },
  {
   "cell_type": "code",
   "execution_count": 31,
   "id": "459d7f39",
   "metadata": {
    "id": "xAJ4omp6EpJh"
   },
   "outputs": [
    {
     "name": "stdout",
     "output_type": "stream",
     "text": [
      "      Query: mystery_seq <unknown description>\n",
      "        Hit: chr19 <unknown description>\n",
      "Query range: [0:61] (1)\n",
      "  Hit range: [54204480:54204541] (1)\n",
      "Quick stats: evalue ?; bitscore ?\n",
      "  Fragments: 1 (? columns)\n"
     ]
    }
   ],
   "source": [
    "blat_qresult = SearchIO.read(\"my_blat.psl\", \"blat-psl\")\n",
    "blat_hsp = blat_qresult[0][0] # first hit, first hsp\n",
    "print(blat_hsp)"
   ]
  },
  {
   "cell_type": "markdown",
   "id": "9eede804",
   "metadata": {
    "id": "JWwauIJIEusx"
   },
   "source": [
    "Some of the outputs you may have already guessed. We have the query and hit IDs and descriptions and the sequence coordinates. Values for evalue and bitscore is ‘?’ as BLAT HSPs do not have these attributes. But The biggest difference here is that you don’t see any sequence alignments displayed. If you look closer, PSL formats themselves do not have any hit or query sequences, so Bio.SearchIO won’t create any sequence or alignment objects. What happens if you try to access `HSP.query`, `HSP.hit`, or `HSP.aln`? You’ll get the default values for these attributes, which is `None`:"
   ]
  },
  {
   "cell_type": "code",
   "execution_count": 32,
   "id": "c415ee39",
   "metadata": {
    "id": "Wi6USe1kFVNB"
   },
   "outputs": [
    {
     "name": "stdout",
     "output_type": "stream",
     "text": [
      "True\n",
      "True\n",
      "True\n"
     ]
    }
   ],
   "source": [
    "print(blat_hsp.hit is None)\n",
    "print(blat_hsp.query is None)\n",
    "print(blat_hsp.aln is None)"
   ]
  },
  {
   "cell_type": "markdown",
   "id": "975dc325",
   "metadata": {
    "id": "aDZSYhI4J-F0"
   },
   "source": [
    "This does not affect other attributes, though. For example, you can still access the length of the query or hit alignment. Despite not displaying any attributes, the PSL format still have this information so `Bio.SearchIO` can extract them:"
   ]
  },
  {
   "cell_type": "code",
   "execution_count": 33,
   "id": "56f876ca",
   "metadata": {
    "id": "nVpqNB_ZKBqx"
   },
   "outputs": [
    {
     "name": "stdout",
     "output_type": "stream",
     "text": [
      "61\n",
      "61\n"
     ]
    }
   ],
   "source": [
    "print(blat_hsp.query_span) # length of query match\n",
    "print(blat_hsp.hit_span) # length of hit match"
   ]
  },
  {
   "cell_type": "markdown",
   "id": "e570cfe5",
   "metadata": {
    "id": "BKcaqhXpKFiz"
   },
   "source": [
    "Other format-specific attributes are still present as well:"
   ]
  },
  {
   "cell_type": "code",
   "execution_count": 34,
   "id": "bcb449d4",
   "metadata": {
    "id": "VrGSO4m6KF98"
   },
   "outputs": [
    {
     "name": "stdout",
     "output_type": "stream",
     "text": [
      "61\n",
      "0\n"
     ]
    }
   ],
   "source": [
    "print(blat_hsp.score) # PSL score\n",
    "print(blat_hsp.mismatch_num) # the mismatch column"
   ]
  },
  {
   "cell_type": "markdown",
   "id": "01ba208a",
   "metadata": {
    "id": "GAneR68oKRDm"
   },
   "source": [
    "Let’s take a look at a BLAT HSP that contains multiple blocks to see how `Bio.SearchIO` deals with this:"
   ]
  },
  {
   "cell_type": "code",
   "execution_count": 35,
   "id": "780f66d3",
   "metadata": {
    "id": "fBQlhs1iKU_-"
   },
   "outputs": [
    {
     "name": "stdout",
     "output_type": "stream",
     "text": [
      "      Query: mystery_seq <unknown description>\n",
      "        Hit: chr19 <unknown description>\n",
      "Query range: [0:61] (1)\n",
      "  Hit range: [54233104:54264463] (1)\n",
      "Quick stats: evalue ?; bitscore ?\n",
      "  Fragments: ---  --------------  ----------------------  ----------------------\n",
      "               #            Span             Query range               Hit range\n",
      "             ---  --------------  ----------------------  ----------------------\n",
      "               0               ?                  [0:18]     [54233104:54233122]\n",
      "               1               ?                 [18:61]     [54264420:54264463]\n"
     ]
    }
   ],
   "source": [
    "blat_hsp2 = blat_qresult[0][1] # first hit, second hsp\n",
    "print(blat_hsp2)"
   ]
  },
  {
   "cell_type": "markdown",
   "id": "2c169e3d",
   "metadata": {
    "id": "eebUn774O6DJ"
   },
   "source": [
    "Take a look at the hit coordinate of the HSP above. In the `Hit range`: field, we see that the coordinate is `[54233104:54264463]`. But looking at the table rows, we see that not the entire region spanned by this coordinate matches our query. Specifically, the intervening region spans from `54233122` to `54264420`. Why then, is the query coordinates seem to be contiguous, you ask? This is perfectly fine. In this case it means that the query match is contiguous (no intervening regions), while the hit match is not.\n",
    "\n",
    "All these attributes are accessible from the HSP directly, by the way:"
   ]
  },
  {
   "cell_type": "code",
   "execution_count": 36,
   "id": "a9db4011",
   "metadata": {
    "id": "2HoWbS3tO5l-"
   },
   "outputs": [
    {
     "data": {
      "text/plain": [
       "(54233104, 54264463)"
      ]
     },
     "execution_count": 36,
     "metadata": {},
     "output_type": "execute_result"
    }
   ],
   "source": [
    "blat_hsp2.hit_range # hit start and end coordinates of the entire HSP"
   ]
  },
  {
   "cell_type": "code",
   "execution_count": 37,
   "id": "6c8da068",
   "metadata": {},
   "outputs": [
    {
     "data": {
      "text/plain": [
       "[(54233104, 54233122), (54264420, 54264463)]"
      ]
     },
     "execution_count": 37,
     "metadata": {},
     "output_type": "execute_result"
    }
   ],
   "source": [
    "blat_hsp2.hit_range_all # hit start and end coordinates of each fragment"
   ]
  },
  {
   "cell_type": "code",
   "execution_count": 38,
   "id": "b6baf3fb",
   "metadata": {},
   "outputs": [
    {
     "data": {
      "text/plain": [
       "31359"
      ]
     },
     "execution_count": 38,
     "metadata": {},
     "output_type": "execute_result"
    }
   ],
   "source": [
    "blat_hsp2.hit_span # hit span of the entire HSP"
   ]
  },
  {
   "cell_type": "code",
   "execution_count": 39,
   "id": "8f52bc8b",
   "metadata": {},
   "outputs": [
    {
     "data": {
      "text/plain": [
       "[18, 43]"
      ]
     },
     "execution_count": 39,
     "metadata": {},
     "output_type": "execute_result"
    }
   ],
   "source": [
    "blat_hsp2.hit_span_all # hit span of each fragment"
   ]
  },
  {
   "cell_type": "code",
   "execution_count": 40,
   "id": "23f94372",
   "metadata": {},
   "outputs": [
    {
     "data": {
      "text/plain": [
       "[(54233122, 54264420)]"
      ]
     },
     "execution_count": 40,
     "metadata": {},
     "output_type": "execute_result"
    }
   ],
   "source": [
    "blat_hsp2.hit_inter_ranges # start and end coordinates of intervening regions in the hit sequence"
   ]
  },
  {
   "cell_type": "code",
   "execution_count": 41,
   "id": "9cab04b0",
   "metadata": {},
   "outputs": [
    {
     "data": {
      "text/plain": [
       "[31298]"
      ]
     },
     "execution_count": 41,
     "metadata": {},
     "output_type": "execute_result"
    }
   ],
   "source": [
    "blat_hsp2.hit_inter_spans # span of intervening regions in the hit sequence"
   ]
  },
  {
   "cell_type": "markdown",
   "id": "307a9297",
   "metadata": {
    "id": "hbrXrkGWQ9ry"
   },
   "source": [
    "Most of these attributes are not readily available from the PSL file we have, but `Bio.SearchIO` calculates them for you on the fly when you parse the PSL file. All it needs are the start and end coordinates of each fragment."
   ]
  },
  {
   "cell_type": "markdown",
   "id": "e393b1cd",
   "metadata": {
    "id": "CMTymu-fRSFG"
   },
   "source": [
    "`query_all`, `hit_all`, and `aln_all`. These properties will return a\n",
    "list containing `SeqRecord` or `MultipleSeqAlignment` objects from each of the HSP fragment. There are other attributes that behave similarly, i.e. they only work for HSPs with one fragment. Check out the HSP documentation for a full list.\n",
    "\n",
    "Finally, to check whether you have multiple fragments or not, you can use the `is_fragmented` property like so:"
   ]
  },
  {
   "cell_type": "code",
   "execution_count": 42,
   "id": "adddeb0e",
   "metadata": {
    "id": "dPVzXhOYResw"
   },
   "outputs": [
    {
     "data": {
      "text/plain": [
       "True"
      ]
     },
     "execution_count": 42,
     "metadata": {},
     "output_type": "execute_result"
    }
   ],
   "source": [
    "blat_hsp2.is_fragmented # BLAT HSP with 2 fragments"
   ]
  },
  {
   "cell_type": "code",
   "execution_count": 43,
   "id": "1ddb1333",
   "metadata": {},
   "outputs": [
    {
     "data": {
      "text/plain": [
       "False"
      ]
     },
     "execution_count": 43,
     "metadata": {},
     "output_type": "execute_result"
    }
   ],
   "source": [
    "blat_hsp.is_fragmented # BLAT HSP from earlier, with one fragment"
   ]
  },
  {
   "cell_type": "markdown",
   "id": "db55c564",
   "metadata": {
    "id": "WdRA7mAaRlD3"
   },
   "source": [
    "### 8.1.4 HSP Fragment\n",
    "`HSPFragment` represents a single, contiguous match between the query and hit sequences. You could consider it the core of the object model and search result, since it is the presence of these fragments that determine whether your search have results or not.\n",
    "\n",
    "In most cases, you don’t have to deal with `HSPFragment` objects directly since not that many sequence search tools fragment their HSPs. When you do have to deal with them, what you should remember is that `HSPFragment` objects were written with to be as compact as possible. In most cases, they only contain attributes directly related to sequences: strands, reading frames, molecule types, coordinates, the sequences themselves, and their IDs and descriptions.\n",
    "\n",
    "These attributes are readily shown when you invoke `print` on an `HSPFragment`. Here’s an example, taken from our BLAST search:"
   ]
  },
  {
   "cell_type": "code",
   "execution_count": 44,
   "id": "b11f7cbb",
   "metadata": {
    "id": "fIc6QOoeR6-D"
   },
   "outputs": [
    {
     "name": "stdout",
     "output_type": "stream",
     "text": [
      "      Query: gi|8332116|gb|BE037100.1|BE037100 MP14H09 MP Mesembryanthemum cr...\n",
      "        Hit: gi|1219041180|ref|XM_021875076.1| PREDICTED: Chenopodium quinoa ...\n",
      "Query range: [58:678] (1)\n",
      "  Hit range: [277:901] (1)\n",
      "  Fragments: 1 (624 columns)\n",
      "     Query - ACAGAAAATGGGGAGAGAAATGAAGTACTTGGCCATGAAAACTGATCAATTGGCCGTGG~~~ATGTA\n",
      "             || ||||||||| |||| | |||| ||  |||| |||| | |||| ||| | |||| ||~~~|| ||\n",
      "       Hit - ACCGAAAATGGGCAGAGGAGTGAATTATATGGCAATGACACCTGAGCAACTAGCCGCGG~~~ATTTA\n"
     ]
    }
   ],
   "source": [
    "from Bio import SearchIO\n",
    "blast_qresult = SearchIO.read(\"my_blast.xml\", \"blast-xml\")\n",
    "blast_frag = blast_qresult[0][0][0] # first hit, first hsp, first fragment\n",
    "print(blast_frag)"
   ]
  },
  {
   "cell_type": "markdown",
   "id": "556310c1",
   "metadata": {
    "id": "XcSH0AlPSDpL"
   },
   "source": [
    "At this level, the BLAT fragment looks quite similar to the BLAST fragment, save for the query and hit sequences which are not present:"
   ]
  },
  {
   "cell_type": "code",
   "execution_count": 45,
   "id": "d2c9ed30",
   "metadata": {
    "id": "fh3ceLSdSEGR"
   },
   "outputs": [
    {
     "name": "stdout",
     "output_type": "stream",
     "text": [
      "      Query: mystery_seq <unknown description>\n",
      "        Hit: chr19 <unknown description>\n",
      "Query range: [0:61] (1)\n",
      "  Hit range: [54204480:54204541] (1)\n",
      "  Fragments: 1 (? columns)\n"
     ]
    }
   ],
   "source": [
    "blat_qresult = SearchIO.read(\"my_blat.psl\", \"blat-psl\")\n",
    "blat_frag = blat_qresult[0][0][0] # first hit, first hsp, first fragment\n",
    "print(blat_frag)"
   ]
  },
  {
   "cell_type": "code",
   "execution_count": 46,
   "id": "d3483b32",
   "metadata": {
    "id": "10LWD-wDSHnm"
   },
   "outputs": [
    {
     "data": {
      "text/plain": [
       "58"
      ]
     },
     "execution_count": 46,
     "metadata": {},
     "output_type": "execute_result"
    }
   ],
   "source": [
    "blast_frag.query_start # query start coordinate"
   ]
  },
  {
   "cell_type": "code",
   "execution_count": 47,
   "id": "78b14252",
   "metadata": {},
   "outputs": [
    {
     "data": {
      "text/plain": [
       "1"
      ]
     },
     "execution_count": 47,
     "metadata": {},
     "output_type": "execute_result"
    }
   ],
   "source": [
    "blast_frag.hit_strand # hit sequence strand"
   ]
  },
  {
   "cell_type": "code",
   "execution_count": 48,
   "id": "44041534",
   "metadata": {},
   "outputs": [
    {
     "data": {
      "text/plain": [
       "SeqRecord(seq=Seq('ACCGAAAATGGGCAGAGGAGTGAATTATATGGCAATGACACCTGAGCAACTAGC...TTA'), id='gi|1219041180|ref|XM_021875076.1|', name='aligned hit sequence', description='PREDICTED: Chenopodium quinoa cold-regulated 413 plasma membrane protein 2-like (LOC110697660), mRNA', dbxrefs=[])"
      ]
     },
     "execution_count": 48,
     "metadata": {},
     "output_type": "execute_result"
    }
   ],
   "source": [
    "blast_frag.hit # hit sequence, as a SeqRecord object"
   ]
  },
  {
   "cell_type": "markdown",
   "id": "b3010073",
   "metadata": {
    "id": "rcm9JP6QSMJ-"
   },
   "source": [
    "In all cases, these attributes are accessible using our favorite dot notation. Some examples:"
   ]
  },
  {
   "cell_type": "markdown",
   "id": "e9c114df",
   "metadata": {
    "id": "QSbb2MeVSKtF"
   },
   "source": [
    "## 8.2 A note about standards and conventions\n",
    "One of the goals of `Bio.SearchIO` is to create a common, easy to use interface to deal with various search output files. This means creating standards that extend beyond the object model you just saw.\n",
    "\n",
    "There are three implicit standards that you can expect when working with `Bio.SearchIO`:\n",
    "\n",
    "* The first one pertains to sequence coordinates. In `Bio.SearchIO`, all sequence coordinates follows Python’s coordinate style: zero-based and half open. For example, if in a BLAST XML output file the start and end coordinates of an HSP are 10 and 28, they would become 9 and 28 in `Bio.SearchIO`. The start coordinate becomes 9 because Python indices start from zero, while the end coordinate remains 28 as Python slices omit the last item in an interval.\n",
    "* The second is on sequence coordinate orders. In `Bio.SearchIO`, start coordinates are always less than or equal to end coordinates. This isn’t always the case with all sequence search tools, as some of them have larger start coordinates when the sequence strand is minus.\n",
    "* The last one is on strand and reading frame values. For strands, there are only four valid choices: `1` (plus strand), `-1` (minus strand), `0` (protein sequences), and `None` (no strand). For reading frames, the valid choices are integers from `-3` to `3` and `None`."
   ]
  },
  {
   "cell_type": "markdown",
   "id": "12deab7b",
   "metadata": {
    "id": "CdNg86FnUt8s"
   },
   "source": [
    "## 8.3 Reading search output files\n",
    "* To download test file : [`tab_2226_tblastn_*.txt`](https://github.com/biopython/biopython/tree/master/Tests/Blast)"
   ]
  },
  {
   "cell_type": "code",
   "execution_count": 49,
   "id": "8c5cfe4c",
   "metadata": {
    "id": "AAZIuIMaUwh9"
   },
   "outputs": [
    {
     "data": {
      "text/plain": [
       "QueryResult(id='gi|16080617|ref|NP_391444.1|', 3 hits)"
      ]
     },
     "execution_count": 49,
     "metadata": {},
     "output_type": "execute_result"
    }
   ],
   "source": [
    "from Bio import SearchIO\n",
    "qresult = SearchIO.read(\"tab_2226_tblastn_003.txt\", \"blast-tab\")\n",
    "qresult"
   ]
  },
  {
   "cell_type": "code",
   "execution_count": 50,
   "id": "1e950909",
   "metadata": {},
   "outputs": [
    {
     "data": {
      "text/plain": [
       "QueryResult(id='gi|16080617|ref|NP_391444.1|', 3 hits)"
      ]
     },
     "execution_count": 50,
     "metadata": {},
     "output_type": "execute_result"
    }
   ],
   "source": [
    "qresult2 = SearchIO.read(\"tab_2226_tblastn_007.txt\", \"blast-tab\", comments=True)\n",
    "qresult2"
   ]
  },
  {
   "cell_type": "markdown",
   "id": "b3223827",
   "metadata": {
    "id": "WVjcK3MMU-ed"
   },
   "source": [
    "As for the `Bio.SearchIO.parse`, it is used for reading search output files with any number of queries. The function returns a generator object that yields a `QueryResult` object in each iteration. Like `Bio.SearchIO.read`, it also accepts format-specific keyword arguments:"
   ]
  },
  {
   "cell_type": "code",
   "execution_count": 51,
   "id": "bb11c97c",
   "metadata": {
    "id": "3KMcY51TVSJv"
   },
   "outputs": [
    {
     "name": "stdout",
     "output_type": "stream",
     "text": [
      "gi|16080617|ref|NP_391444.1|\n",
      "gi|11464971:4-101\n"
     ]
    }
   ],
   "source": [
    "from Bio import SearchIO\n",
    "qresults = SearchIO.parse(\"tab_2226_tblastn_001.txt\", \"blast-tab\")\n",
    "for qresult in qresults:\n",
    "    print(qresult.id)"
   ]
  },
  {
   "cell_type": "code",
   "execution_count": 52,
   "id": "09f36564",
   "metadata": {
    "id": "2eBzvpsqVRxI"
   },
   "outputs": [
    {
     "name": "stdout",
     "output_type": "stream",
     "text": [
      "random_s00\n",
      "gi|16080617|ref|NP_391444.1|\n",
      "gi|11464971:4-101\n"
     ]
    }
   ],
   "source": [
    "qresults2 = SearchIO.parse(\"tab_2226_tblastn_005.txt\", \"blast-tab\", comments=True)\n",
    "for qresult in qresults2:\n",
    "    print(qresult.id)"
   ]
  },
  {
   "cell_type": "markdown",
   "id": "78aefec7",
   "metadata": {
    "id": "MoKRfp9MVafx"
   },
   "source": [
    "## 8.4 Dealing with large search output files with indexing\n",
    "You can use `index` with just the filename and format name:"
   ]
  },
  {
   "cell_type": "code",
   "execution_count": 53,
   "id": "179ce956",
   "metadata": {
    "id": "aaNih-SDVesK"
   },
   "outputs": [
    {
     "data": {
      "text/plain": [
       "['gi|11464971:4-101', 'gi|16080617|ref|NP_391444.1|']"
      ]
     },
     "execution_count": 53,
     "metadata": {},
     "output_type": "execute_result"
    }
   ],
   "source": [
    "from Bio import SearchIO\n",
    "idx = SearchIO.index(\"tab_2226_tblastn_001.txt\", \"blast-tab\")\n",
    "sorted(idx.keys())"
   ]
  },
  {
   "cell_type": "code",
   "execution_count": 54,
   "id": "29533f26",
   "metadata": {},
   "outputs": [
    {
     "data": {
      "text/plain": [
       "QueryResult(id='gi|16080617|ref|NP_391444.1|', 3 hits)"
      ]
     },
     "execution_count": 54,
     "metadata": {},
     "output_type": "execute_result"
    }
   ],
   "source": [
    "idx[\"gi|16080617|ref|NP_391444.1|\"]"
   ]
  },
  {
   "cell_type": "code",
   "execution_count": 55,
   "id": "683b0c3f",
   "metadata": {},
   "outputs": [],
   "source": [
    "idx.close()"
   ]
  },
  {
   "cell_type": "markdown",
   "id": "cc62ccb2",
   "metadata": {
    "id": "1ps-_tvBVw1J"
   },
   "source": [
    "Or also with the format-specific keyword argument:"
   ]
  },
  {
   "cell_type": "code",
   "execution_count": 56,
   "id": "a134c167",
   "metadata": {
    "id": "ueBc2rtJVehT"
   },
   "outputs": [
    {
     "data": {
      "text/plain": [
       "['gi|11464971:4-101', 'gi|16080617|ref|NP_391444.1|', 'random_s00']"
      ]
     },
     "execution_count": 56,
     "metadata": {},
     "output_type": "execute_result"
    }
   ],
   "source": [
    "idx = SearchIO.index(\"tab_2226_tblastn_005.txt\", \"blast-tab\", comments=True)\n",
    "sorted(idx.keys())"
   ]
  },
  {
   "cell_type": "code",
   "execution_count": 57,
   "id": "5f7dcbc4",
   "metadata": {},
   "outputs": [
    {
     "data": {
      "text/plain": [
       "QueryResult(id='gi|16080617|ref|NP_391444.1|', 3 hits)"
      ]
     },
     "execution_count": 57,
     "metadata": {},
     "output_type": "execute_result"
    }
   ],
   "source": [
    "idx[\"gi|16080617|ref|NP_391444.1|\"]"
   ]
  },
  {
   "cell_type": "code",
   "execution_count": 58,
   "id": "d867357d",
   "metadata": {},
   "outputs": [],
   "source": [
    "idx.close()"
   ]
  },
  {
   "cell_type": "markdown",
   "id": "b9806255",
   "metadata": {
    "id": "zvD1eIybVywU"
   },
   "source": [
    "Or with the key_function argument, as in `Bio.SeqIO`:"
   ]
  },
  {
   "cell_type": "code",
   "execution_count": 59,
   "id": "d2289e65",
   "metadata": {
    "id": "5Lewt10BVdvX"
   },
   "outputs": [
    {
     "data": {
      "text/plain": [
       "['GI|11464971:4-101', 'GI|16080617|REF|NP_391444.1|']"
      ]
     },
     "execution_count": 59,
     "metadata": {},
     "output_type": "execute_result"
    }
   ],
   "source": [
    "key_function = lambda id: id.upper() # capitalizes the keys\n",
    "idx = SearchIO.index(\"tab_2226_tblastn_001.txt\", \"blast-tab\", key_function=key_function)\n",
    "sorted(idx.keys())"
   ]
  },
  {
   "cell_type": "code",
   "execution_count": 60,
   "id": "5c806d79",
   "metadata": {},
   "outputs": [
    {
     "data": {
      "text/plain": [
       "QueryResult(id='gi|16080617|ref|NP_391444.1|', 3 hits)"
      ]
     },
     "execution_count": 60,
     "metadata": {},
     "output_type": "execute_result"
    }
   ],
   "source": [
    "idx[\"GI|16080617|REF|NP_391444.1|\"]"
   ]
  },
  {
   "cell_type": "code",
   "execution_count": 61,
   "id": "520a74b6",
   "metadata": {},
   "outputs": [],
   "source": [
    "idx.close()"
   ]
  },
  {
   "cell_type": "markdown",
   "id": "392d025c",
   "metadata": {
    "id": "ocCY2my0V2-v"
   },
   "source": [
    "## 8.5 Writing and converting search output files\n",
    "It is occasionally useful to be able to manipulate search results from an output file and write it again to a new file. It returns a four-item tuple, which denotes the number or `QueryResult`, `Hit`, `HSP`, and `HSPFragment` objects that were written.\n",
    "* To download test file : [`mirna.xml`](https://github.com/biopython/biopython/blob/master/Tests/Blast/mirna.xml)"
   ]
  },
  {
   "cell_type": "code",
   "execution_count": 62,
   "id": "9416c23d",
   "metadata": {
    "id": "KKVJHdX4WJFK"
   },
   "outputs": [
    {
     "data": {
      "text/plain": [
       "(3, 239, 277, 277)"
      ]
     },
     "execution_count": 62,
     "metadata": {},
     "output_type": "execute_result"
    }
   ],
   "source": [
    "from Bio import SearchIO\n",
    "qresults = SearchIO.parse(\"mirna.xml\", \"blast-xml\") # read XML file\n",
    "SearchIO.write(qresults, \"results.tab\", \"blast-tab\") # write to tabular file"
   ]
  },
  {
   "cell_type": "markdown",
   "id": "46198c30",
   "metadata": {
    "id": "stbONeUlWPXA"
   },
   "source": [
    "`Bio.SearchIO` also provides a convert function, which is simply a shortcut for `Bio.SearchIO.parse` and `Bio.SearchIO.write`. Using the convert function, our example above would be:"
   ]
  },
  {
   "cell_type": "code",
   "execution_count": 63,
   "id": "c32f7ff6",
   "metadata": {
    "id": "dwZC7CfQWUsC"
   },
   "outputs": [
    {
     "data": {
      "text/plain": [
       "(3, 239, 277, 277)"
      ]
     },
     "execution_count": 63,
     "metadata": {},
     "output_type": "execute_result"
    }
   ],
   "source": [
    "from Bio import SearchIO\n",
    "SearchIO.convert(\"mirna.xml\", \"blast-xml\", \"results.tab\", \"blast-tab\")"
   ]
  }
 ],
 "metadata": {
  "kernelspec": {
   "display_name": "Python 3 (ipykernel)",
   "language": "python",
   "name": "python3"
  },
  "language_info": {
   "codemirror_mode": {
    "name": "ipython",
    "version": 3
   },
   "file_extension": ".py",
   "mimetype": "text/x-python",
   "name": "python",
   "nbconvert_exporter": "python",
   "pygments_lexer": "ipython3",
   "version": "3.9.13"
  }
 },
 "nbformat": 4,
 "nbformat_minor": 5
}
