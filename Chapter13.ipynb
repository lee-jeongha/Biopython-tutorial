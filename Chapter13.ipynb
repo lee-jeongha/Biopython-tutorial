{
 "cells": [
  {
   "cell_type": "code",
   "execution_count": 1,
   "id": "a4f61152",
   "metadata": {},
   "outputs": [],
   "source": [
    "import warnings\n",
    "warnings.filterwarnings(action='ignore')"
   ]
  },
  {
   "cell_type": "markdown",
   "id": "43bcb86c",
   "metadata": {},
   "source": [
    "# Chapter 13. Phylogenetics with Bio.Phylo\n",
    "\n",
    "The Bio.Phylo module was introduced in Biopython 1.54. Following the lead of SeqIO and AlignIO, it aims\n",
    "to provide a common way to work with phylogenetic trees independently of the source data format, as well\n",
    "as a consistent API for I/O operations.\n",
    "\n",
    "Bio.Phylo is described in an open-access journal article [9, Talevich et al., 2012], which you might also\n",
    "find helpful.\n",
    "* Download test file: [`simple.dnd`](https://github.com/biopython/biopython/blob/master/Doc/examples/simple.dnd)"
   ]
  },
  {
   "cell_type": "code",
   "execution_count": 2,
   "id": "f88c9d87",
   "metadata": {},
   "outputs": [
    {
     "name": "stdout",
     "output_type": "stream",
     "text": [
      "Requirement already satisfied: matplotlib in /home/leejh/anaconda3/envs/biopython/lib/python3.10/site-packages (3.7.1)\n",
      "Requirement already satisfied: packaging>=20.0 in /home/leejh/anaconda3/envs/biopython/lib/python3.10/site-packages (from matplotlib) (23.0)\n",
      "Requirement already satisfied: contourpy>=1.0.1 in /home/leejh/anaconda3/envs/biopython/lib/python3.10/site-packages (from matplotlib) (1.0.7)\n",
      "Requirement already satisfied: fonttools>=4.22.0 in /home/leejh/anaconda3/envs/biopython/lib/python3.10/site-packages (from matplotlib) (4.39.3)\n",
      "Requirement already satisfied: cycler>=0.10 in /home/leejh/anaconda3/envs/biopython/lib/python3.10/site-packages (from matplotlib) (0.11.0)\n",
      "Requirement already satisfied: python-dateutil>=2.7 in /home/leejh/anaconda3/envs/biopython/lib/python3.10/site-packages (from matplotlib) (2.8.2)\n",
      "Requirement already satisfied: pyparsing>=2.3.1 in /home/leejh/anaconda3/envs/biopython/lib/python3.10/site-packages (from matplotlib) (3.0.9)\n",
      "Requirement already satisfied: pillow>=6.2.0 in /home/leejh/anaconda3/envs/biopython/lib/python3.10/site-packages (from matplotlib) (9.5.0)\n",
      "Requirement already satisfied: kiwisolver>=1.0.1 in /home/leejh/anaconda3/envs/biopython/lib/python3.10/site-packages (from matplotlib) (1.4.4)\n",
      "Requirement already satisfied: numpy>=1.20 in /home/leejh/anaconda3/envs/biopython/lib/python3.10/site-packages (from matplotlib) (1.24.3)\n",
      "Requirement already satisfied: six>=1.5 in /home/leejh/anaconda3/envs/biopython/lib/python3.10/site-packages (from python-dateutil>=2.7->matplotlib) (1.16.0)\n"
     ]
    }
   ],
   "source": [
    "!pip install matplotlib"
   ]
  },
  {
   "cell_type": "markdown",
   "id": "f3d2a882",
   "metadata": {},
   "source": [
    "## 13.1 Demo: What’s in a Tree?"
   ]
  },
  {
   "cell_type": "code",
   "execution_count": 3,
   "id": "01aa7cd1",
   "metadata": {},
   "outputs": [
    {
     "name": "stdout",
     "output_type": "stream",
     "text": [
      "Tree(rooted=False, weight=1.0)\n",
      "    Clade()\n",
      "        Clade()\n",
      "            Clade()\n",
      "                Clade(name='A')\n",
      "                Clade(name='B')\n",
      "            Clade()\n",
      "                Clade(name='C')\n",
      "                Clade(name='D')\n",
      "        Clade()\n",
      "            Clade(name='E')\n",
      "            Clade(name='F')\n",
      "            Clade(name='G')\n",
      "                                                    ________________________ A\n",
      "                           ________________________|\n",
      "                          |                        |________________________ B\n",
      "  ________________________|\n",
      " |                        |                         ________________________ C\n",
      " |                        |________________________|\n",
      "_|                                                 |________________________ D\n",
      " |\n",
      " |                         ________________________ E\n",
      " |                        |\n",
      " |________________________|________________________ F\n",
      "                          |\n",
      "                          |________________________ G\n",
      "\n"
     ]
    },
    {
     "data": {
      "image/png": "[encoded data removed]",
      "text/plain": [
       "<Figure size 640x480 with 1 Axes>"
      ]
     },
     "metadata": {},
     "output_type": "display_data"
    }
   ],
   "source": [
    "from Bio import Phylo\n",
    "\n",
    "tree = Phylo.read(\"simple.dnd\", \"newick\")\n",
    "print(tree)\n",
    "\n",
    "Phylo.draw_ascii(tree)\n",
    "\n",
    "tree.rooted = True\n",
    "Phylo.draw(tree)"
   ]
  },
  {
   "cell_type": "markdown",
   "id": "bfea5b65",
   "metadata": {},
   "source": [
    "The function draw_ascii creates a simple ASCII-art (plain text) dendrogram. This is a convenient visualization for interactive exploration, in case better graphical tools aren’t available."
   ]
  },
  {
   "cell_type": "code",
   "execution_count": 4,
   "id": "f18db640",
   "metadata": {},
   "outputs": [
    {
     "name": "stdout",
     "output_type": "stream",
     "text": [
      "                                                    ________________________ A\n",
      "                           ________________________|\n",
      "                          |                        |________________________ B\n",
      "  ________________________|\n",
      " |                        |                         ________________________ C\n",
      " |                        |________________________|\n",
      "_|                                                 |________________________ D\n",
      " |\n",
      " |                         ________________________ E\n",
      " |                        |\n",
      " |________________________|________________________ F\n",
      "                          |\n",
      "                          |________________________ G\n",
      "\n"
     ]
    }
   ],
   "source": [
    "from Bio import Phylo\n",
    "tree = Phylo.read(\"simple.dnd\", \"newick\")\n",
    "Phylo.draw_ascii(tree)"
   ]
  },
  {
   "cell_type": "markdown",
   "id": "c6a81c8b",
   "metadata": {},
   "source": [
    "### 13.1.1 Coloring branches within a tree"
   ]
  },
  {
   "cell_type": "code",
   "execution_count": 5,
   "id": "c7215ca4",
   "metadata": {},
   "outputs": [
    {
     "data": {
      "image/png": "[encoded data removed]",
      "text/plain": [
       "<Figure size 640x480 with 1 Axes>"
      ]
     },
     "metadata": {},
     "output_type": "display_data"
    }
   ],
   "source": [
    "from Bio.Phylo.PhyloXML import Phylogeny\n",
    "tree = Phylo.read(\"simple.dnd\", \"newick\")\n",
    "tree = Phylogeny.from_tree(tree)\n",
    "tree.root.color = \"gray\" # or (128,128,128) or \"#808080\"\n",
    "mrca = tree.common_ancestor({\"name\": \"E\"}, {\"name\": \"F\"})\n",
    "mrca.color = \"salmon\"\n",
    "tree.clade[0, 1].color = \"blue\"\n",
    "Phylo.draw(tree)"
   ]
  },
  {
   "cell_type": "code",
   "execution_count": 6,
   "id": "05930245",
   "metadata": {},
   "outputs": [
    {
     "name": "stdout",
     "output_type": "stream",
     "text": [
      "<phyloxml xmlns:xsi=\"http://www.w3.org/2001/XMLSchema-instance\" xmlns=\"http://www.phyloxml.org\" xsi:schemaLocation=\"http://www.phyloxml.org http://www.phyloxml.org/1.10/phyloxml.xsd\">\n",
      "  <phylogeny rooted=\"false\">\n",
      "    <clade>\n",
      "      <color>\n",
      "        <red>128</red>\n",
      "        <green>128</green>\n",
      "        <blue>128</blue>\n",
      "      </color>\n",
      "      <clade>\n",
      "        <clade>\n",
      "          <clade>\n",
      "            <name>A</name>\n",
      "          </clade>\n",
      "          <clade>\n",
      "            <name>B</name>\n",
      "          </clade>\n",
      "        </clade>\n",
      "        <clade>\n",
      "          <color>\n",
      "            <red>0</red>\n",
      "            <green>0</green>\n",
      "            <blue>255</blue>\n",
      "          </color>\n",
      "          <clade>\n",
      "            <name>C</name>\n",
      "          </clade>\n",
      "          <clade>\n",
      "            <name>D</name>\n",
      "          </clade>\n",
      "        </clade>\n",
      "      </clade>\n",
      "      <clade>\n",
      "        <color>\n",
      "          <red>250</red>\n",
      "          <green>128</green>\n",
      "          <blue>114</blue>\n",
      "        </color>\n",
      "        <clade>\n",
      "          <name>E</name>\n",
      "        </clade>\n",
      "        <clade>\n",
      "          <name>F</name>\n",
      "        </clade>\n",
      "        <clade>\n",
      "          <name>G</name>\n",
      "        </clade>\n",
      "      </clade>\n",
      "    </clade>\n",
      "  </phylogeny>\n",
      "</phyloxml>"
     ]
    },
    {
     "data": {
      "text/plain": [
       "1"
      ]
     },
     "execution_count": 6,
     "metadata": {},
     "output_type": "execute_result"
    }
   ],
   "source": [
    "import sys\n",
    "n = Phylo.write(tree, sys.stdout, \"phyloxml\")\n",
    "n"
   ]
  },
  {
   "cell_type": "markdown",
   "id": "b63bc0ef",
   "metadata": {},
   "source": [
    "## 13.2 I/O functions\n",
    "* Download test file: [`int_node_labels.nwk`](https://github.com/biopython/biopython/blob/master/Tests/Nexus/int_node_labels.nwk)"
   ]
  },
  {
   "cell_type": "code",
   "execution_count": 7,
   "id": "a065e631",
   "metadata": {},
   "outputs": [
    {
     "name": "stdout",
     "output_type": "stream",
     "text": [
      "Tree(rooted=False, weight=1.0)\n",
      "    Clade(branch_length=75.0, name='gymnosperm')\n",
      "        Clade(branch_length=25.0, name='Coniferales')\n",
      "            Clade(branch_length=25.0)\n",
      "                Clade(branch_length=10.0, name='Tax+nonSci')\n",
      "                    Clade(branch_length=90.0, name='Taxaceae')\n",
      "                        Clade(branch_length=125.0, name='Cephalotaxus')\n",
      "                        Clade(branch_length=25.0, name='TT1')\n",
      "                            Clade(branch_length=100.0, name='Taxus')\n",
      "                            Clade(branch_length=100.0, name='Torreya')\n",
      "                    Clade(branch_length=15.0, name='nonSci')\n",
      "                        Clade(branch_length=15.11, name='Taw+others')\n",
      "                            Clade(branch_length=49.060001, name='STCC')\n",
      "                                Clade(branch_length=5.83, name='CupCallTax')\n",
      "                                    Clade(branch_length=30.0, name='CJCPTT')\n",
      "                                        Clade(branch_length=5.0, name='CCJCP')\n",
      "                                            Clade(branch_length=5.0, name='CJCP')\n",
      "                                                Clade(branch_length=5.0, name='CP')\n",
      "                                                    Clade(branch_length=85.0, name='Calocedrus')\n",
      "                                                    Clade(branch_length=85.0, name='Platycladus')\n",
      "                                                Clade(branch_length=5.0, name='CJ')\n",
      "                                                    Clade(branch_length=85.0, name='Cupressus')\n",
      "                                                    Clade(branch_length=85.0, name='Juniperus')\n",
      "                                            Clade(branch_length=95.0, name='Chamaecyparis')\n",
      "                                        Clade(branch_length=92.13, name='TT2')\n",
      "                                            Clade(branch_length=7.87, name='Thuja')\n",
      "                                            Clade(branch_length=7.87, name='Thujopsis')\n",
      "                                    Clade(branch_length=5.0, name='CTG')\n",
      "                                        Clade(branch_length=5.0, name='CT')\n",
      "                                            Clade(branch_length=120.0, name='Cryptomeria')\n",
      "                                            Clade(branch_length=120.0, name='Taxodium')\n",
      "                                        Clade(branch_length=125.0, name='Glyptostrobus')\n",
      "                                Clade(branch_length=5.83, name='Sequoioid')\n",
      "                                    Clade(branch_length=5.0, name='MS')\n",
      "                                        Clade(branch_length=125.0, name='Metasequoia')\n",
      "                                        Clade(branch_length=125.0, name='Sequoia')\n",
      "                                    Clade(branch_length=130.0, name='Sequoiadendron')\n",
      "                            Clade(branch_length=184.889999, name='Taiwania')\n",
      "                        Clade(branch_length=200.0, name='Cunninghamia')\n",
      "                Clade(branch_length=225.0, name='Sciadopitys')\n",
      "            Clade(branch_length=66.0, name='Pinaceae')\n",
      "                Clade(branch_length=24.0, name='NTPAK')\n",
      "                    Clade(branch_length=54.0, name='AK')\n",
      "                        Clade(branch_length=106.0, name='Abies')\n",
      "                        Clade(branch_length=106.0, name='Keteleeria')\n",
      "                    Clade(branch_length=4.0, name='NTP')\n",
      "                        Clade(branch_length=156.0, name='Pseudolarix')\n",
      "                        Clade(branch_length=156.0, name='Tsuga')\n",
      "                Clade(branch_length=16.0, name='Pinoideae')\n",
      "                    Clade(branch_length=81.0, name='LP')\n",
      "                        Clade(branch_length=87.0, name='Larix')\n",
      "                        Clade(branch_length=87.0, name='Pseudotsuga')\n",
      "                    Clade(branch_length=13.0, name='PPC')\n",
      "                        Clade(branch_length=155.0, name='Picea')\n",
      "                        Clade(branch_length=155.0, name='Pinus')\n",
      "        Clade(branch_length=275.0, name='Ginkgo')\n"
     ]
    }
   ],
   "source": [
    "from Bio import Phylo\n",
    "tree = Phylo.read(\"int_node_labels.nwk\", \"newick\")\n",
    "print(tree) # doctest:+ELLIPSIS"
   ]
  },
  {
   "cell_type": "markdown",
   "id": "d5dada71",
   "metadata": {},
   "source": [
    "* Download test file: [`phyloxml_examples.xml`](https://github.com/biopython/biopython/blob/master/Tests/PhyloXML/phyloxml_examples.xml)"
   ]
  },
  {
   "cell_type": "code",
   "execution_count": 8,
   "id": "e1d2a9de",
   "metadata": {},
   "outputs": [
    {
     "name": "stdout",
     "output_type": "stream",
     "text": [
      "Phylogeny(description='phyloXML allows to use either a \"branch_length\" attribute...', name='example from Prof. Joe Felsenstein's book \"Inferring Phyl...', rooted=True)\n",
      "    Clade()\n",
      "        Clade(branch_length=0.06)\n",
      "            Clade(branch_length=0.102, name='A')\n",
      "            Clade(branch_length=0.23, name='B')\n",
      "        Clade(branch_length=0.4, name='C')\n",
      "Phylogeny(description='phyloXML allows to use either a \"branch_length\" attribute...', name='example from Prof. Joe Felsenstein's book \"Inferring Phyl...', rooted=True)\n",
      "    Clade()\n",
      "        Clade(branch_length=0.06)\n",
      "            Clade(branch_length=0.102, name='A')\n",
      "            Clade(branch_length=0.23, name='B')\n",
      "        Clade(branch_length=0.4, name='C')\n",
      "Phylogeny(name='same example, with support of type \"bootstrap\"', rooted=True)\n",
      "    Clade()\n",
      "        Clade(branch_length=0.06, name='AB')\n",
      "            Confidence(type='bootstrap')\n",
      "            Clade(branch_length=0.102, name='A')\n",
      "            Clade(branch_length=0.23, name='B')\n",
      "        Clade(branch_length=0.4, name='C')\n",
      "Phylogeny(name='same example, with species and sequence', rooted=True)\n",
      "    Clade()\n",
      "        Clade(name='AB')\n",
      "            Clade(name='A')\n",
      "                E. coli\n",
      "                Sequence()\n",
      "                    Annotation(desc='alcohol dehydrogenase')\n",
      "                        Confidence(type='probability')\n",
      "            Clade(name='B')\n",
      "                B. subtilis\n",
      "                Sequence()\n",
      "                    Annotation(desc='alcohol dehydrogenase')\n",
      "                        Confidence(type='probability')\n",
      "        Clade(name='C')\n",
      "            C. elegans\n",
      "            Sequence()\n",
      "                Annotation(desc='alcohol dehydrogenase')\n",
      "                    Confidence(type='probability')\n",
      "Phylogeny(name='same example, with gene duplication information and seque...', rooted=True)\n",
      "    Clade()\n",
      "        Events(speciations=1)\n",
      "        Clade()\n",
      "            Events(duplications=1)\n",
      "            Clade()\n",
      "                Bacillus subtilis\n",
      "                Sequence(id_source='x', name='alcohol dehydrogenase', symbol='adhB')\n",
      "                    ncbi:AAB80874\n",
      "            Clade()\n",
      "                Bacillus subtilis\n",
      "                Sequence(id_source='y', name='alcohol dehydrogenase', symbol='gbsB')\n",
      "                    ncbi:CAB15083\n",
      "        Clade()\n",
      "            Caenorhabditis elegans\n",
      "            Sequence(id_source='z', name='alcohol dehydrogenase', symbol='ADHX')\n",
      "                ncbi:Q17335\n",
      "                Annotation(ref='InterPro:IPR002085')\n",
      "    SequenceRelation(id_ref_0='x', id_ref_1='y', type='paralogy')\n",
      "    SequenceRelation(id_ref_0='x', id_ref_1='z', type='orthology')\n",
      "    SequenceRelation(id_ref_0='y', id_ref_1='z', type='orthology')\n",
      "Phylogeny(name='similar example, with more detailed sequence data', rooted=True)\n",
      "    Clade()\n",
      "        Clade()\n",
      "            Clade()\n",
      "                OCTVU\n",
      "                    NCBI:6645\n",
      "                Sequence(name='Alcohol dehydrogenase class-3', symbol='ADHX')\n",
      "                    UniProtKB:P81431\n",
      "                    TDATGKPIKCMAAIAWEAKKPLSIEEVEVAPPKSGEVRIKILHSGVCHTD\n",
      "                    Annotation(ref='EC:1.1.1.1')\n",
      "                    Annotation(ref='GO:0004022')\n",
      "            Clade()\n",
      "                DICDI\n",
      "                    NCBI:44689\n",
      "                Sequence(name='Reticulon-4-interacting protein 1 homolog, mitochondrial ...', symbol='RT4I1')\n",
      "                    UniProtKB:Q54II4\n",
      "                    MKGILLNGYGESLDLLEYKTDLPVPKPIKSQVLIKIHSTSINPLDNVMRK\n",
      "                    Annotation(ref='GO:0008270')\n",
      "                    Annotation(ref='GO:0016491')\n",
      "        Clade()\n",
      "            CLOAB\n",
      "                NCBI:1488\n",
      "            Sequence(name='NADH-dependent butanol dehydrogenase B', symbol='ADHB')\n",
      "                UniProtKB:Q04945\n",
      "                MVDFEYSIPTRIFFGKDKINVLGRELKKYGSKVLIVYGGGSIKRNGIYDK\n",
      "                Annotation(ref='GO:0046872')\n",
      "                Annotation(ref='KEGG:Tetrachloroethene degradation')\n",
      "Phylogeny(name='network, node B is connected to TWO nodes: AB and C', rooted=False)\n",
      "    Clade()\n",
      "        Clade(branch_length=0.06, id_source='ab', name='AB')\n",
      "            Clade(branch_length=0.102, id_source='a', name='A')\n",
      "            Clade(branch_length=0.23, id_source='b', name='B')\n",
      "        Clade(branch_length=0.4, id_source='c', name='C')\n",
      "    CladeRelation(id_ref_0='b', id_ref_1='c', type='network_connection')\n",
      "Phylogeny(name='same example, using property elements to indicate a \"dept...', rooted=True)\n",
      "    Clade()\n",
      "        Clade(name='AB')\n",
      "            Clade(name='A')\n",
      "                Property(applies_to='clade', datatype='xsd:integer', ref='NOAA:depth', unit='METRIC:m', value='1200')\n",
      "            Clade(name='B')\n",
      "                Property(applies_to='clade', datatype='xsd:integer', ref='NOAA:depth', unit='METRIC:m', value='2300')\n",
      "        Clade(name='C')\n",
      "            Property(applies_to='clade', datatype='xsd:integer', ref='NOAA:depth', unit='METRIC:m', value='200')\n",
      "Phylogeny(name='same example, using property elements to indicate a \"dept...', rooted=True)\n",
      "    Clade()\n",
      "        Clade(name='AB')\n",
      "            Clade(id_source='id_a', name='A')\n",
      "            Clade(id_source='id_b', name='B')\n",
      "        Clade(id_source='id_c', name='C')\n",
      "    Property(applies_to='node', datatype='xsd:integer', id_ref='id_a', ref='NOAA:depth', unit='METRIC:m', value='1200')\n",
      "    Property(applies_to='node', datatype='xsd:integer', id_ref='id_b', ref='NOAA:depth', unit='METRIC:m', value='2300')\n",
      "    Property(applies_to='node', datatype='xsd:integer', id_ref='id_c', ref='NOAA:depth', unit='METRIC:m', value='200')\n",
      "Phylogeny(description='a pylogeny of some monitor lizards', name='monitor lizards', rooted=True)\n",
      "    Clade()\n",
      "        Varanus\n",
      "            NCBI:8556\n",
      "            http://www.embl-heidelberg.de/~uetz/families/Varanidae.html\n",
      "        Clade()\n",
      "            Varanus niloticus\n",
      "                NCBI:62046\n",
      "            Distribution(desc='Africa')\n",
      "        Clade()\n",
      "            Odatria\n",
      "            Clade()\n",
      "                Varanus storri\n",
      "                    NCBI:169855\n",
      "                Distribution(desc='Australia')\n",
      "            Clade()\n",
      "                Varanus timorensis\n",
      "                    NCBI:62053\n",
      "                Distribution(desc='Asia')\n",
      "Phylogeny(name='A tree with phylogeographic information', rooted=True)\n",
      "    Clade()\n",
      "        Clade()\n",
      "            Clade(name='A')\n",
      "                Distribution(desc='Hirschweg, Winterthur, Switzerland')\n",
      "                    Point(alt=472.0, geodetic_datum='WGS84', lat=47.481277, long=8.769303)\n",
      "            Clade(name='B')\n",
      "                Distribution(desc='Nagoya, Aichi, Japan')\n",
      "                    Point(alt=10.0, geodetic_datum='WGS84', lat=35.155904, long=136.915863)\n",
      "            Clade(name='C')\n",
      "                Distribution(desc='ETH Zürich')\n",
      "                    Point(alt=452.0, geodetic_datum='WGS84', lat=47.376334, long=8.548108)\n",
      "        Clade(name='D')\n",
      "            Distribution(desc='San Diego')\n",
      "                Point(alt=104.0, geodetic_datum='WGS84', lat=32.880933, long=-117.217543)\n",
      "Phylogeny(name='A tree with date information', rooted=True)\n",
      "    Clade()\n",
      "        Clade()\n",
      "            Clade(name='A')\n",
      "                425.0 mya\n",
      "            Clade(name='B')\n",
      "                320.0 mya\n",
      "        Clade(name='C')\n",
      "            600.0 mya\n",
      "Phylogeny(name='Using another XML language to store an alignment', rooted=True)\n",
      "    Clade()\n",
      "        Clade()\n",
      "            Clade(name='A')\n",
      "            Clade(name='B')\n",
      "        Clade(name='C')\n"
     ]
    }
   ],
   "source": [
    "trees = Phylo.parse(\"phyloxml_examples.xml\", \"phyloxml\")\n",
    "for tree in trees:\n",
    "    print(tree) # doctest:+ELLIPSIS"
   ]
  },
  {
   "cell_type": "markdown",
   "id": "b48b3e2e",
   "metadata": {},
   "source": [
    "Write a tree or iterable of trees back to file with the `write` function:"
   ]
  },
  {
   "cell_type": "code",
   "execution_count": 9,
   "id": "07056c94",
   "metadata": {},
   "outputs": [
    {
     "data": {
      "text/plain": [
       "12"
      ]
     },
     "execution_count": 9,
     "metadata": {},
     "output_type": "execute_result"
    }
   ],
   "source": [
    "trees = Phylo.parse(\"phyloxml_examples.xml\", \"phyloxml\")\n",
    "tree1 = next(trees)\n",
    "Phylo.write(tree1, \"tree1.nwk\", \"newick\")\n",
    "Phylo.write(trees, \"other_trees.xml\", \"phyloxml\") # write the remaining trees"
   ]
  },
  {
   "cell_type": "markdown",
   "id": "720a5dae",
   "metadata": {},
   "source": [
    "Convert files between any of the supported formats with the `convert` function:"
   ]
  },
  {
   "cell_type": "code",
   "execution_count": 10,
   "id": "a2110c45",
   "metadata": {},
   "outputs": [
    {
     "data": {
      "text/plain": [
       "12"
      ]
     },
     "execution_count": 10,
     "metadata": {},
     "output_type": "execute_result"
    }
   ],
   "source": [
    "Phylo.convert(\"tree1.nwk\", \"newick\", \"tree1.xml\", \"nexml\")\n",
    "Phylo.convert(\"other_trees.xml\", \"phyloxml\", \"other_trees.nex\", \"nexus\")"
   ]
  },
  {
   "cell_type": "markdown",
   "id": "f97ce3ab",
   "metadata": {},
   "source": [
    "To use strings as input or output instead of actual files, use StringIO as you would with SeqIO and AlignIO:"
   ]
  },
  {
   "cell_type": "code",
   "execution_count": 11,
   "id": "04657ff2",
   "metadata": {},
   "outputs": [
    {
     "data": {
      "text/plain": [
       "Tree(rooted=False, weight=1.0)"
      ]
     },
     "execution_count": 11,
     "metadata": {},
     "output_type": "execute_result"
    }
   ],
   "source": [
    "from Bio import Phylo\n",
    "from io import StringIO\n",
    "handle = StringIO(\"(((A,B),(C,D)),(E,F,G));\")\n",
    "tree = Phylo.read(handle, \"newick\")\n",
    "tree"
   ]
  },
  {
   "cell_type": "markdown",
   "id": "f3c88d77",
   "metadata": {},
   "source": [
    "## 13.3 View and export trees\n",
    "* Download test file: [`example.xml`](https://github.com/biopython/biopython/blob/master/Tests/PhyloXML/example.xml)"
   ]
  },
  {
   "cell_type": "code",
   "execution_count": 12,
   "id": "ddf4bb1a",
   "metadata": {},
   "outputs": [
    {
     "name": "stdout",
     "output_type": "stream",
     "text": [
      "Phylogeny(description='phyloXML allows to use either a \"branch_length\" attribute...', name='example from Prof. Joe Felsenstein's book \"Inferring Phyl...', rooted=True)\n",
      "    Clade()\n",
      "        Clade(branch_length=0.06)\n",
      "            Clade(branch_length=0.102, name='A')\n",
      "            Clade(branch_length=0.23, name='B')\n",
      "        Clade(branch_length=0.4, name='C')\n"
     ]
    }
   ],
   "source": [
    "from Bio import Phylo\n",
    "tree = Phylo.read(\"example.xml\", \"phyloxml\")\n",
    "print(tree)"
   ]
  },
  {
   "cell_type": "code",
   "execution_count": 13,
   "id": "cdc76bb2",
   "metadata": {},
   "outputs": [
    {
     "name": "stdout",
     "output_type": "stream",
     "text": [
      "             __________________ A\n",
      "  __________|\n",
      "_|          |___________________________________________ B\n",
      " |\n",
      " |___________________________________________________________________________ C\n",
      "\n"
     ]
    }
   ],
   "source": [
    "tree = Phylo.read(\"example.xml\", \"phyloxml\")\n",
    "Phylo.draw_ascii(tree)"
   ]
  },
  {
   "cell_type": "markdown",
   "id": "dea43fb7",
   "metadata": {},
   "source": [
    "The draw function draws a more attractive image using the matplotlib library."
   ]
  },
  {
   "cell_type": "code",
   "execution_count": 14,
   "id": "e2d6e55d",
   "metadata": {},
   "outputs": [
    {
     "data": {
      "image/png": "[encoded data removed]",
      "text/plain": [
       "<Figure size 640x480 with 1 Axes>"
      ]
     },
     "metadata": {},
     "output_type": "display_data"
    }
   ],
   "source": [
    "Phylo.draw(tree, branch_labels=lambda c: c.branch_length)"
   ]
  },
  {
   "cell_type": "markdown",
   "id": "2a464a8b",
   "metadata": {},
   "source": [
    "## 13.4 Using Tree and Clade objects\n",
    "### 13.4.1 Search and traversal methods"
   ]
  },
  {
   "cell_type": "markdown",
   "id": "0052a0b4",
   "metadata": {},
   "source": [
    "`get_terminals`\n",
    ": makes a list of all of this tree’s terminal (leaf) nodes.\n",
    "\n",
    "`get_nonterminals`\n",
    ": makes a list of all of this tree’s nonterminal (internal) nodes."
   ]
  },
  {
   "cell_type": "markdown",
   "id": "6098f6bf",
   "metadata": {},
   "source": [
    "These both wrap a method with full control over tree traversal, `find_clades`. Two more traversal methods, `find_elements` and `find_any`, rely on the same core functionality and accept the same arguments, which we’ll call a “target specification” for lack of a better description. These specify which objects in the tree will be matched and returned during iteration. The first argument can be any of the following types:\n",
    "\n",
    "- A **TreeElement instance**, which tree elements will match by identity — so searching with a Clade instance as the target will find that clade in the tree;\n",
    "- A **string**, which matches tree elements’ string representation — in particular, a clade’s `name` *(added in Biopython 1.56)*;\n",
    "- A **class** or **type**, where every tree element of the same type (or sub-type) will be matched;\n",
    "- A **dictionary** where keys are tree element attributes and values are matched to the corresponding attribute of each tree element. This one gets even more elaborate:\n",
    "- A function taking a single argument (it will be applied to each element in the tree), returning True or False. For convenience, LookupError, AttributeError and ValueError are silenced, so this provides another safe way to search for floating-point values in the tree, or some more complex characteristic."
   ]
  },
  {
   "cell_type": "markdown",
   "id": "70ea7b67",
   "metadata": {},
   "source": [
    "After the target, there are two optional keyword arguments:\n",
    "\n",
    "terminal\n",
    "— A boolean value to select for or against terminal clades (a.k.a. leaf nodes): True searches for only terminal clades, False for non-terminal (internal) clades, and the default, None, searches both terminal and non-terminal clades, as well as any tree elements lacking the is_terminal method.\n",
    "\n",
    "order\n",
    "— Tree traversal order: \"preorder\" (default) is depth-first search, \"postorder\" is DFS with child nodes preceding parents, and \"level\" is breadth-first search."
   ]
  },
  {
   "cell_type": "markdown",
   "id": "babe5fbe",
   "metadata": {},
   "source": [
    "## Information methods\n",
    "These methods provide information about the whole tree (or any clade)."
   ]
  },
  {
   "cell_type": "markdown",
   "id": "f0f2d806",
   "metadata": {},
   "source": [
    "- common_ancestor\n",
    "Find the most recent common ancestor of all the given targets. (This will be a Clade object). If no target is given, returns the root of the current clade (the one this method is called from); if 1 target is given, this returns the target itself. However, if any of the specified targets are not found in the current tree (or clade), an exception is raised.\n",
    "- count_terminals\n",
    "Counts the number of terminal (leaf) nodes within the tree.\n",
    "- depths\n",
    "Create a mapping of tree clades to depths. The result is a dictionary where the keys are all of the Clade instances in the tree, and the values are the distance from the root to each clade (including terminals). By default the distance is the cumulative branch length leading to the clade, but with the unit_branch_lengths=True option, only the number of branches (levels in the tree) is counted.\n",
    "- distance\n",
    "Calculate the sum of the branch lengths between two targets. If only one target is specified, the other is the root of this tree.\n",
    "total_branch_length\n",
    "Calculate the sum of all the branch lengths in this tree. This is usually just called the “length” of the tree in phylogenetics, but we use a more explicit name to avoid confusion with Python terminology.\n",
    "\n",
    "\n",
    "The rest of these methods are boolean checks:\n",
    "\n",
    "- is_bifurcating\n",
    "True if the tree is strictly bifurcating; i.e. all nodes have either 2 or 0 children (internal or external, respectively). The root may have 3 descendents and still be considered part of a bifurcating tree.\n",
    "\n",
    "- is_monophyletic\n",
    "Test if all of the given targets comprise a complete subclade — i.e., there exists a clade such that its terminals are the same set as the given targets. The targets should be terminals of the tree. For convenience, this method returns the common ancestor (MCRA) of the targets if they are monophyletic (instead of the value True), and False otherwise.\n",
    "\n",
    "- is_parent_of\n",
    "True if target is a descendent of this tree — not required to be a direct descendent. To check direct descendents of a clade, simply use list membership testing: if subclade in clade: ...\n",
    "\n",
    "- is_preterminal\n",
    "True if all direct descendents are terminal; False if any direct descendent is not terminal."
   ]
  },
  {
   "cell_type": "markdown",
   "id": "3c70add3",
   "metadata": {},
   "source": [
    "### Modification methods"
   ]
  },
  {
   "cell_type": "code",
   "execution_count": 15,
   "id": "a5221d1d",
   "metadata": {},
   "outputs": [],
   "source": [
    "#  keep the original tree intact, make a complete copy of the tree\n",
    "tree = Phylo.read(\"example.xml\", \"phyloxml\")\n",
    "import copy\n",
    "\n",
    "newtree = copy.deepcopy(tree)"
   ]
  },
  {
   "cell_type": "code",
   "execution_count": 16,
   "id": "9f324b66",
   "metadata": {},
   "outputs": [
    {
     "data": {
      "text/plain": [
       "Phylogeny(description='phyloXML allows to use either a \"branch_length\" attribute...', name='example from Prof. Joe Felsenstein's book \"Inferring Phyl...', rooted=True)"
      ]
     },
     "execution_count": 16,
     "metadata": {},
     "output_type": "execute_result"
    }
   ],
   "source": [
    "newtree"
   ]
  },
  {
   "cell_type": "markdown",
   "id": "d2410baa",
   "metadata": {},
   "source": [
    "* Download test file:\n",
    "[`random.phy`](https://github.com/biopython/biopython/blob/master/Tests/Phylip/random.phy), \n",
    "[`alignment.phylip`](https://github.com/biopython/biopython/blob/master/Tests/PAML/Alignments/alignment.phylip), \n",
    "[`species.tree`](https://github.com/biopython/biopython/blob/master/Tests/PAML/Trees/species.tree), \n",
    "[`NSsite3-4_1.out`](https://github.com/biopython/biopython/blob/master/Tests/PAML/Results/codeml/NSsite3/NSsite3-4_1.out)"
   ]
  },
  {
   "cell_type": "code",
   "execution_count": 17,
   "id": "59e7e32a",
   "metadata": {},
   "outputs": [
    {
     "name": "stdout",
     "output_type": "stream",
     "text": [
      "Collecting package metadata (current_repodata.json): done\n",
      "Solving environment: done\n",
      "\n",
      "\n",
      "==> WARNING: A newer version of conda exists. <==\n",
      "  current version: 22.9.0\n",
      "  latest version: 23.5.0\n",
      "\n",
      "Please update conda by running\n",
      "\n",
      "    $ conda update -n base -c defaults conda\n",
      "\n",
      "\n",
      "\n",
      "## Package Plan ##\n",
      "\n",
      "  environment location: /home/leejh/anaconda3/envs/biopython\n",
      "\n",
      "  added / updated specs:\n",
      "    - phyml\n",
      "\n",
      "\n",
      "The following packages will be downloaded:\n",
      "\n",
      "    package                    |            build\n",
      "    ---------------------------|-----------------\n",
      "    ca-certificates-2023.05.30 |       h06a4308_0         120 KB\n",
      "    ------------------------------------------------------------\n",
      "                                           Total:         120 KB\n",
      "\n",
      "The following packages will be UPDATED:\n",
      "\n",
      "  ca-certificates                     2023.01.10-h06a4308_0 --> 2023.05.30-h06a4308_0 None\n",
      "\n",
      "\n",
      "\n",
      "Downloading and Extracting Packages\n",
      "ca-certificates-2023 | 120 KB    | ##################################### | 100% \n",
      "Preparing transaction: done\n",
      "Verifying transaction: done\n",
      "Executing transaction: done\n",
      "Retrieving notices: ...working... done\n"
     ]
    }
   ],
   "source": [
    "!conda install -y -c bioconda phyml"
   ]
  },
  {
   "cell_type": "code",
   "execution_count": 18,
   "id": "f65b177f",
   "metadata": {},
   "outputs": [],
   "source": [
    "import subprocess\n",
    "cmd = \"phyml -i ./random.phy\"\n",
    "results = subprocess.run(cmd, shell=True, stdout=subprocess.PIPE, text=True)"
   ]
  },
  {
   "cell_type": "code",
   "execution_count": 19,
   "id": "dc66ee60",
   "metadata": {},
   "outputs": [
    {
     "name": "stdout",
     "output_type": "stream",
     "text": [
      "  _______ B\n",
      " |\n",
      " |_______________________ A\n",
      "_|\n",
      " |               , E\n",
      " |               |\n",
      " |_______________|               , G\n",
      "                 |               |\n",
      "                 |               |        ________ C\n",
      "                 |_______________|_______|\n",
      "                                 |       |        , J\n",
      "                                 |       |________|\n",
      "                                 |                |          , H\n",
      "                                 |                |__________|\n",
      "                                 |                           |_____________ D\n",
      "                                 |\n",
      "                                 |            __________________ F\n",
      "                                 |___________|\n",
      "                                             | I\n",
      "\n"
     ]
    }
   ],
   "source": [
    "from Bio import Phylo\n",
    "tree = Phylo.read(\"random.phy_phyml_tree.txt\", \"newick\")\n",
    "#tree = Phylo.read(\"random.phy\", \"newick\")\n",
    "Phylo.draw_ascii(tree)"
   ]
  },
  {
   "cell_type": "code",
   "execution_count": 20,
   "id": "1ad9e3a0",
   "metadata": {},
   "outputs": [
    {
     "name": "stdout",
     "output_type": "stream",
     "text": [
      "Collecting package metadata (current_repodata.json): done\n",
      "Solving environment: done\n",
      "\n",
      "\n",
      "==> WARNING: A newer version of conda exists. <==\n",
      "  current version: 22.9.0\n",
      "  latest version: 23.5.0\n",
      "\n",
      "Please update conda by running\n",
      "\n",
      "    $ conda update -n base -c defaults conda\n",
      "\n",
      "\n",
      "\n",
      "# All requested packages already installed.\n",
      "\n",
      "Retrieving notices: ...working... done\n"
     ]
    }
   ],
   "source": [
    "!conda install -y -c bioconda paml"
   ]
  },
  {
   "cell_type": "code",
   "execution_count": 21,
   "id": "45c3cc8a",
   "metadata": {},
   "outputs": [],
   "source": [
    "from Bio.Phylo.PAML import codeml\n",
    "cml = codeml.Codeml()\n",
    "cml.alignment = \"alignment.phylip\"\n",
    "cml.tree = \"species.tree\"\n",
    "cml.out_file = \"results.out\"\n",
    "cml.working_dir = \"./scratch\"\n",
    "cml.set_options(\n",
    "    seqtype=1,\n",
    "    verbose=0,\n",
    "    noisy=0,\n",
    "    RateAncestor=0,\n",
    "    model=0,\n",
    "    NSsites=[0, 1, 2],\n",
    "    CodonFreq=2,\n",
    "    cleandata=1,\n",
    "    fix_alpha=1,\n",
    "    kappa=4.54006,\n",
    ")"
   ]
  },
  {
   "cell_type": "code",
   "execution_count": 22,
   "id": "8693a30e",
   "metadata": {},
   "outputs": [
    {
     "name": "stdout",
     "output_type": "stream",
     "text": [
      "0.0001\n"
     ]
    }
   ],
   "source": [
    "results = cml.run()\n",
    "ns_sites = results.get(\"NSsites\")\n",
    "m0 = ns_sites.get(0)\n",
    "m0_params = m0.get(\"parameters\")\n",
    "print(m0_params.get(\"omega\"))"
   ]
  },
  {
   "cell_type": "code",
   "execution_count": 23,
   "id": "cf88ccb9",
   "metadata": {},
   "outputs": [
    {
     "name": "stdout",
     "output_type": "stream",
     "text": [
      "None\n"
     ]
    }
   ],
   "source": [
    "results = codeml.read(\"NSsite3-4_1.out\")\n",
    "print(results.get(\"lnL max\"))"
   ]
  }
 ],
 "metadata": {
  "kernelspec": {
   "display_name": "Python 3 (ipykernel)",
   "language": "python",
   "name": "python3"
  },
  "language_info": {
   "codemirror_mode": {
    "name": "ipython",
    "version": 3
   },
   "file_extension": ".py",
   "mimetype": "text/x-python",
   "name": "python",
   "nbconvert_exporter": "python",
   "pygments_lexer": "ipython3",
   "version": "3.10.9"
  }
 },
 "nbformat": 4,
 "nbformat_minor": 5
}
