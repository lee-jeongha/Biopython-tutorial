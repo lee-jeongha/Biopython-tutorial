{
 "cells": [
  {
   "cell_type": "markdown",
   "id": "1a128dce",
   "metadata": {},
   "source": [
    "# Chapter ‍14 Sequence motif analysis using Bio.motifs"
   ]
  },
  {
   "cell_type": "markdown",
   "id": "521484bb",
   "metadata": {},
   "source": [
    "This chapter gives an overview of the functionality of the Bio.motifs package included in Biopython. It is\n",
    "intended for people who are involved in the analysis of sequence motifs, so I’ll assume that you are familiar\n",
    "with basic notions of motif analysis. In case something is unclear, please look at Section 14.10 for some\n",
    "relevant links.\n",
    "Most of this chapter describes the new Bio.motifs package included in Biopython 1.61 onwards, which\n",
    "is replacing the older Bio.Motif package introduced with Biopython 1.50, which was in turn based on two\n",
    "older former Biopython modules, Bio.AlignAce and Bio.MEME. It provides most of their functionality with\n",
    "a unified motif object implementation.\n",
    "Speaking of other libraries, if you are reading this you might be interested in TAMO, another python\n",
    "library designed to deal with sequence motifs. It supports more de-novo motif finders, but it is not a part\n",
    "of Biopython and has some restrictions on commercial use."
   ]
  },
  {
   "cell_type": "markdown",
   "id": "e3de25c6",
   "metadata": {},
   "source": [
    "## 14.1 Motif objects"
   ]
  },
  {
   "cell_type": "markdown",
   "id": "b51b8b9c",
   "metadata": {},
   "source": [
    "### 14.1.1  Creating a motif from instances"
   ]
  },
  {
   "cell_type": "code",
   "execution_count": 1,
   "id": "67c651b7",
   "metadata": {},
   "outputs": [],
   "source": [
    "from Bio import motifs    # import the Bio.motifs library: "
   ]
  },
  {
   "cell_type": "markdown",
   "id": "b846205e",
   "metadata": {},
   "source": [
    "Suppose we have these instances of a DNA motif:"
   ]
  },
  {
   "cell_type": "code",
   "execution_count": 2,
   "id": "65ee66d6",
   "metadata": {},
   "outputs": [],
   "source": [
    "from Bio.Seq import Seq\n",
    "instances = [Seq(\"TACAA\"),\n",
    "    Seq(\"TACGC\"),\n",
    "    Seq(\"TACAC\"),\n",
    "    Seq(\"TACCC\"),\n",
    "    Seq(\"AACCC\"),\n",
    "    Seq(\"AATGC\"),\n",
    "    Seq(\"AATGC\")]"
   ]
  },
  {
   "cell_type": "markdown",
   "id": "77143ff5",
   "metadata": {},
   "source": [
    "then we can create a Motif object as follows"
   ]
  },
  {
   "cell_type": "code",
   "execution_count": 3,
   "id": "30999e37",
   "metadata": {},
   "outputs": [],
   "source": [
    "m = motifs.create(instances)   # create a Motif object"
   ]
  },
  {
   "cell_type": "code",
   "execution_count": 4,
   "id": "f111e140",
   "metadata": {},
   "outputs": [
    {
     "name": "stdout",
     "output_type": "stream",
     "text": [
      "TACAA\n",
      "TACGC\n",
      "TACAC\n",
      "TACCC\n",
      "AACCC\n",
      "AATGC\n",
      "AATGC\n",
      "\n"
     ]
    }
   ],
   "source": [
    "print(m)"
   ]
  },
  {
   "cell_type": "markdown",
   "id": "63fe3f52",
   "metadata": {},
   "source": [
    "The length of the motif is defined as the sequence length, which should be the same for all instances:"
   ]
  },
  {
   "cell_type": "code",
   "execution_count": 5,
   "id": "595a7543",
   "metadata": {},
   "outputs": [
    {
     "data": {
      "text/plain": [
       "5"
      ]
     },
     "execution_count": 5,
     "metadata": {},
     "output_type": "execute_result"
    }
   ],
   "source": [
    "len(m)"
   ]
  },
  {
   "cell_type": "markdown",
   "id": "f13be23b",
   "metadata": {},
   "source": [
    "The Motif object has an attribute .counts containing the counts of each nucleotide at each position. Printing\n",
    "this counts matrix shows it in an easily readable format:"
   ]
  },
  {
   "cell_type": "code",
   "execution_count": 6,
   "id": "3728635e",
   "metadata": {},
   "outputs": [
    {
     "name": "stdout",
     "output_type": "stream",
     "text": [
      "        0      1      2      3      4\n",
      "A:   3.00   7.00   0.00   2.00   1.00\n",
      "C:   0.00   0.00   5.00   2.00   6.00\n",
      "G:   0.00   0.00   0.00   3.00   0.00\n",
      "T:   4.00   0.00   2.00   0.00   0.00\n",
      "\n"
     ]
    }
   ],
   "source": [
    "print(m.counts)"
   ]
  },
  {
   "cell_type": "markdown",
   "id": "d40513b9",
   "metadata": {},
   "source": [
    "You can access these counts as a dictionary:"
   ]
  },
  {
   "cell_type": "code",
   "execution_count": 7,
   "id": "da4557dd",
   "metadata": {},
   "outputs": [
    {
     "data": {
      "text/plain": [
       "[3, 7, 0, 2, 1]"
      ]
     },
     "execution_count": 7,
     "metadata": {},
     "output_type": "execute_result"
    }
   ],
   "source": [
    "m.counts['A']"
   ]
  },
  {
   "cell_type": "markdown",
   "id": "fa3b00d1",
   "metadata": {},
   "source": [
    "but you can also think of it as a 2D array with the nucleotide as the first dimension and the position as the second dimension:"
   ]
  },
  {
   "cell_type": "code",
   "execution_count": 8,
   "id": "d47fbd76",
   "metadata": {},
   "outputs": [
    {
     "data": {
      "text/plain": [
       "4"
      ]
     },
     "execution_count": 8,
     "metadata": {},
     "output_type": "execute_result"
    }
   ],
   "source": [
    "m.counts['T', 0]"
   ]
  },
  {
   "cell_type": "code",
   "execution_count": 9,
   "id": "34022df1",
   "metadata": {},
   "outputs": [
    {
     "data": {
      "text/plain": [
       "2"
      ]
     },
     "execution_count": 9,
     "metadata": {},
     "output_type": "execute_result"
    }
   ],
   "source": [
    "m.counts['T', 2]"
   ]
  },
  {
   "cell_type": "code",
   "execution_count": 10,
   "id": "b87c6649",
   "metadata": {},
   "outputs": [
    {
     "data": {
      "text/plain": [
       "0"
      ]
     },
     "execution_count": 10,
     "metadata": {},
     "output_type": "execute_result"
    }
   ],
   "source": [
    "m.counts['T', 3]"
   ]
  },
  {
   "cell_type": "markdown",
   "id": "e932d7c3",
   "metadata": {},
   "source": [
    "You can also directly access columns of the counts matrix"
   ]
  },
  {
   "cell_type": "code",
   "execution_count": 11,
   "id": "231da4a5",
   "metadata": {},
   "outputs": [
    {
     "data": {
      "text/plain": [
       "{'A': 2, 'C': 2, 'G': 3, 'T': 0}"
      ]
     },
     "execution_count": 11,
     "metadata": {},
     "output_type": "execute_result"
    }
   ],
   "source": [
    " m.counts[:, 3]"
   ]
  },
  {
   "cell_type": "markdown",
   "id": "05c04ced",
   "metadata": {},
   "source": [
    "nstead of the nucleotide itself, you can also use the index of the nucleotide in the sorted letters in the alphabet of the motif:"
   ]
  },
  {
   "cell_type": "code",
   "execution_count": 12,
   "id": "f459432f",
   "metadata": {},
   "outputs": [
    {
     "data": {
      "text/plain": [
       "'ACGT'"
      ]
     },
     "execution_count": 12,
     "metadata": {},
     "output_type": "execute_result"
    }
   ],
   "source": [
    "m.alphabet"
   ]
  },
  {
   "cell_type": "code",
   "execution_count": 13,
   "id": "a58b2b16",
   "metadata": {},
   "outputs": [
    {
     "data": {
      "text/plain": [
       "(3, 7, 0, 2, 1)"
      ]
     },
     "execution_count": 13,
     "metadata": {},
     "output_type": "execute_result"
    }
   ],
   "source": [
    "m.counts[\"A\", :]"
   ]
  },
  {
   "cell_type": "code",
   "execution_count": 14,
   "id": "63f4d425",
   "metadata": {},
   "outputs": [],
   "source": [
    "m.counts[0, :]"
   ]
  },
  {
   "cell_type": "markdown",
   "id": "521b6bc6",
   "metadata": {},
   "source": [
    "The motif has an associated consensus sequence, defined as the sequence of letters along the positions of the motif for which the largest value in the corresponding columns of the .counts matrix is obtained:"
   ]
  },
  {
   "cell_type": "code",
   "execution_count": 15,
   "id": "75a9dd56",
   "metadata": {},
   "outputs": [],
   "source": [
    "m.consensus"
   ]
  },
  {
   "cell_type": "markdown",
   "id": "bca7fdf1",
   "metadata": {},
   "source": [
    " anticonsensus sequence, corresponding to the smallest values in the columns of the .counts matrix:"
   ]
  },
  {
   "cell_type": "code",
   "execution_count": 16,
   "id": "0d9e6d6d",
   "metadata": {},
   "outputs": [],
   "source": [
    "m.anticonsensus"
   ]
  },
  {
   "cell_type": "markdown",
   "id": "28930fd7",
   "metadata": {},
   "source": [
    "You can also ask for a degenerate consensus sequence, in which ambiguous nucleotides are used for positions where there are multiple nucleotides with high counts:"
   ]
  },
  {
   "cell_type": "code",
   "execution_count": 17,
   "id": "753c7751",
   "metadata": {},
   "outputs": [],
   "source": [
    "m.degenerate_consensus"
   ]
  },
  {
   "cell_type": "markdown",
   "id": "cec066a2",
   "metadata": {},
   "source": [
    "We can also get the reverse complement of a motif"
   ]
  },
  {
   "cell_type": "code",
   "execution_count": 18,
   "id": "6e0c39c2",
   "metadata": {},
   "outputs": [],
   "source": [
    "r = m.reverse_complement()\n",
    "r.consensus"
   ]
  },
  {
   "cell_type": "code",
   "execution_count": 19,
   "id": "66824fff",
   "metadata": {},
   "outputs": [],
   "source": [
    "Seq('GBGTW')"
   ]
  },
  {
   "cell_type": "code",
   "execution_count": 20,
   "id": "f4bbcef0",
   "metadata": {},
   "outputs": [],
   "source": [
    "print(r)"
   ]
  },
  {
   "cell_type": "markdown",
   "id": "ae22087d",
   "metadata": {},
   "source": [
    "### 14.1.2 Creating a sequence logo"
   ]
  },
  {
   "cell_type": "code",
   "execution_count": 21,
   "id": "b99512cc",
   "metadata": {},
   "outputs": [],
   "source": [
    "m.weblogo(\"mymotif.png\")"
   ]
  },
  {
   "cell_type": "markdown",
   "id": "bf6681ca",
   "metadata": {},
   "source": [
    "## 14.2 Reading motifs"
   ]
  },
  {
   "cell_type": "markdown",
   "id": "1e21f9bf",
   "metadata": {},
   "source": [
    "Creating motifs from instances by hand is a bit boring, so it’s useful to have some I/O functions for reading and writing motifs. There are not any really well established standards for storing motifs, but there are a couple of formats that are more used than others."
   ]
  },
  {
   "cell_type": "markdown",
   "id": "8fbd06cf",
   "metadata": {},
   "source": [
    "### 14.2.1 JASPAR    "
   ]
  },
  {
   "cell_type": "markdown",
   "id": "1e306eea",
   "metadata": {},
   "source": [
    "One of the most popular motif databases is JASPAR. In addition to the motif sequence information, the JASPAR database stores a lot of meta-information for each motif. The module Bio.motifs contains a specialized class jaspar.Motif in which this meta-information is represented as attributes:"
   ]
  },
  {
   "cell_type": "markdown",
   "id": "ca9851c4",
   "metadata": {},
   "source": [
    "The parts of the sequence in capital letters are the motif instances that were found to align to each other.\n",
    "* Download test file: [`Arnt.sites`](https://github.com/biopython/biopython/blob/master/Tests/motifs/Arnt.sites)"
   ]
  },
  {
   "cell_type": "code",
   "execution_count": 22,
   "id": "39b48283",
   "metadata": {},
   "outputs": [],
   "source": [
    "# reate a Motif object from these instances as follows:\n",
    "from Bio import motifs\n",
    "with open(\"Arnt.sites\") as handle:\n",
    "    arnt = motifs.read(handle, \"sites\")"
   ]
  },
  {
   "cell_type": "code",
   "execution_count": 23,
   "id": "e1f3d7eb",
   "metadata": {},
   "outputs": [],
   "source": [
    "# The counts matrix of this motif is automatically calculated from the instances:\n",
    "print(arnt.instances[:3])"
   ]
  },
  {
   "cell_type": "code",
   "execution_count": 24,
   "id": "2a9a664f",
   "metadata": {},
   "outputs": [],
   "source": [
    "for instance in arnt.instances:\n",
    "    print(instance)"
   ]
  },
  {
   "cell_type": "code",
   "execution_count": 25,
   "id": "a232a31e",
   "metadata": {},
   "outputs": [],
   "source": [
    "print(arnt.counts)"
   ]
  },
  {
   "cell_type": "markdown",
   "id": "0e8af441",
   "metadata": {},
   "source": [
    "create a motif for this count matrix as follows:\n",
    "* Download test file: [`SRF.pfm`](https://github.com/biopython/biopython/blob/master/Tests/motifs/SRF.pfm)"
   ]
  },
  {
   "cell_type": "code",
   "execution_count": 26,
   "id": "7e01e97f",
   "metadata": {},
   "outputs": [],
   "source": [
    "with open(\"SRF.pfm\") as handle:\n",
    "    srf = motifs.read(handle, \"pfm\")"
   ]
  },
  {
   "cell_type": "code",
   "execution_count": 27,
   "id": "a5e7b100",
   "metadata": {},
   "outputs": [],
   "source": [
    "print(srf.counts)"
   ]
  },
  {
   "cell_type": "markdown",
   "id": "e310987a",
   "metadata": {},
   "source": [
    "As this motif was created from the counts matrix directly, it has no instances associated with it"
   ]
  },
  {
   "cell_type": "code",
   "execution_count": 28,
   "id": "5cc9017e",
   "metadata": {},
   "outputs": [],
   "source": [
    "print(srf.instances)"
   ]
  },
  {
   "cell_type": "markdown",
   "id": "540bf0ef",
   "metadata": {},
   "source": [
    "We can now ask for the consensus sequence of these two motifs:"
   ]
  },
  {
   "cell_type": "code",
   "execution_count": 29,
   "id": "9279e433",
   "metadata": {},
   "outputs": [],
   "source": [
    "print(arnt.counts.consensus)"
   ]
  },
  {
   "cell_type": "code",
   "execution_count": 30,
   "id": "7b312620",
   "metadata": {},
   "outputs": [],
   "source": [
    "print(srf.counts.consensus)"
   ]
  },
  {
   "cell_type": "markdown",
   "id": "db77445d",
   "metadata": {},
   "source": [
    "##### The JASPAR format jaspar\n",
    "The following example shows a `jaspar` formatted file containing the three motifs Arnt, RUNX1 and MEF2A:\n",
    "```\n",
    ">MA0004.1 Arnt\n",
    "A [ 4 19 0 0 0 0 ]\n",
    "C [16 0 20 0 0 0 ]\n",
    "G [ 0 1 0 20 0 20 ]\n",
    "T [ 0 0 0 0 20 0 ]\n",
    ">MA0002.1 RUNX1\n",
    "A [10 12 4 1 2 2 0 0 0 8 13 ]\n",
    "C [ 2 2 7 1 0 8 0 0 1 2 2 ]\n",
    "G [ 3 1 1 0 23 0 26 26 0 0 4 ]\n",
    "T [11 11 14 24 1 16 0 0 25 16 7 ]\n",
    ">MA0052.1 MEF2A\n",
    "A [ 1 0 57 2 9 6 37 2 56 6 ]\n",
    "C [50 0 1 1 0 0 0 0 0 0 ]\n",
    "G [ 0 0 0 0 0 0 0 0 2 50 ]\n",
    "T [ 7 58 0 55 49 52 21 56 0 2 ]\n",
    "```"
   ]
  },
  {
   "cell_type": "code",
   "execution_count": 31,
   "id": "d69ae3fb",
   "metadata": {},
   "outputs": [],
   "source": [
    "# The JASPAR format jaspar\n",
    "fh = open(\"jaspar_motifs.txt\")   \n",
    "for m in motifs.parse(fh, \"jaspar\"):\n",
    "    print(m)"
   ]
  },
  {
   "cell_type": "markdown",
   "id": "94348afa",
   "metadata": {},
   "source": [
    "##### Accessing the JASPAR database\n",
    "In addition to parsing these flat file formats, we can also retrieve motifs from a JASPAR SQL database.\n",
    "Unlike the flat file formats, a JASPAR database allows storing of all possible meta information defined in\n",
    "the JASPAR Motif class. It is beyond the scope of this document to describe how to set up a JASPAR\n",
    "database (please see the main JASPAR website). Motifs are read from a JASPAR database using the\n",
    "Bio.motifs.jaspar.db module. First connect to the JASPAR database using the JASPAR5 class which\n",
    "models the the latest JASPAR schema:\n",
    "\n"
   ]
  },
  {
   "cell_type": "code",
   "execution_count": 32,
   "id": "599d0325",
   "metadata": {},
   "outputs": [],
   "source": [
    "# from Bio.motifs.jaspar.db import JASPAR5\n",
    "\n",
    "# import pymysql\n",
    "\n",
    "# JASPAR_DB_HOST = \"yourhostname\" # fill in these values\n",
    "# JASPAR_DB_NAME = \"yourdatabase\"\n",
    "# JASPAR_DB_USER = \"yourusername\"\n",
    "# JASPAR_DB_PASS = \"yourpassword\"\n",
    "\n",
    "# jdb = JASPAR5(\n",
    "#   host=JASPAR_DB_HOST,\n",
    "#   name=JASPAR_DB_NAME,\n",
    "#   user=JASPAR_DB_USER,\n",
    "#   password=JASPAR_DB_PASS,\n",
    "#  )\n",
    "\n",
    "# arnt = jdb.fetch_motif_by_id(\"MA0004\")"
   ]
  },
  {
   "cell_type": "code",
   "execution_count": 33,
   "id": "647d73dd",
   "metadata": {},
   "outputs": [],
   "source": [
    "# arnt = jdb.fetch_motif_by_id(\"MA0004\")"
   ]
  },
  {
   "cell_type": "code",
   "execution_count": 34,
   "id": "6a8d80f8",
   "metadata": {},
   "outputs": [],
   "source": [
    "# print(arnt)"
   ]
  },
  {
   "cell_type": "code",
   "execution_count": 35,
   "id": "a88df1b4",
   "metadata": {},
   "outputs": [],
   "source": [
    "# motifs = jdb.fetch_motifs_by_name(\"Arnt\")\n",
    "# print(motifs[0])"
   ]
  },
  {
   "cell_type": "code",
   "execution_count": 36,
   "id": "27249aed",
   "metadata": {},
   "outputs": [],
   "source": [
    "# motifs = jdb.fetch_motifs(\n",
    "# collection=\"CORE\",\n",
    "# tax_group=[\"vertebrates\", \"insects\"],\n",
    "# tf_class=\"Winged Helix-Turn-Helix\",\n",
    "# tf_family=[\"Forkhead\", \"Ets\"],\n",
    "# min_ic=12,\n",
    "# )"
   ]
  },
  {
   "cell_type": "code",
   "execution_count": 37,
   "id": "421e7b80",
   "metadata": {},
   "outputs": [],
   "source": [
    " #for motif in motifs:\n",
    " #  pass # do something with the motif"
   ]
  },
  {
   "cell_type": "markdown",
   "id": "bad3c310",
   "metadata": {},
   "source": [
    "##### Compatibility with Perl TFBS modules"
   ]
  },
  {
   "cell_type": "markdown",
   "id": "8ced1567",
   "metadata": {},
   "source": [
    "An important thing to note is that the JASPAR Motif class was designed to be compatible with the popular Perl TFBS modules. Therefore some specifics about the choice of defaults for background and pseudocounts as well as how information content is computed and sequences searched for instances is based on this compatibility criteria. These choices are noted in the specific subsections below.\n",
    "\n"
   ]
  },
  {
   "cell_type": "code",
   "execution_count": 38,
   "id": "e68d632f",
   "metadata": {},
   "outputs": [],
   "source": [
    "test_seq = Seq(\"TAAGCGTGCACGCGCAACACGTGCATTA\")\n",
    "arnt.pseudocounts = motifs.jaspar.calculate_pseudocounts(arnt)\n",
    "pssm = arnt.pssm\n",
    "max_score = pssm.max\n",
    "min_score = pssm.min\n",
    "abs_score_threshold = (max_score - min_score) * 0.8 + min_score\n",
    "for pos, score in pssm.search(test_seq, threshold=abs_score_threshold):\n",
    "    rel_score = (score - min_score) / (max_score - min_score)\n",
    "    print(f\"Position {pos}: score = {score:5.3f}, rel. score = {rel_score:5.3f}\")"
   ]
  },
  {
   "cell_type": "markdown",
   "id": "e7f03f22",
   "metadata": {},
   "source": [
    "## 14.2.2 MEME\n"
   ]
  },
  {
   "cell_type": "markdown",
   "id": "7a3a50f5",
   "metadata": {},
   "source": [
    "MEME is a tool for discovering motifs in a group of related DNA or protein sequences. It takes as input\n",
    "a group of DNA or protein sequences and outputs as many motifs as requested. Therefore, in contrast to\n",
    "JASPAR files, MEME output files typically contain multiple motifs\n",
    "* Download test file: [`meme.INO_up800.classic.oops.xml`](https://github.com/biopython/biopython/blob/master/Tests/motifs/meme.INO_up800.classic.oops.xml)"
   ]
  },
  {
   "cell_type": "code",
   "execution_count": 39,
   "id": "bf35d838",
   "metadata": {},
   "outputs": [],
   "source": [
    " with open(\"meme.INO_up800.classic.oops.xml\") as handle:\n",
    "    record = motifs.parse(handle, \"meme\")"
   ]
  },
  {
   "cell_type": "markdown",
   "id": "f2c8c1bc",
   "metadata": {},
   "source": [
    "The motifs.parse command reads the complete file directly, so you can close the file after calling motifs.parse.\n",
    "The header information is stored in attributes:"
   ]
  },
  {
   "cell_type": "code",
   "execution_count": 40,
   "id": "85312add",
   "metadata": {},
   "outputs": [],
   "source": [
    "record.version"
   ]
  },
  {
   "cell_type": "code",
   "execution_count": 41,
   "id": "ef175a92",
   "metadata": {},
   "outputs": [],
   "source": [
    "record.datafile"
   ]
  },
  {
   "cell_type": "code",
   "execution_count": 42,
   "id": "a77b0743",
   "metadata": {},
   "outputs": [],
   "source": [
    "record.command"
   ]
  },
  {
   "cell_type": "code",
   "execution_count": 43,
   "id": "6bda0621",
   "metadata": {},
   "outputs": [],
   "source": [
    "record.alphabet"
   ]
  },
  {
   "cell_type": "code",
   "execution_count": 44,
   "id": "a14d318a",
   "metadata": {},
   "outputs": [],
   "source": [
    "record.sequences"
   ]
  },
  {
   "cell_type": "code",
   "execution_count": 45,
   "id": "a39c04ea",
   "metadata": {},
   "outputs": [],
   "source": [
    "len(record)"
   ]
  },
  {
   "cell_type": "code",
   "execution_count": 46,
   "id": "afe71829",
   "metadata": {},
   "outputs": [],
   "source": [
    "motif = record[0]\n",
    "print(motif.consensus)"
   ]
  },
  {
   "cell_type": "code",
   "execution_count": 47,
   "id": "b4c0f32d",
   "metadata": {},
   "outputs": [],
   "source": [
    "print(motif.degenerate_consensus)"
   ]
  },
  {
   "cell_type": "markdown",
   "id": "efb33a47",
   "metadata": {},
   "source": [
    "In addition to these generic motif attributes, each motif also stores its specific information as calculated by\n",
    "MEME"
   ]
  },
  {
   "cell_type": "code",
   "execution_count": 48,
   "id": "5097b1f8",
   "metadata": {},
   "outputs": [],
   "source": [
    "motif.num_occurrences"
   ]
  },
  {
   "cell_type": "code",
   "execution_count": 49,
   "id": "fa706eec",
   "metadata": {},
   "outputs": [],
   "source": [
    "motif.length"
   ]
  },
  {
   "cell_type": "code",
   "execution_count": 50,
   "id": "847d15d0",
   "metadata": {},
   "outputs": [],
   "source": [
    "evalue = motif.evalue\n",
    "print(\"%3.1g\" % evalue)"
   ]
  },
  {
   "cell_type": "code",
   "execution_count": 51,
   "id": "7666ce46",
   "metadata": {},
   "outputs": [],
   "source": [
    "motif.name"
   ]
  },
  {
   "cell_type": "code",
   "execution_count": 52,
   "id": "d02f6593",
   "metadata": {},
   "outputs": [],
   "source": [
    "motif.id"
   ]
  },
  {
   "cell_type": "code",
   "execution_count": 53,
   "id": "ae2ce421",
   "metadata": {},
   "outputs": [],
   "source": [
    "motif = record[\"GSKGCATGTGAAA\"]"
   ]
  },
  {
   "cell_type": "markdown",
   "id": "1e431b9d",
   "metadata": {},
   "source": [
    "Each motif has an attribute .instances with the sequence instances in which the motif was found, providing\n",
    "some information on each instance:"
   ]
  },
  {
   "cell_type": "code",
   "execution_count": 54,
   "id": "5c9af551",
   "metadata": {},
   "outputs": [],
   "source": [
    "len(motif.instances)"
   ]
  },
  {
   "cell_type": "code",
   "execution_count": 55,
   "id": "482589e6",
   "metadata": {},
   "outputs": [],
   "source": [
    "motif.instances[0]"
   ]
  },
  {
   "cell_type": "code",
   "execution_count": 56,
   "id": "7d176875",
   "metadata": {},
   "outputs": [],
   "source": [
    "motif.instances[0].motif_name"
   ]
  },
  {
   "cell_type": "code",
   "execution_count": 57,
   "id": "092804f4",
   "metadata": {},
   "outputs": [],
   "source": [
    "motif.instances[0].sequence_name"
   ]
  },
  {
   "cell_type": "code",
   "execution_count": 58,
   "id": "340deab2",
   "metadata": {},
   "outputs": [],
   "source": [
    "motif.instances[0].sequence_id"
   ]
  },
  {
   "cell_type": "code",
   "execution_count": 59,
   "id": "5baf16cd",
   "metadata": {},
   "outputs": [],
   "source": [
    "motif.instances[0].start"
   ]
  },
  {
   "cell_type": "code",
   "execution_count": 60,
   "id": "b04329b3",
   "metadata": {},
   "outputs": [],
   "source": [
    "motif.instances[0].strand"
   ]
  },
  {
   "cell_type": "code",
   "execution_count": 61,
   "id": "5df78ae4",
   "metadata": {},
   "outputs": [],
   "source": [
    "motif.instances[0].length"
   ]
  },
  {
   "cell_type": "code",
   "execution_count": 62,
   "id": "7bb0d6d2",
   "metadata": {},
   "outputs": [],
   "source": [
    "pvalue = motif.instances[0].pvalue\n",
    "print(\"%5.3g\" % pvalue)"
   ]
  },
  {
   "cell_type": "markdown",
   "id": "89df7e5c",
   "metadata": {},
   "source": [
    "### 14.2.3 TRANSFAC"
   ]
  },
  {
   "cell_type": "markdown",
   "id": "9495752b",
   "metadata": {},
   "source": [
    "TRANSFAC is a manually curated database of transcription factors, together with their genomic binding\n",
    "sites and DNA binding profiles [34]. While the file format used in the TRANSFAC database is nowadays\n",
    "also used by others, we will refer to it as the TRANSFAC file format.\n",
    "* Download test file: [`transfac.dat`](https://github.com/biopython/biopython/blob/master/Tests/motifs/transfac.dat)"
   ]
  },
  {
   "cell_type": "code",
   "execution_count": 63,
   "id": "8190209f",
   "metadata": {},
   "outputs": [],
   "source": [
    "with open(\"transfac.dat\") as handle:\n",
    "    record = motifs.parse(handle, \"TRANSFAC\")"
   ]
  },
  {
   "cell_type": "code",
   "execution_count": 64,
   "id": "2b42a228",
   "metadata": {},
   "outputs": [],
   "source": [
    "with open(\"transfac.dat\") as handle:\n",
    "    record = motifs.parse(handle, \"TRANSFAC\", strict=False)"
   ]
  },
  {
   "cell_type": "code",
   "execution_count": 65,
   "id": "9927a017",
   "metadata": {},
   "outputs": [],
   "source": [
    "record.version"
   ]
  },
  {
   "cell_type": "code",
   "execution_count": 66,
   "id": "1f4ece05",
   "metadata": {},
   "outputs": [],
   "source": [
    "motif = record[0]"
   ]
  },
  {
   "cell_type": "code",
   "execution_count": 67,
   "id": "ccd9c70b",
   "metadata": {},
   "outputs": [],
   "source": [
    "motif.degenerate_consensus # Using the Bio.motifs.Motif property"
   ]
  },
  {
   "cell_type": "code",
   "execution_count": 68,
   "id": "c8ab5b0d",
   "metadata": {},
   "outputs": [],
   "source": [
    "motif[\"ID\"] # Using motif as a dictionary"
   ]
  },
  {
   "cell_type": "code",
   "execution_count": 69,
   "id": "68e5a7e8",
   "metadata": {},
   "outputs": [],
   "source": [
    "print(record)"
   ]
  },
  {
   "cell_type": "markdown",
   "id": "173693e9",
   "metadata": {},
   "source": [
    "You can export the motifs in the TRANSFAC format by capturing this output in a string and saving it in\n",
    "a file:\n"
   ]
  },
  {
   "cell_type": "code",
   "execution_count": 70,
   "id": "6106fad0",
   "metadata": {},
   "outputs": [],
   "source": [
    "text = str(record)\n",
    "with open(\"mytransfacfile.dat\", \"w\") as out_handle:\n",
    "    out_handle.write(text)"
   ]
  },
  {
   "cell_type": "markdown",
   "id": "d7cc8424",
   "metadata": {},
   "source": [
    "## 14.3 Writing motifs"
   ]
  },
  {
   "cell_type": "markdown",
   "id": "75af8133",
   "metadata": {},
   "source": [
    "Speaking of exporting, let’s look at export functions in general. We can use the format built-in function to\n",
    "write the motif in the simple JASPAR pfm format:"
   ]
  },
  {
   "cell_type": "code",
   "execution_count": 71,
   "id": "517507f2",
   "metadata": {},
   "outputs": [],
   "source": [
    "print(arnt.format(\"pfm\"))"
   ]
  },
  {
   "cell_type": "markdown",
   "id": "2b1433d2",
   "metadata": {},
   "source": [
    "Similarly, we can use format to write the motif in the JASPAR jaspar format:"
   ]
  },
  {
   "cell_type": "code",
   "execution_count": 72,
   "id": "8e2f4533",
   "metadata": {},
   "outputs": [],
   "source": [
    "print(arnt.format(\"jaspar\"))"
   ]
  },
  {
   "cell_type": "code",
   "execution_count": 73,
   "id": "7d243b0e",
   "metadata": {},
   "outputs": [],
   "source": [
    "print(m.format(\"transfac\"))"
   ]
  },
  {
   "cell_type": "markdown",
   "id": "61e5e1bc",
   "metadata": {},
   "source": [
    "To write out multiple motifs, you can use motifs.write. This function can be used regardless of whether\n",
    "the motifs originated from a TRANSFAC file. For example,"
   ]
  },
  {
   "cell_type": "code",
   "execution_count": 74,
   "id": "25985f93",
   "metadata": {},
   "outputs": [],
   "source": [
    "two_motifs = [arnt, srf]\n",
    "print(motifs.write(two_motifs, \"transfac\"))"
   ]
  },
  {
   "cell_type": "markdown",
   "id": "309e7732",
   "metadata": {},
   "source": [
    " multiple motifs in the jaspar format:"
   ]
  },
  {
   "cell_type": "code",
   "execution_count": 75,
   "id": "244a5f0d",
   "metadata": {},
   "outputs": [],
   "source": [
    "#two_motifs = [arnt, mef2a]\n",
    "#print(motifs.write(two_motifs, \"jaspar\"))"
   ]
  },
  {
   "cell_type": "markdown",
   "id": "aaa24f42",
   "metadata": {},
   "source": [
    "## 14.4 Position-Weight Matrices"
   ]
  },
  {
   "cell_type": "markdown",
   "id": "b54e0008",
   "metadata": {},
   "source": [
    "The .counts attribute of a Motif object shows how often each nucleotide appeared at each position along the\n",
    "alignment. We can normalize this matrix by dividing by the number of instances in the alignment, resulting\n",
    "in the probability of each nucleotide at each position along the alignment. We refer to these probabilities as\n",
    "the position-weight matrix. However, beware that in the literature this term may also be used to refer to\n",
    "the position-specific scoring matrix, which we discuss below.\n",
    "Usually, pseudocounts are added to each position before normalizing. This avoids overfitting of the\n",
    "position-weight matrix to the limited number of motif instances in the alignment, and can also prevent\n",
    "probabilities from becoming zero. To add a fixed pseudocount to all nucleotides at all positions, specify a\n",
    "number for the pseudocounts argument:"
   ]
  },
  {
   "cell_type": "code",
   "execution_count": 76,
   "id": "7ad093c8",
   "metadata": {},
   "outputs": [],
   "source": [
    "pwm = m.counts.normalize(pseudocounts=0.5)\n",
    "print(pwm)    "
   ]
  },
  {
   "cell_type": "code",
   "execution_count": 77,
   "id": "6cbbd9bb",
   "metadata": {},
   "outputs": [],
   "source": [
    "pwm = m.counts.normalize(pseudocounts={\"A\": 0.6, \"C\": 0.4, \"G\": 0.4, \"T\": 0.6})\n",
    "print(pwm)"
   ]
  },
  {
   "cell_type": "code",
   "execution_count": 78,
   "id": "6c155215",
   "metadata": {},
   "outputs": [],
   "source": [
    "pwm.consensus"
   ]
  },
  {
   "cell_type": "code",
   "execution_count": 79,
   "id": "ea11f470",
   "metadata": {},
   "outputs": [],
   "source": [
    "pwm.anticonsensus"
   ]
  },
  {
   "cell_type": "code",
   "execution_count": 80,
   "id": "80816851",
   "metadata": {},
   "outputs": [],
   "source": [
    "pwm.degenerate_consensus"
   ]
  },
  {
   "cell_type": "code",
   "execution_count": 81,
   "id": "fd8c7fcc",
   "metadata": {},
   "outputs": [],
   "source": [
    "m.degenerate_consensus"
   ]
  },
  {
   "cell_type": "markdown",
   "id": "e4e29734",
   "metadata": {},
   "source": [
    "The reverse complement of the position-weight matrix can be calculated directly from the pwm:"
   ]
  },
  {
   "cell_type": "code",
   "execution_count": 82,
   "id": "dee75e40",
   "metadata": {},
   "outputs": [],
   "source": [
    "rpwm = pwm.reverse_complement()\n",
    "print(rpwm)"
   ]
  },
  {
   "cell_type": "markdown",
   "id": "bdb803c0",
   "metadata": {},
   "source": [
    "## 14.5 Position-Specific Scoring Matrices"
   ]
  },
  {
   "cell_type": "markdown",
   "id": "4845b632",
   "metadata": {},
   "source": [
    "Using the background distribution and PWM with pseudo-counts added, it’s easy to compute the log-odds\n",
    "ratios, telling us what are the log odds of a particular symbol to be coming from a motif against the\n",
    "background. We can use the .log_odds() method on the position-weight matrix:"
   ]
  },
  {
   "cell_type": "code",
   "execution_count": 83,
   "id": "cd814285",
   "metadata": {},
   "outputs": [],
   "source": [
    "pssm = pwm.log_odds()\n",
    "print(pssm)"
   ]
  },
  {
   "cell_type": "markdown",
   "id": "5a5749e2",
   "metadata": {},
   "source": [
    "Here we can see positive values for symbols more frequent in the motif than in the background and negative\n",
    "for symbols more frequent in the background. 0.0 means that it’s equally likely to see a symbol in the\n",
    "background and in the motif.\n",
    "This assumes that A, C, G, and T are equally likely in the background. To calculate the position-specific\n",
    "scoring matrix against a background with unequal probabilities for A, C, G, T, use the background argument.\n",
    "For example, against a background with a 40% GC content, use\n"
   ]
  },
  {
   "cell_type": "code",
   "execution_count": 84,
   "id": "3a5393ae",
   "metadata": {},
   "outputs": [],
   "source": [
    "background = {\"A\": 0.3, \"C\": 0.2, \"G\": 0.2, \"T\": 0.3}\n",
    "pssm = pwm.log_odds(background)\n",
    "print(pssm)"
   ]
  },
  {
   "cell_type": "markdown",
   "id": "0bdcde98",
   "metadata": {},
   "source": [
    "The maximum and minimum score obtainable from the PSSM are stored in the .max and .min properties:"
   ]
  },
  {
   "cell_type": "code",
   "execution_count": 85,
   "id": "2cf896e9",
   "metadata": {},
   "outputs": [],
   "source": [
    "print(\"%4.2f\" % pssm.max)"
   ]
  },
  {
   "cell_type": "code",
   "execution_count": 86,
   "id": "9e1a6290",
   "metadata": {},
   "outputs": [],
   "source": [
    "print(\"%4.2f\" % pssm.min)"
   ]
  },
  {
   "cell_type": "markdown",
   "id": "afd6571d",
   "metadata": {},
   "source": [
    "The mean and standard deviation of the PSSM scores with respect to a specific background are calculated\n",
    "by the .mean and .std methods.\n"
   ]
  },
  {
   "cell_type": "code",
   "execution_count": 87,
   "id": "64607d75",
   "metadata": {},
   "outputs": [],
   "source": [
    "mean = pssm.mean(background)\n",
    "std = pssm.std(background)\n",
    "print(\"mean = %0.2f, standard deviation = %0.2f\" % (mean, std))"
   ]
  },
  {
   "cell_type": "markdown",
   "id": "c510acac",
   "metadata": {},
   "source": [
    "## 14.6 Searching for instances"
   ]
  },
  {
   "cell_type": "markdown",
   "id": "80e260cc",
   "metadata": {},
   "source": [
    "The most frequent use for a motif is to find its instances in some sequence. For the sake of this section, we\n",
    "will use an artificial sequence like this:"
   ]
  },
  {
   "cell_type": "code",
   "execution_count": 88,
   "id": "69c7d18a",
   "metadata": {},
   "outputs": [],
   "source": [
    "test_seq = Seq(\"TACACTGCATTACAACCCAAGCATTA\")\n",
    "len(test_seq)"
   ]
  },
  {
   "cell_type": "markdown",
   "id": "ce3c1013",
   "metadata": {},
   "source": [
    "### 14.6.1 Searching for exact matches"
   ]
  },
  {
   "cell_type": "markdown",
   "id": "6ce79342",
   "metadata": {},
   "source": [
    "The simplest way to find instances, is to look for exact matches of the true instances of the motif:"
   ]
  },
  {
   "cell_type": "code",
   "execution_count": 89,
   "id": "48ad9035",
   "metadata": {},
   "outputs": [],
   "source": [
    "for pos, seq in r.instances.search(test_seq):\n",
    "    print(\"%i %s\" % (pos, seq))"
   ]
  },
  {
   "cell_type": "code",
   "execution_count": 90,
   "id": "632bbf5e",
   "metadata": {},
   "outputs": [],
   "source": [
    "for pos, seq in r.instances.search(test_seq):\n",
    "    print(\"%i %s\" % (pos, seq))"
   ]
  },
  {
   "cell_type": "markdown",
   "id": "186db569",
   "metadata": {},
   "source": [
    "### 14.6.2 Searching for matches using the PSSM score"
   ]
  },
  {
   "cell_type": "markdown",
   "id": "daf9bc0d",
   "metadata": {},
   "source": [
    "It’s just as easy to look for positions, giving rise to high log-odds scores against our motif:\n"
   ]
  },
  {
   "cell_type": "code",
   "execution_count": 91,
   "id": "f946c1af",
   "metadata": {},
   "outputs": [],
   "source": [
    "for position, score in pssm.search(test_seq, threshold=3.0):\n",
    "    print(\"Position %d: score = %5.3f\"%(position, score))"
   ]
  },
  {
   "cell_type": "code",
   "execution_count": 92,
   "id": "bead2064",
   "metadata": {},
   "outputs": [],
   "source": [
    "pssm.calculate(test_seq)"
   ]
  },
  {
   "cell_type": "code",
   "execution_count": 93,
   "id": "14432936",
   "metadata": {},
   "outputs": [],
   "source": [
    "rpssm = pssm.reverse_complement()"
   ]
  },
  {
   "cell_type": "code",
   "execution_count": 94,
   "id": "a2609373",
   "metadata": {},
   "outputs": [],
   "source": [
    "rpssm.calculate(test_seq)"
   ]
  },
  {
   "cell_type": "markdown",
   "id": "ae340ff6",
   "metadata": {},
   "source": [
    "### 14.6.3 Selecting a score threshold"
   ]
  },
  {
   "cell_type": "markdown",
   "id": "70dcf1fa",
   "metadata": {},
   "source": [
    "If you want to use a less arbitrary way of selecting thresholds, you can explore the distribution of PSSM\n",
    "scores. Since the space for a score distribution grows exponentially with motif length, we are using an\n",
    "approximation with a given precision to keep computation cost manageable:\n"
   ]
  },
  {
   "cell_type": "code",
   "execution_count": 95,
   "id": "3a1daa87",
   "metadata": {},
   "outputs": [],
   "source": [
    "distribution = pssm.distribution(background=background, precision=10**4)"
   ]
  },
  {
   "cell_type": "markdown",
   "id": "48d75866",
   "metadata": {},
   "source": [
    "## 14.7 Each motif object has an associated Position-Specific Scoring Matrix\n"
   ]
  },
  {
   "cell_type": "markdown",
   "id": "12a208b4",
   "metadata": {},
   "source": [
    "To facilitate searching for potential TFBSs using PSSMs, both the position-weight matrix and the positionspecific scoring matrix are associated with each motif"
   ]
  },
  {
   "cell_type": "code",
   "execution_count": 96,
   "id": "3015fb1a",
   "metadata": {},
   "outputs": [],
   "source": [
    "from Bio import motifs\n",
    "    \n",
    "with open(\"Arnt.sites\") as handle:\n",
    "    motif = motifs.read(handle, \"sites\")"
   ]
  },
  {
   "cell_type": "code",
   "execution_count": 97,
   "id": "6f98def8",
   "metadata": {},
   "outputs": [],
   "source": [
    "print(motif.counts)"
   ]
  },
  {
   "cell_type": "code",
   "execution_count": 98,
   "id": "e0ed85b4",
   "metadata": {},
   "outputs": [],
   "source": [
    "print(motif.pwm)"
   ]
  },
  {
   "cell_type": "code",
   "execution_count": 99,
   "id": "0f3b45de",
   "metadata": {},
   "outputs": [],
   "source": [
    "print(motif.pssm)"
   ]
  },
  {
   "cell_type": "markdown",
   "id": "9e381c8f",
   "metadata": {},
   "source": [
    "The negative infinities appear here because the corresponding entry in the frequency matrix is 0, and we are\n",
    "using zero pseudocounts by default:"
   ]
  },
  {
   "cell_type": "code",
   "execution_count": 100,
   "id": "296a2ffe",
   "metadata": {},
   "outputs": [],
   "source": [
    "for letter in \"ACGT\":\n",
    "    print(\"%s: %4.2f\" % (letter, motif.pseudocounts[letter]))"
   ]
  },
  {
   "cell_type": "markdown",
   "id": "495621ce",
   "metadata": {},
   "source": [
    "If you change the .pseudocounts attribute, the position-frequency matrix and the position-specific scoring\n",
    "matrix are recalculated automatically:"
   ]
  },
  {
   "cell_type": "code",
   "execution_count": 101,
   "id": "0597da4f",
   "metadata": {},
   "outputs": [],
   "source": [
    "motif.pseudocounts = 3.0\n",
    "for letter in \"ACGT\":\n",
    "    print(\"%s: %4.2f\" % (letter, motif.pseudocounts[letter]))"
   ]
  },
  {
   "cell_type": "code",
   "execution_count": 102,
   "id": "ad20f7dc",
   "metadata": {},
   "outputs": [],
   "source": [
    "print(motif.pwm)"
   ]
  },
  {
   "cell_type": "code",
   "execution_count": 103,
   "id": "fbbdf258",
   "metadata": {},
   "outputs": [],
   "source": [
    "print(motif.pssm)"
   ]
  },
  {
   "cell_type": "code",
   "execution_count": 104,
   "id": "293049d4",
   "metadata": {},
   "outputs": [],
   "source": [
    "for letter in \"ACGT\":\n",
    "    print(\"%s: %4.2f\" % (letter, motif.background[letter]))   "
   ]
  },
  {
   "cell_type": "markdown",
   "id": "78e253d1",
   "metadata": {},
   "source": [
    "if you modify the background distribution, the position-specific scoring matrix is recalculated"
   ]
  },
  {
   "cell_type": "code",
   "execution_count": 105,
   "id": "758b3e16",
   "metadata": {},
   "outputs": [],
   "source": [
    "motif.background = {\"A\": 0.2, \"C\": 0.3, \"G\": 0.3, \"T\": 0.2}\n",
    "print(motif.pssm)"
   ]
  },
  {
   "cell_type": "markdown",
   "id": "56d4d36e",
   "metadata": {},
   "source": [
    "Setting motif.background to None resets it to a uniform distribution:"
   ]
  },
  {
   "cell_type": "code",
   "execution_count": 106,
   "id": "0251a87a",
   "metadata": {},
   "outputs": [],
   "source": [
    "motif.background = None\n",
    "for letter in \"ACGT\":\n",
    "    print(\"%s: %4.2f\" % (letter, motif.background[letter]))"
   ]
  },
  {
   "cell_type": "markdown",
   "id": "02cecd88",
   "metadata": {},
   "source": [
    "If you set motif.background equal to a single value, it will be interpreted as the GC content:"
   ]
  },
  {
   "cell_type": "code",
   "execution_count": 107,
   "id": "cd70c9f1",
   "metadata": {},
   "outputs": [],
   "source": [
    "motif.background = 0.8\n",
    "for letter in \"ACGT\":\n",
    "    print(\"%s: %4.2f\" % (letter, motif.background[letter]))"
   ]
  },
  {
   "cell_type": "markdown",
   "id": "ef039983",
   "metadata": {},
   "source": [
    "Note that you can now calculate the mean of the PSSM scores over the background against which it was\n",
    "computed:"
   ]
  },
  {
   "cell_type": "code",
   "execution_count": 108,
   "id": "83d67c05",
   "metadata": {},
   "outputs": [],
   "source": [
    "print(\"%f\" % motif.pssm.mean(motif.background))"
   ]
  },
  {
   "cell_type": "markdown",
   "id": "6fd807a2",
   "metadata": {},
   "source": [
    "standard deviation:"
   ]
  },
  {
   "cell_type": "code",
   "execution_count": 109,
   "id": "dbe46cc5",
   "metadata": {},
   "outputs": [],
   "source": [
    "print(\"%f\" % motif.pssm.std(motif.background))"
   ]
  },
  {
   "cell_type": "markdown",
   "id": "0d8fc6e1",
   "metadata": {},
   "source": [
    "its distribution"
   ]
  },
  {
   "cell_type": "code",
   "execution_count": 110,
   "id": "630dd3dc",
   "metadata": {},
   "outputs": [],
   "source": [
    "distribution = motif.pssm.distribution(background=motif.background)\n",
    "threshold = distribution.threshold_fpr(0.01)\n",
    "print(\"%f\" % threshold)"
   ]
  },
  {
   "cell_type": "code",
   "execution_count": 111,
   "id": "4a55adeb",
   "metadata": {},
   "outputs": [],
   "source": [
    "pssm = motif.pssm"
   ]
  },
  {
   "cell_type": "markdown",
   "id": "cb69d69d",
   "metadata": {},
   "source": [
    "## 14.8 Comparing motifs\n"
   ]
  },
  {
   "cell_type": "markdown",
   "id": "4aca9791",
   "metadata": {},
   "source": [
    "Once we have more than one motif, we might want to compare them.\n",
    "Before we start comparing motifs, I should point out that motif boundaries are usually quite arbitrary.\n",
    "This means we often need to compare motifs of different lengths, so comparison needs to involve some kind\n",
    "of alignment. This means we have to take into account two things:\n",
    "* Download test file: [`REB1.pfm`](https://github.com/biopython/biopython/blob/master/Tests/motifs/REB1.pfm)"
   ]
  },
  {
   "cell_type": "code",
   "execution_count": 112,
   "id": "2ac4ab9a",
   "metadata": {},
   "outputs": [],
   "source": [
    "with open(\"REB1.pfm\") as handle:\n",
    "    m_reb1 = motifs.read(handle, \"pfm\")"
   ]
  },
  {
   "cell_type": "code",
   "execution_count": 113,
   "id": "12627f65",
   "metadata": {},
   "outputs": [],
   "source": [
    "m_reb1.consensus"
   ]
  },
  {
   "cell_type": "code",
   "execution_count": 114,
   "id": "461b3899",
   "metadata": {},
   "outputs": [],
   "source": [
    "print(m_reb1.counts)"
   ]
  },
  {
   "cell_type": "markdown",
   "id": "ae4a0d9a",
   "metadata": {},
   "source": [
    "To make the motifs comparable, we choose the same values for the pseudocounts and the background\n",
    "distribution as our motif m:"
   ]
  },
  {
   "cell_type": "code",
   "execution_count": 115,
   "id": "d5c7ddcc",
   "metadata": {},
   "outputs": [],
   "source": [
    "m_reb1.pseudocounts = {\"A\": 0.6, \"C\": 0.4, \"G\": 0.4, \"T\": 0.6}"
   ]
  },
  {
   "cell_type": "code",
   "execution_count": 116,
   "id": "7f27ef7c",
   "metadata": {},
   "outputs": [],
   "source": [
    "m_reb1.background = {\"A\": 0.3, \"C\": 0.2, \"G\": 0.2, \"T\": 0.3}"
   ]
  },
  {
   "cell_type": "code",
   "execution_count": 117,
   "id": "53aa01c7",
   "metadata": {},
   "outputs": [],
   "source": [
    "pssm_reb1 = m_reb1.pssm"
   ]
  },
  {
   "cell_type": "code",
   "execution_count": 118,
   "id": "3006ca3f",
   "metadata": {
    "scrolled": true
   },
   "outputs": [],
   "source": [
    "print(pssm_reb1)"
   ]
  },
  {
   "cell_type": "markdown",
   "id": "97a185f7",
   "metadata": {},
   "source": [
    "We’ll compare these motifs using the Pearson correlation. Since we want it to resemble a distance measure,\n",
    "we actually take 1 − r, where r is the Pearson correlation coefficient (PCC):"
   ]
  },
  {
   "cell_type": "code",
   "execution_count": 119,
   "id": "1f9afb67",
   "metadata": {},
   "outputs": [],
   "source": [
    "distance, offset = pssm.dist_pearson(pssm_reb1)\n",
    "print(\"distance = %5.3g\" % distance)\n",
    "print(offset)"
   ]
  },
  {
   "cell_type": "markdown",
   "id": "0b134709",
   "metadata": {},
   "source": [
    "## 14.9 De novo motif finding"
   ]
  },
  {
   "cell_type": "markdown",
   "id": "809ada52",
   "metadata": {},
   "source": [
    "### 14.9.1 MEME"
   ]
  },
  {
   "cell_type": "markdown",
   "id": "4640f361",
   "metadata": {},
   "source": [
    "Let’s assume, you have run MEME on sequences of your choice with your favorite parameters and saved the\n",
    "output in the file meme.out. You can retrieve the motifs reported by MEME by running the following piece\n",
    "of code:\n",
    "* Download test file: [`meme.psp_test.classic.zoops.xml`](https://github.com/biopython/biopython/blob/master/Tests/motifs/meme.psp_test.classic.zoops.xml)"
   ]
  },
  {
   "cell_type": "code",
   "execution_count": 120,
   "id": "4582afd8",
   "metadata": {},
   "outputs": [],
   "source": [
    "from Bio import motifs\n",
    "with open(\"meme.psp_test.classic.zoops.xml\") as handle:\n",
    "     motifsM = motifs.parse(handle, \"meme\")"
   ]
  },
  {
   "cell_type": "code",
   "execution_count": 121,
   "id": "4d4226c0",
   "metadata": {},
   "outputs": [],
   "source": [
    "motifsM"
   ]
  },
  {
   "cell_type": "markdown",
   "id": "48488d5a",
   "metadata": {},
   "source": [
    "The motifs returned by the MEME Parser can be treated exactly like regular Motif objects (with instances), they also provide some extra functionality, by adding additional information about the instances"
   ]
  },
  {
   "cell_type": "code",
   "execution_count": 122,
   "id": "e499898f",
   "metadata": {},
   "outputs": [],
   "source": [
    "motifsM[0].consensus"
   ]
  },
  {
   "cell_type": "code",
   "execution_count": 123,
   "id": "283a9069",
   "metadata": {},
   "outputs": [],
   "source": [
    "motifsM[0].instances[0].sequence_name"
   ]
  },
  {
   "cell_type": "code",
   "execution_count": 124,
   "id": "2e4ee4e7",
   "metadata": {},
   "outputs": [],
   "source": [
    "motifsM[0].instances[0].sequence_id"
   ]
  },
  {
   "cell_type": "code",
   "execution_count": 125,
   "id": "35711ca3",
   "metadata": {},
   "outputs": [],
   "source": [
    "motifsM[0].instances[0].start"
   ]
  },
  {
   "cell_type": "code",
   "execution_count": 126,
   "id": "b8722ce3",
   "metadata": {},
   "outputs": [],
   "source": [
    "motifsM[0].instances[0].strand"
   ]
  },
  {
   "cell_type": "code",
   "execution_count": 127,
   "id": "98a27caf",
   "metadata": {},
   "outputs": [],
   "source": [
    "motifsM[0].instances[0].pvalue"
   ]
  }
 ],
 "metadata": {
  "kernelspec": {
   "display_name": "Python 3 (ipykernel)",
   "language": "python",
   "name": "python3"
  },
  "language_info": {
   "codemirror_mode": {
    "name": "ipython",
    "version": 3
   },
   "file_extension": ".py",
   "mimetype": "text/x-python",
   "name": "python",
   "nbconvert_exporter": "python",
   "pygments_lexer": "ipython3",
   "version": "3.10.9"
  }
 },
 "nbformat": 4,
 "nbformat_minor": 5
}
