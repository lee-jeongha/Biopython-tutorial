{
 "cells": [
  {
   "cell_type": "code",
   "execution_count": 1,
   "id": "a4f61152",
   "metadata": {},
   "outputs": [],
   "source": [
    "import warnings\n",
    "warnings.filterwarnings(action='ignore')"
   ]
  },
  {
   "cell_type": "markdown",
   "id": "cc7978e4",
   "metadata": {},
   "source": [
    "# Chapter ‍10 Swiss-Prot and ExPASy"
   ]
  },
  {
   "cell_type": "markdown",
   "id": "46d4929e",
   "metadata": {},
   "source": [
    "## 10.1 Parsing Swiss-Prot files"
   ]
  },
  {
   "cell_type": "markdown",
   "id": "a07f918a",
   "metadata": {},
   "source": [
    "Swiss-Prot (https://web.expasy.org/docs/swiss-prot_guideline.html) is a hand-curated database of protein sequences. Biopython can parse the “plain text” Swiss-Prot file format, which is still used for the UniProt Knowledgebase which combined Swiss-Prot, TrEMBL and PIR-PSD.\n",
    "\n",
    "Although in the following we focus on the older human readable plain text format, Bio.SeqIO can read both this and the newer UniProt XML file format for annotated protein sequences."
   ]
  },
  {
   "cell_type": "markdown",
   "id": "db797ac7",
   "metadata": {},
   "source": [
    "### 10.1.1 Parsing Swiss-Prot records"
   ]
  },
  {
   "cell_type": "markdown",
   "id": "9c69cb39",
   "metadata": {},
   "source": [
    "In Section ‍5.3.2, we described how to extract the sequence of a Swiss-Prot record as a SeqRecord object. Alternatively, you can store the Swiss-Prot record in a Bio.SwissProt.Record object, which in fact stores the complete information contained in the Swiss-Prot record. In this section, we describe how to extract Bio.SwissProt.Record objects from a Swiss-Prot file.\n",
    "\n",
    "To parse a Swiss-Prot record, we first get a handle to a Swiss-Prot record. There are several ways to do so, depending on where and how the Swiss-Prot record is stored:"
   ]
  },
  {
   "cell_type": "code",
   "execution_count": 2,
   "id": "23dfdd1f",
   "metadata": {},
   "outputs": [],
   "source": [
    "# Open a Swiss-Prot file locally:\n",
    "handle = open(\"uniprot_sprot.dat\")"
   ]
  },
  {
   "cell_type": "code",
   "execution_count": 3,
   "id": "929f0991",
   "metadata": {},
   "outputs": [],
   "source": [
    "# Open a gzipped Swiss-Prot file:\n",
    "import gzip\n",
    "handle = gzip.open(\"uniprot_sprot.dat.gz\", \"rt\")"
   ]
  },
  {
   "cell_type": "code",
   "execution_count": 4,
   "id": "6631e644",
   "metadata": {},
   "outputs": [],
   "source": [
    "# Open a Swiss-Prot file over the internet:\n",
    "from urllib.request import urlopen\n",
    "url = \"https://raw.githubusercontent.com/biopython/biopython/master/Tests/SwissProt/F2CXE6.txt\"\n",
    "handle = urlopen(url)"
   ]
  },
  {
   "cell_type": "code",
   "execution_count": 5,
   "id": "44b2804f",
   "metadata": {},
   "outputs": [],
   "source": [
    "# read(): To read one Swiss-Prot record from the handle\n",
    "from Bio import SwissProt\n",
    "record = SwissProt.read(handle)"
   ]
  },
  {
   "cell_type": "code",
   "execution_count": 6,
   "id": "ce339c34",
   "metadata": {},
   "outputs": [
    {
     "name": "stdout",
     "output_type": "stream",
     "text": [
      "SubName: Full=Plasma membrane intrinsic protein {ECO:0000313|EMBL:BAN04711.1}; SubName: Full=Predicted protein {ECO:0000313|EMBL:BAJ87517.1};\n"
     ]
    }
   ],
   "source": [
    "print(record.description)"
   ]
  },
  {
   "cell_type": "code",
   "execution_count": 7,
   "id": "eaf881da",
   "metadata": {},
   "outputs": [
    {
     "name": "stdout",
     "output_type": "stream",
     "text": [
      "authors: Matsumoto T., Tanaka T., Sakai H., Amano N., Kanamori H., Kurita K., Kikuta A., Kamiya K., Yamamoto M., Ikawa H., Fujii N., Hori K., Itoh T., Sato K.\n",
      "title: Comprehensive sequence analysis of 24,783 barley full-length cDNAs derived from 12 clone libraries.\n",
      "authors: Shibasaka M., Sasano S., Utsugi S., Katsuhara M.\n",
      "title: Functional characterization of a novel plasma membrane intrinsic protein2 in barley.\n",
      "authors: Shibasaka M., Katsuhara M., Sasano S.\n",
      "title: \n"
     ]
    }
   ],
   "source": [
    "for ref in record.references:\n",
    "    print(\"authors:\", ref.authors)\n",
    "    print(\"title:\", ref.title)"
   ]
  },
  {
   "cell_type": "code",
   "execution_count": 8,
   "id": "c6568a48",
   "metadata": {},
   "outputs": [
    {
     "name": "stdout",
     "output_type": "stream",
     "text": [
      "['Eukaryota', 'Viridiplantae', 'Streptophyta', 'Embryophyta', 'Tracheophyta', 'Spermatophyta', 'Magnoliophyta', 'Liliopsida', 'Poales', 'Poaceae', 'BEP clade', 'Pooideae', 'Triticeae', 'Hordeum']\n"
     ]
    }
   ],
   "source": [
    "print(record.organism_classification)"
   ]
  },
  {
   "cell_type": "markdown",
   "id": "140369e5",
   "metadata": {},
   "source": [
    "\\## How to parse a file that contains more than one Swiss-Prot record\n",
    "\n",
    "To parse a file that contains more than one Swiss-Prot record, we use the parse function instead. This function allows us to iterate over the records in the file.\n",
    "\n",
    "For example, let’s parse the full Swiss-Prot database and collect all the descriptions. You can download this from the [ExPASy FTP site](ftp://ftp.expasy.org/databases/uniprot/current_release/knowledgebase/complete/uniprot_sprot.dat.gz) as a single gzipped-file `uniprot_sprot.dat.gz` (about 300MB). This is a compressed file containing a single file, `uniprot_sprot.dat` (over 1.5GB).\n",
    "\n",
    "As described at the start of this section, you can use the Python library `gzip` to open and uncompress a `.gz` file, like this:"
   ]
  },
  {
   "cell_type": "code",
   "execution_count": 9,
   "id": "f71f1273",
   "metadata": {},
   "outputs": [],
   "source": [
    "import gzip\n",
    "handle = gzip.open(\"./uniprot_sprot.dat.gz\",\"rt\")"
   ]
  },
  {
   "cell_type": "markdown",
   "id": "1aec397d",
   "metadata": {},
   "source": [
    "However, uncompressing a large file takes time, and each time you open the file for reading in this way, it has to be decompressed on the fly. So, if you can spare the disk space you’ll save time in the long run if you first decompress the file to disk, to get the `uniprot_sprot.dat` file inside. Then you can open the file for reading as usual:"
   ]
  },
  {
   "cell_type": "code",
   "execution_count": 10,
   "id": "5df3b7c0",
   "metadata": {},
   "outputs": [],
   "source": [
    "handle = open(\"uniprot_sprot.dat\")"
   ]
  },
  {
   "cell_type": "code",
   "execution_count": 11,
   "id": "31e338fd",
   "metadata": {},
   "outputs": [
    {
     "data": {
      "text/plain": [
       "569213"
      ]
     },
     "execution_count": 11,
     "metadata": {},
     "output_type": "execute_result"
    }
   ],
   "source": [
    "# parse() with list comprehension\n",
    "from Bio import SwissProt\n",
    "handle = open(\"uniprot_sprot.dat\") # gzip.open(\"uniprot_sprot.dat.gz\", \"rt\")\n",
    "descriptions = [record.description for record in SwissProt.parse(handle)]\n",
    "len(descriptions)"
   ]
  },
  {
   "cell_type": "code",
   "execution_count": 12,
   "id": "18a1d545",
   "metadata": {},
   "outputs": [
    {
     "data": {
      "text/plain": [
       "['RecName: Full=Putative transcription factor 001R;',\n",
       " 'RecName: Full=Uncharacterized protein 002L;',\n",
       " 'RecName: Full=Uncharacterized protein 002R;',\n",
       " 'RecName: Full=Uncharacterized protein 003L;',\n",
       " 'RecName: Full=Uncharacterized protein 3R; Flags: Precursor;']"
      ]
     },
     "execution_count": 12,
     "metadata": {},
     "output_type": "execute_result"
    }
   ],
   "source": [
    "descriptions[:5]"
   ]
  },
  {
   "cell_type": "code",
   "execution_count": 13,
   "id": "fce094d1",
   "metadata": {},
   "outputs": [],
   "source": [
    "# Or, using a for loop over the record iterator\n",
    "from Bio import SwissProt\n",
    "descriptions = []\n",
    "\n",
    "for record in SwissProt.parse(handle):\n",
    "    descriptions.append(record.description)"
   ]
  },
  {
   "cell_type": "code",
   "execution_count": 14,
   "id": "c2b7d755",
   "metadata": {},
   "outputs": [
    {
     "data": {
      "text/plain": [
       "0"
      ]
     },
     "execution_count": 14,
     "metadata": {},
     "output_type": "execute_result"
    }
   ],
   "source": [
    "len(descriptions)"
   ]
  },
  {
   "cell_type": "code",
   "execution_count": 15,
   "id": "e9b0cc4b",
   "metadata": {},
   "outputs": [
    {
     "data": {
      "text/plain": [
       "['__class__',\n",
       " '__delattr__',\n",
       " '__dict__',\n",
       " '__dir__',\n",
       " '__doc__',\n",
       " '__eq__',\n",
       " '__format__',\n",
       " '__ge__',\n",
       " '__getattribute__',\n",
       " '__gt__',\n",
       " '__hash__',\n",
       " '__init__',\n",
       " '__init_subclass__',\n",
       " '__le__',\n",
       " '__lt__',\n",
       " '__module__',\n",
       " '__ne__',\n",
       " '__new__',\n",
       " '__reduce__',\n",
       " '__reduce_ex__',\n",
       " '__repr__',\n",
       " '__setattr__',\n",
       " '__sizeof__',\n",
       " '__str__',\n",
       " '__subclasshook__',\n",
       " '__weakref__',\n",
       " 'accessions',\n",
       " 'annotation_update',\n",
       " 'comments',\n",
       " 'created',\n",
       " 'cross_references',\n",
       " 'data_class',\n",
       " 'description',\n",
       " 'entry_name',\n",
       " 'features',\n",
       " 'gene_name',\n",
       " 'host_organism',\n",
       " 'host_taxonomy_id',\n",
       " 'keywords',\n",
       " 'molecule_type',\n",
       " 'organelle',\n",
       " 'organism',\n",
       " 'organism_classification',\n",
       " 'protein_existence',\n",
       " 'references',\n",
       " 'seqinfo',\n",
       " 'sequence',\n",
       " 'sequence_length',\n",
       " 'sequence_update',\n",
       " 'taxonomy_id']"
      ]
     },
     "execution_count": 15,
     "metadata": {},
     "output_type": "execute_result"
    }
   ],
   "source": [
    "dir(record)"
   ]
  },
  {
   "cell_type": "markdown",
   "id": "e2f815a7",
   "metadata": {},
   "source": [
    "### 10.1.2 Parsing the Swiss-Prot keyword and category list\n",
    "Swiss-Prot also distributes a file `keywlist.txt`, which lists the keywords and categories used in Swiss-Prot. The file contains entries in the following form:\n",
    "\n",
    "```\n",
    "ID   2Fe-2S.\n",
    "AC   KW-0001\n",
    "DE   Protein which contains at least one 2Fe-2S iron-sulfur cluster: 2 iron\n",
    "DE   atoms complexed to 2 inorganic sulfides and 4 sulfur atoms of\n",
    "DE   cysteines from the protein.\n",
    "SY   Fe2S2; [2Fe-2S] cluster; [Fe2S2] cluster; Fe2/S2 (inorganic) cluster;\n",
    "SY   Di-mu-sulfido-diiron; 2 iron, 2 sulfur cluster binding.\n",
    "GO   GO:0051537; 2 iron, 2 sulfur cluster binding\n",
    "HI   Ligand: Iron; Iron-sulfur; 2Fe-2S.\n",
    "HI   Ligand: Metal-binding; 2Fe-2S.\n",
    "CA   Ligand.\n",
    "//\n",
    "ID   3D-structure.\n",
    "AC   KW-0002\n",
    "DE   Protein, or part of a protein, whose three-dimensional structure has\n",
    "DE   been resolved experimentally (for example by X-ray crystallography or\n",
    "DE   NMR spectroscopy) and whose coordinates are available in the PDB\n",
    "DE   database. Can also be used for theoretical models.\n",
    "HI   Technical term: 3D-structure.\n",
    "CA   Technical term.\n",
    "//\n",
    "ID   3Fe-4S.\n",
    "...\n",
    "```"
   ]
  },
  {
   "cell_type": "markdown",
   "id": "a1a47c52",
   "metadata": {},
   "source": [
    "The entries in this file can be parsed by the parse function in the `Bio.SwissProt.KeyWList` module. Each entry is then stored as a `Bio.SwissProt.KeyWList.Record`, which is a Python dictionary."
   ]
  },
  {
   "cell_type": "code",
   "execution_count": 16,
   "id": "189e3e60",
   "metadata": {},
   "outputs": [
    {
     "name": "stdout",
     "output_type": "stream",
     "text": [
      "2Fe-2S.\n",
      "Protein which contains at least one 2Fe-2S iron-sulfur cluster: 2 iron atoms complexed to 2 inorganic sulfides and 4 sulfur atoms of cysteines from the protein.\n"
     ]
    }
   ],
   "source": [
    "from Bio.SwissProt import KeyWList\n",
    "handle = open(\"keywlist.txt\")\n",
    "records = KeyWList.parse(handle)\n",
    "for record in records:\n",
    "    print(record[\"ID\"])\n",
    "    print(record[\"DE\"])"
   ]
  },
  {
   "cell_type": "markdown",
   "id": "5c38ceeb",
   "metadata": {},
   "source": [
    "## 10.2 Parsing Prosite records"
   ]
  },
  {
   "cell_type": "markdown",
   "id": "93383f4d",
   "metadata": {},
   "source": [
    "Prosite is a database containing protein domains, protein families, functional sites, as well as the patterns and profiles to recognize them. Prosite was developed in parallel with Swiss-Prot. In Biopython, a Prosite record is represented by the `Bio.ExPASy.Prosite.Record` class, whose members correspond to the different fields in a Prosite record.\n",
    "\n",
    "In general, a Prosite file can contain more than one Prosite records. For example, the full set of Prosite records, which can be downloaded as a single file (`prosite.dat`) from the [ExPASy FTP site](ftp://ftp.expasy.org/databases/prosite/prosite.dat), contains 2073 records (version 20.24 released on 4 December 2007). To parse such a file, we again make use of an iterator:"
   ]
  },
  {
   "cell_type": "code",
   "execution_count": 17,
   "id": "81dda6ba",
   "metadata": {},
   "outputs": [],
   "source": [
    "from Bio.ExPASy import Prosite\n",
    "handle = open(\"prosite.dat\")\n",
    "records = Prosite.parse(handle)\n",
    "record = next(records)"
   ]
  },
  {
   "cell_type": "code",
   "execution_count": 18,
   "id": "50ec169c",
   "metadata": {},
   "outputs": [
    {
     "data": {
      "text/plain": [
       "'PS00001'"
      ]
     },
     "execution_count": 18,
     "metadata": {},
     "output_type": "execute_result"
    }
   ],
   "source": [
    "record.accession"
   ]
  },
  {
   "cell_type": "code",
   "execution_count": 19,
   "id": "e0ff3b55",
   "metadata": {},
   "outputs": [
    {
     "data": {
      "text/plain": [
       "'ASN_GLYCOSYLATION'"
      ]
     },
     "execution_count": 19,
     "metadata": {},
     "output_type": "execute_result"
    }
   ],
   "source": [
    "record.name"
   ]
  },
  {
   "cell_type": "code",
   "execution_count": 20,
   "id": "8cb7f831",
   "metadata": {},
   "outputs": [
    {
     "data": {
      "text/plain": [
       "'PDOC00001'"
      ]
     },
     "execution_count": 20,
     "metadata": {},
     "output_type": "execute_result"
    }
   ],
   "source": [
    "record.pdoc"
   ]
  },
  {
   "cell_type": "code",
   "execution_count": 21,
   "id": "d51710b6",
   "metadata": {},
   "outputs": [],
   "source": [
    "record = next(records)"
   ]
  },
  {
   "cell_type": "code",
   "execution_count": 22,
   "id": "08501fe6",
   "metadata": {},
   "outputs": [
    {
     "data": {
      "text/plain": [
       "'PS00004'"
      ]
     },
     "execution_count": 22,
     "metadata": {},
     "output_type": "execute_result"
    }
   ],
   "source": [
    "record.accession"
   ]
  },
  {
   "cell_type": "code",
   "execution_count": 23,
   "id": "4840895d",
   "metadata": {},
   "outputs": [
    {
     "data": {
      "text/plain": [
       "'CAMP_PHOSPHO_SITE'"
      ]
     },
     "execution_count": 23,
     "metadata": {},
     "output_type": "execute_result"
    }
   ],
   "source": [
    "record.name"
   ]
  },
  {
   "cell_type": "code",
   "execution_count": 24,
   "id": "3bf347f1",
   "metadata": {},
   "outputs": [
    {
     "data": {
      "text/plain": [
       "'PDOC00004'"
      ]
     },
     "execution_count": 24,
     "metadata": {},
     "output_type": "execute_result"
    }
   ],
   "source": [
    "record.pdoc"
   ]
  },
  {
   "cell_type": "code",
   "execution_count": 25,
   "id": "ff297231",
   "metadata": {},
   "outputs": [],
   "source": [
    "record = next(records)"
   ]
  },
  {
   "cell_type": "code",
   "execution_count": 26,
   "id": "166b2d26",
   "metadata": {},
   "outputs": [
    {
     "data": {
      "text/plain": [
       "'PS00005'"
      ]
     },
     "execution_count": 26,
     "metadata": {},
     "output_type": "execute_result"
    }
   ],
   "source": [
    "record.accession"
   ]
  },
  {
   "cell_type": "code",
   "execution_count": 27,
   "id": "5376a200",
   "metadata": {},
   "outputs": [
    {
     "data": {
      "text/plain": [
       "'PKC_PHOSPHO_SITE'"
      ]
     },
     "execution_count": 27,
     "metadata": {},
     "output_type": "execute_result"
    }
   ],
   "source": [
    "record.name"
   ]
  },
  {
   "cell_type": "code",
   "execution_count": 28,
   "id": "86f644d8",
   "metadata": {},
   "outputs": [
    {
     "data": {
      "text/plain": [
       "'PDOC00005'"
      ]
     },
     "execution_count": 28,
     "metadata": {},
     "output_type": "execute_result"
    }
   ],
   "source": [
    "record.pdoc"
   ]
  },
  {
   "cell_type": "markdown",
   "id": "f80db9a0",
   "metadata": {},
   "source": [
    "If you’re interested in how many Prosite records there are, you could use"
   ]
  },
  {
   "cell_type": "code",
   "execution_count": 29,
   "id": "5529a621",
   "metadata": {},
   "outputs": [
    {
     "name": "stdout",
     "output_type": "stream",
     "text": [
      "2633\n"
     ]
    }
   ],
   "source": [
    "from Bio.ExPASy import Prosite\n",
    "handle = open(\"prosite.dat\")\n",
    "records = Prosite.parse(handle)\n",
    "\n",
    "n = 0\n",
    "while(True):\n",
    "    try:\n",
    "        try:\n",
    "            record = next(records)\n",
    "        except StopIteration:\n",
    "            break\n",
    "        n += 1\n",
    "    except ValueError: # DT   PADR1 domain profile.\n",
    "        continue\n",
    "'''\n",
    "n = 0\n",
    "for record in records:\n",
    "    n += 1\n",
    "'''\n",
    "\n",
    "print(n)"
   ]
  },
  {
   "cell_type": "markdown",
   "id": "26debd46",
   "metadata": {},
   "source": [
    "To read exactly one Prosite from the handle, you can use the `read` function:\n",
    "\n",
    "* `mysingleprositerecord.dat`\n",
    "```\n",
    "//\n",
    "ID   GLA_1; PATTERN.\n",
    "AC   PS00011;\n",
    "DT   01-APR-1990 CREATED; 01-MAY-2005 DATA UPDATE; 22-FEB-2023 INFO UPDATE.\n",
    "DE   Vitamin K-dependent carboxylation domain.\n",
    "PA   E-x(2)-[ERK]-E-x-C-x(6)-[EDR]-x(10,11)-[FYA]-[YW].\n",
    "NR   /RELEASE=2023_01,569213;\n",
    "NR   /TOTAL=120(120); /POSITIVE=118(118); /UNKNOWN=0(0); /FALSE_POS=2(2);\n",
    "NR   /FALSE_NEG=3; /PARTIAL=6;\n",
    "CC   /TAXO-RANGE=??E??; /MAX-REPEAT=1;\n",
    "CC   /VERSION=2;\n",
    "DR   Q1L659    , FA101_PSETE, T; Q1L658    , FA102_PSETE, T;\n",
    "DR   P00743    , FA10_BOVIN , T; P25155    , FA10_CHICK , T;\n",
    "DR   P00742    , FA10_HUMAN , T; O88947    , FA10_MOUSE , T;\n",
    "DR   O19045    , FA10_RABIT , T; Q63207    , FA10_RAT   , T;\n",
    "DR   Q4QXT9    , FA10_TROCA , T; P22457    , FA7_BOVIN  , T;\n",
    "DR   P08709    , FA7_HUMAN  , T; P70375    , FA7_MOUSE  , T;\n",
    "DR   Q2F9P4    , FA7_PANPA  , T; Q2F9P2    , FA7_PANTR  , T;\n",
    "DR   P98139    , FA7_RABIT  , T; Q8K3U6    , FA7_RAT    , T;\n",
    "DR   P00741    , FA9_BOVIN  , T; P19540    , FA9_CANLF  , T;\n",
    "DR   Q804X6    , FA9_CHICK  , T; Q6SA95    , FA9_FELCA  , T;\n",
    "DR   P00740    , FA9_HUMAN  , T; P16294    , FA9_MOUSE  , T;\n",
    "DR   Q95ND7    , FA9_PANTR  , T; P16293    , FA9_PIG    , T;\n",
    "DR   P16296    , FA9_RAT    , T; Q58L95    , FAXC_OXYMI , T;\n",
    "DR   Q58L96    , FAXC_OXYSU , T; Q56VR3    , FAXC_PSETE , T;\n",
    "DR   A6MFK7    , FAXD1_DEMVE, T; P82807    , FAXD1_NOTSC, T;\n",
    "DR   P00744    , PROZ_BOVIN , T; P22891    , PROZ_HUMAN , T;\n",
    "DR   Q9CQW3    , PROZ_MOUSE , T; P00735    , THRB_BOVIN , T;\n",
    "DR   P00734    , THRB_HUMAN , T; P19221    , THRB_MOUSE , T;\n",
    "DR   Q19AZ8    , THRB_PIG   , T; Q5R537    , THRB_PONAB , T;\n",
    "DR   P18292    , THRB_RAT   , T; A7Z070    , TMG1_BOVIN , T;\n",
    "DR   O14668    , TMG1_HUMAN , T; Q5RCB6    , TMG1_PONAB , T;\n",
    "DR   O14669    , TMG2_HUMAN , T; Q8R182    , TMG2_MOUSE , T;\n",
    "DR   Q9BZD7    , TMG3_HUMAN , T; Q6PAQ9    , TMG3_MOUSE , T;\n",
    "DR   Q9BZD6    , TMG4_HUMAN , T; Q8BGN6    , TMG4_MOUSE , T;\n",
    "DR   P0CY52    , FAXD_NOTSN , P; P83347    , MGP_PRIGL  , P;\n",
    "DR   P86312    , OSTCN_CAMHE, P; P83473    , OSTCN_HALDD, P;\n",
    "DR   P84351    , OSTCN_HOMNE, P; P84122    , THRB_SALSA , P;\n",
    "DR   Q800Y2    , MGP_ARGRE  , N; A0A024QYT3, OST2A_ONCMY, N;\n",
    "DR   K9J977    , OST2B_ONCMY, N;\n",
    "DR   O51378    , KAD_BORBU  , F; Q661K1    , KAD_BORGP  , F;\n",
    "3D   1CFH; 1CFI; 1DAN; 1EZQ; 1F0R; 1F0S; 1IOD; 1J34; 1J35; 1KSN; 1LPG; 1LPK;\n",
    "3D   1LPZ; 1LQD; 1MGX; 1NFU; 1NFW; 1NFX; 1NFY; 1NL0; 1NL1; 1NL2; 1O5D; 1P0S;\n",
    "3D   1PFX; 1Q3M; 1Q8H; 1VZM; 1W0Y; 1W2K; 1WHE; 1WHF; 1WQV; 1WSS; 1WTG; 1WUN;\n",
    "3D   1WV7; 1X7A; 1Z6J; 2A2Q; 2AEI; 2AER; 2B7D; 2B8O; 2BOH; 2C4F; 2CJI; 2EC9;\n",
    "3D   2F9B; 2FIR; 2FLB; 2FLR; 2J2U; 2J34; 2J38; 2J4I; 2J94; 2J95; 2PF1; 2PF2;\n",
    "3D   2SPT; 2UWL; 2UWO; 2UWP; 2VH0; 2VH6; 2WYG; 2WYJ; 2Y7X; 2Y7Z; 2Y80; 2Y81;\n",
    "3D   2Y82; 2ZP0; 2ZWL; 2ZZU; 3ELA; 3TH2; 3TH3; 3TH4; 4BXS; 4BXW; 4IBL; 4MZZ;\n",
    "3D   4NZQ; 4O03; 4Y6D; 4Y71; 4Y76; 4Y79; 4Y7A; 4Y7B; 4YLQ; 4ZH8; 4ZHA; 4ZMA;\n",
    "3D   5EDK; 5EDM; 6BJR; 6C2W; 6M3B; 6M3C; 7TPP; 7TPQ;\n",
    "DO   PDOC00011;\n",
    "```"
   ]
  },
  {
   "cell_type": "code",
   "execution_count": 30,
   "id": "232dac7f",
   "metadata": {},
   "outputs": [],
   "source": [
    "from Bio.ExPASy import Prosite\n",
    "handle = open(\"mysingleprositerecord.dat\")\n",
    "record = Prosite.read(handle)"
   ]
  },
  {
   "cell_type": "markdown",
   "id": "6cbd11a8",
   "metadata": {},
   "source": [
    "## 10.3 Parsing Prosite documentation records"
   ]
  },
  {
   "cell_type": "markdown",
   "id": "60e9075c",
   "metadata": {},
   "source": [
    "We use the parser in `Bio.ExPASy.Prodoc` to parse Prosite documentation records. For example, to create a list of all accession numbers of Prosite documentation record, you can use\n",
    "* Download test file : [`prosite.doc`](https://ftp.expasy.org/databases/prosite/prosite.doc)"
   ]
  },
  {
   "cell_type": "code",
   "execution_count": 31,
   "id": "eae9bd6e",
   "metadata": {},
   "outputs": [
    {
     "name": "stdout",
     "output_type": "stream",
     "text": [
      "['PDOC00000', 'PDOC00001', 'PDOC00004', 'PDOC00005', 'PDOC00006', 'PDOC00007', 'PDOC00008', 'PDOC00009', 'PDOC00010', 'PDOC00011', 'PDOC00012', 'PDOC00013', 'PDOC00014', 'PDOC00015', 'PDOC00016', 'PDOC00017', 'PDOC00018', 'PDOC00019', 'PDOC00020', 'PDOC00021', 'PDOC00022', 'PDOC00023', 'PDOC00024', 'PDOC00025', 'PDOC00026', 'PDOC00027', 'PDOC00028', 'PDOC00029', 'PDOC00030', 'PDOC00031', 'PDOC00032', 'PDOC00033', 'PDOC00034', 'PDOC00035', 'PDOC00036', 'PDOC00037', 'PDOC00038', 'PDOC00039', 'PDOC00040', 'PDOC00041', 'PDOC00042', 'PDOC00043', 'PDOC00044', 'PDOC00045', 'PDOC00046', 'PDOC00047', 'PDOC00048', 'PDOC00049', 'PDOC00050', 'PDOC00051', 'PDOC00052', 'PDOC00053', 'PDOC00054', 'PDOC00055', 'PDOC00056', 'PDOC00057', 'PDOC00058', 'PDOC00059', 'PDOC00060', 'PDOC00061', 'PDOC00062', 'PDOC00063', 'PDOC00064', 'PDOC00065', 'PDOC00066', 'PDOC00067', 'PDOC00068', 'PDOC00069', 'PDOC00070', 'PDOC00071', 'PDOC00072', 'PDOC00073', 'PDOC00074', 'PDOC00075', 'PDOC00076', 'PDOC00077', 'PDOC00078', 'PDOC00079', 'PDOC00080', 'PDOC00081', 'PDOC00082', 'PDOC00083', 'PDOC00084', 'PDOC00085', 'PDOC00086', 'PDOC00087', 'PDOC00088', 'PDOC00089', 'PDOC00090', 'PDOC00091', 'PDOC00092', 'PDOC00093', 'PDOC00094', 'PDOC00095', 'PDOC00096', 'PDOC00097', 'PDOC00098', 'PDOC00099', 'PDOC00100', 'PDOC00101', 'PDOC00102', 'PDOC00103']\n"
     ]
    }
   ],
   "source": [
    "from Bio.ExPASy import Prodoc\n",
    "handle = open(\"prosite.doc\")\n",
    "records = Prodoc.parse(handle)\n",
    "\n",
    "#accessions = [record.accession for record in records]\n",
    "accessions = []\n",
    "while(True):\n",
    "    try:\n",
    "        try:\n",
    "            record = next(records)\n",
    "        except StopIteration:\n",
    "            break\n",
    "        accessions.append(record.accession)\n",
    "    except ValueError: # Line does not start with '{PDOC':\n",
    "        continue\n",
    "\n",
    "print(accessions)"
   ]
  },
  {
   "cell_type": "markdown",
   "id": "7b43eef5",
   "metadata": {},
   "source": [
    "Again a `read()` function is provided to read exactly one Prosite documentation record from the handle."
   ]
  },
  {
   "cell_type": "markdown",
   "id": "c3d347c0",
   "metadata": {},
   "source": [
    "## 10.4 Parsing Enzyme records"
   ]
  },
  {
   "cell_type": "markdown",
   "id": "6ff32757",
   "metadata": {},
   "source": [
    "ExPASy’s Enzyme database is a repository of information on enzyme nomenclature.\n",
    "\n",
    "the first line shows the EC (Enzyme Commission) number of lipoprotein lipase (second line). Alternative names of lipoprotein lipase are \"clearing factor lipase\", \"diacylglycerol lipase\", and \"diglyceride lipase\" (lines 3 through 5). The line starting with \"CA\" shows the catalytic activity of this enzyme. Comment lines start with \"CC\". The \"PR\" line shows references to the Prosite Documentation records, and the \"DR\" lines show references to Swiss-Prot records. Not of these entries are necessarily present in an Enzyme record."
   ]
  },
  {
   "cell_type": "markdown",
   "id": "7880c7e7",
   "metadata": {},
   "source": [
    "In Biopython, an Enzyme record is represented by the `Bio.ExPASy.Enzyme.Record` class. This record derives from a Python dictionary and has keys corresponding to the two-letter codes used in Enzyme files. To read an Enzyme file containing one Enzyme record, use the read function in `Bio.ExPASy.Enzyme`:\n",
    "* Download test file : [lipoprotein.txt](https://github.com/biopython/biopython/blob/master/Tests/Enzymes/lipoprotein.txt)"
   ]
  },
  {
   "cell_type": "code",
   "execution_count": 32,
   "id": "78ff8609",
   "metadata": {},
   "outputs": [],
   "source": [
    "from Bio.ExPASy import Enzyme\n",
    "with open(\"lipoprotein.txt\") as handle:\n",
    "    record = Enzyme.read(handle)"
   ]
  },
  {
   "cell_type": "code",
   "execution_count": 33,
   "id": "84f0ac30",
   "metadata": {},
   "outputs": [
    {
     "data": {
      "text/plain": [
       "'3.1.1.34'"
      ]
     },
     "execution_count": 33,
     "metadata": {},
     "output_type": "execute_result"
    }
   ],
   "source": [
    "record[\"ID\"]"
   ]
  },
  {
   "cell_type": "code",
   "execution_count": 34,
   "id": "efdfdbe3",
   "metadata": {},
   "outputs": [
    {
     "data": {
      "text/plain": [
       "'Lipoprotein lipase.'"
      ]
     },
     "execution_count": 34,
     "metadata": {},
     "output_type": "execute_result"
    }
   ],
   "source": [
    "record[\"DE\"]"
   ]
  },
  {
   "cell_type": "code",
   "execution_count": 35,
   "id": "fbb651d7",
   "metadata": {},
   "outputs": [
    {
     "data": {
      "text/plain": [
       "['Clearing factor lipase.', 'Diacylglycerol lipase.', 'Diglyceride lipase.']"
      ]
     },
     "execution_count": 35,
     "metadata": {},
     "output_type": "execute_result"
    }
   ],
   "source": [
    "record[\"AN\"]"
   ]
  },
  {
   "cell_type": "code",
   "execution_count": 36,
   "id": "5b758136",
   "metadata": {},
   "outputs": [
    {
     "data": {
      "text/plain": [
       "'Triacylglycerol + H(2)O = diacylglycerol + a carboxylate.'"
      ]
     },
     "execution_count": 36,
     "metadata": {},
     "output_type": "execute_result"
    }
   ],
   "source": [
    "record[\"CA\"]"
   ]
  },
  {
   "cell_type": "code",
   "execution_count": 37,
   "id": "d358b351",
   "metadata": {},
   "outputs": [
    {
     "data": {
      "text/plain": [
       "['PDOC00110']"
      ]
     },
     "execution_count": 37,
     "metadata": {},
     "output_type": "execute_result"
    }
   ],
   "source": [
    "record[\"PR\"]"
   ]
  },
  {
   "cell_type": "code",
   "execution_count": 38,
   "id": "7a6fe22d",
   "metadata": {},
   "outputs": [
    {
     "data": {
      "text/plain": [
       "['Hydrolyzes triacylglycerols in chylomicrons and very low-density lipoproteins (VLDL).',\n",
       " 'Also hydrolyzes diacylglycerol.']"
      ]
     },
     "execution_count": 38,
     "metadata": {},
     "output_type": "execute_result"
    }
   ],
   "source": [
    "record[\"CC\"]"
   ]
  },
  {
   "cell_type": "code",
   "execution_count": 39,
   "id": "790b824e",
   "metadata": {},
   "outputs": [
    {
     "data": {
      "text/plain": [
       "[['P11151', 'LIPL_BOVIN'],\n",
       " ['P11153', 'LIPL_CAVPO'],\n",
       " ['P11602', 'LIPL_CHICK'],\n",
       " ['P55031', 'LIPL_FELCA'],\n",
       " ['P06858', 'LIPL_HUMAN'],\n",
       " ['P11152', 'LIPL_MOUSE'],\n",
       " ['O46647', 'LIPL_MUSVI'],\n",
       " ['P49060', 'LIPL_PAPAN'],\n",
       " ['P49923', 'LIPL_PIG'],\n",
       " ['Q06000', 'LIPL_RAT'],\n",
       " ['Q29524', 'LIPL_SHEEP']]"
      ]
     },
     "execution_count": 39,
     "metadata": {},
     "output_type": "execute_result"
    }
   ],
   "source": [
    "record[\"DR\"]"
   ]
  },
  {
   "cell_type": "markdown",
   "id": "ec61b2a8",
   "metadata": {},
   "source": [
    "The full set of Enzyme records can be downloaded as a single file (`enzyme.dat`) from the [ExPASy FTP site](ftp://ftp.expasy.org/databases/enzyme/enzyme.dat), containing 4877 records (release of 3 March 2009). To parse such a file containing multiple Enzyme records, use the `parse` function in `Bio.ExPASy.Enzyme` to obtain an iterator:"
   ]
  },
  {
   "cell_type": "code",
   "execution_count": 40,
   "id": "6a955432",
   "metadata": {},
   "outputs": [],
   "source": [
    "from Bio.ExPASy import Enzyme\n",
    "handle = open(\"enzyme.dat\")\n",
    "records = Enzyme.parse(handle)"
   ]
  },
  {
   "cell_type": "markdown",
   "id": "630574b1",
   "metadata": {},
   "source": [
    "We can now iterate over the records one at a time. For example, we can make a list of all EC numbers for which an Enzyme record is available:"
   ]
  },
  {
   "cell_type": "code",
   "execution_count": 41,
   "id": "fe7f935e",
   "metadata": {},
   "outputs": [
    {
     "data": {
      "text/plain": [
       "['1.1.1.1',\n",
       " '1.1.1.2',\n",
       " '1.1.1.3',\n",
       " '1.1.1.4',\n",
       " '1.1.1.5',\n",
       " '1.1.1.6',\n",
       " '1.1.1.7',\n",
       " '1.1.1.8',\n",
       " '1.1.1.9',\n",
       " '1.1.1.10',\n",
       " '1.1.1.11',\n",
       " '1.1.1.12',\n",
       " '1.1.1.13',\n",
       " '1.1.1.14',\n",
       " '1.1.1.15',\n",
       " '1.1.1.16',\n",
       " '1.1.1.17',\n",
       " '1.1.1.18',\n",
       " '1.1.1.19',\n",
       " '1.1.1.20',\n",
       " '1.1.1.21',\n",
       " '1.1.1.22',\n",
       " '1.1.1.23',\n",
       " '1.1.1.24',\n",
       " '1.1.1.25',\n",
       " '1.1.1.26',\n",
       " '1.1.1.27',\n",
       " '1.1.1.28',\n",
       " '1.1.1.29',\n",
       " '1.1.1.30',\n",
       " '1.1.1.31',\n",
       " '1.1.1.32',\n",
       " '1.1.1.33',\n",
       " '1.1.1.34',\n",
       " '1.1.1.35',\n",
       " '1.1.1.36',\n",
       " '1.1.1.37',\n",
       " '1.1.1.38',\n",
       " '1.1.1.39',\n",
       " '1.1.1.40',\n",
       " '1.1.1.41',\n",
       " '1.1.1.42',\n",
       " '1.1.1.43',\n",
       " '1.1.1.44',\n",
       " '1.1.1.45',\n",
       " '1.1.1.46',\n",
       " '1.1.1.47',\n",
       " '1.1.1.48',\n",
       " '1.1.1.49',\n",
       " '1.1.1.50',\n",
       " '1.1.1.51',\n",
       " '1.1.1.52',\n",
       " '1.1.1.53',\n",
       " '1.1.1.54',\n",
       " '1.1.1.55',\n",
       " '1.1.1.56',\n",
       " '1.1.1.57',\n",
       " '1.1.1.58',\n",
       " '1.1.1.59',\n",
       " '1.1.1.60',\n",
       " '1.1.1.61',\n",
       " '1.1.1.62',\n",
       " '1.1.1.63',\n",
       " '1.1.1.64',\n",
       " '1.1.1.65',\n",
       " '1.1.1.66',\n",
       " '1.1.1.67',\n",
       " '1.1.1.68',\n",
       " '1.1.1.69',\n",
       " '1.1.1.70',\n",
       " '1.1.1.71',\n",
       " '1.1.1.72',\n",
       " '1.1.1.73',\n",
       " '1.1.1.74',\n",
       " '1.1.1.75',\n",
       " '1.1.1.76',\n",
       " '1.1.1.77',\n",
       " '1.1.1.78',\n",
       " '1.1.1.79',\n",
       " '1.1.1.80',\n",
       " '1.1.1.81',\n",
       " '1.1.1.82',\n",
       " '1.1.1.83',\n",
       " '1.1.1.84',\n",
       " '1.1.1.85',\n",
       " '1.1.1.86',\n",
       " '1.1.1.87',\n",
       " '1.1.1.88',\n",
       " '1.1.1.89',\n",
       " '1.1.1.90',\n",
       " '1.1.1.91',\n",
       " '1.1.1.92',\n",
       " '1.1.1.93',\n",
       " '1.1.1.94',\n",
       " '1.1.1.95',\n",
       " '1.1.1.96',\n",
       " '1.1.1.97',\n",
       " '1.1.1.98',\n",
       " '1.1.1.99',\n",
       " '1.1.1.100',\n",
       " '1.1.1.101',\n",
       " '1.1.1.102',\n",
       " '1.1.1.103',\n",
       " '1.1.1.104',\n",
       " '1.1.1.105',\n",
       " '1.1.1.106',\n",
       " '1.1.1.107',\n",
       " '1.1.1.108',\n",
       " '1.1.1.109',\n",
       " '1.1.1.110',\n",
       " '1.1.1.111',\n",
       " '1.1.1.112',\n",
       " '1.1.1.113',\n",
       " '1.1.1.114',\n",
       " '1.1.1.115',\n",
       " '1.1.1.116',\n",
       " '1.1.1.117',\n",
       " '1.1.1.118',\n",
       " '1.1.1.119',\n",
       " '1.1.1.120',\n",
       " '1.1.1.121',\n",
       " '1.1.1.122',\n",
       " '1.1.1.123',\n",
       " '1.1.1.124',\n",
       " '1.1.1.125',\n",
       " '1.1.1.126',\n",
       " '1.1.1.127',\n",
       " '1.1.1.128',\n",
       " '1.1.1.129',\n",
       " '1.1.1.130',\n",
       " '1.1.1.131',\n",
       " '1.1.1.132',\n",
       " '1.1.1.133',\n",
       " '1.1.1.134',\n",
       " '1.1.1.135',\n",
       " '1.1.1.136',\n",
       " '1.1.1.137',\n",
       " '1.1.1.138',\n",
       " '1.1.1.139',\n",
       " '1.1.1.140',\n",
       " '1.1.1.141',\n",
       " '1.1.1.142',\n",
       " '1.1.1.143',\n",
       " '1.1.1.144',\n",
       " '1.1.1.145',\n",
       " '1.1.1.146',\n",
       " '1.1.1.147',\n",
       " '1.1.1.148',\n",
       " '1.1.1.149',\n",
       " '1.1.1.150',\n",
       " '1.1.1.151',\n",
       " '1.1.1.152',\n",
       " '1.1.1.153',\n",
       " '1.1.1.154',\n",
       " '1.1.1.155',\n",
       " '1.1.1.156',\n",
       " '1.1.1.157',\n",
       " '1.1.1.158',\n",
       " '1.1.1.159',\n",
       " '1.1.1.160',\n",
       " '1.1.1.161',\n",
       " '1.1.1.162',\n",
       " '1.1.1.163',\n",
       " '1.1.1.164',\n",
       " '1.1.1.165',\n",
       " '1.1.1.166',\n",
       " '1.1.1.167',\n",
       " '1.1.1.168',\n",
       " '1.1.1.169',\n",
       " '1.1.1.170',\n",
       " '1.1.1.171',\n",
       " '1.1.1.172',\n",
       " '1.1.1.173',\n",
       " '1.1.1.174',\n",
       " '1.1.1.175',\n",
       " '1.1.1.176',\n",
       " '1.1.1.177',\n",
       " '1.1.1.178',\n",
       " '1.1.1.179',\n",
       " '1.1.1.180',\n",
       " '1.1.1.181',\n",
       " '1.1.1.182',\n",
       " '1.1.1.183',\n",
       " '1.1.1.184',\n",
       " '1.1.1.185',\n",
       " '1.1.1.186',\n",
       " '1.1.1.187',\n",
       " '1.1.1.188',\n",
       " '1.1.1.189',\n",
       " '1.1.1.190',\n",
       " '1.1.1.191',\n",
       " '1.1.1.192',\n",
       " '1.1.1.193',\n",
       " '1.1.1.194',\n",
       " '1.1.1.195',\n",
       " '1.1.1.196',\n",
       " '1.1.1.197',\n",
       " '1.1.1.198',\n",
       " '1.1.1.199',\n",
       " '1.1.1.200',\n",
       " '1.1.1.201',\n",
       " '1.1.1.202',\n",
       " '1.1.1.203',\n",
       " '1.1.1.204',\n",
       " '1.1.1.205',\n",
       " '1.1.1.206',\n",
       " '1.1.1.207',\n",
       " '1.1.1.208',\n",
       " '1.1.1.209',\n",
       " '1.1.1.210',\n",
       " '1.1.1.211',\n",
       " '1.1.1.212',\n",
       " '1.1.1.213',\n",
       " '1.1.1.214',\n",
       " '1.1.1.215',\n",
       " '1.1.1.216',\n",
       " '1.1.1.217',\n",
       " '1.1.1.218',\n",
       " '1.1.1.219',\n",
       " '1.1.1.220',\n",
       " '1.1.1.221',\n",
       " '1.1.1.222',\n",
       " '1.1.1.223',\n",
       " '1.1.1.224',\n",
       " '1.1.1.225',\n",
       " '1.1.1.226',\n",
       " '1.1.1.227',\n",
       " '1.1.1.228',\n",
       " '1.1.1.229',\n",
       " '1.1.1.230',\n",
       " '1.1.1.231',\n",
       " '1.1.1.232',\n",
       " '1.1.1.233',\n",
       " '1.1.1.234',\n",
       " '1.1.1.235',\n",
       " '1.1.1.236',\n",
       " '1.1.1.237',\n",
       " '1.1.1.238',\n",
       " '1.1.1.239',\n",
       " '1.1.1.240',\n",
       " '1.1.1.241',\n",
       " '1.1.1.242',\n",
       " '1.1.1.243',\n",
       " '1.1.1.244',\n",
       " '1.1.1.245',\n",
       " '1.1.1.246',\n",
       " '1.1.1.247',\n",
       " '1.1.1.248',\n",
       " '1.1.1.249',\n",
       " '1.1.1.250',\n",
       " '1.1.1.251',\n",
       " '1.1.1.252',\n",
       " '1.1.1.253',\n",
       " '1.1.1.254',\n",
       " '1.1.1.255',\n",
       " '1.1.1.256',\n",
       " '1.1.1.257',\n",
       " '1.1.1.258',\n",
       " '1.1.1.259',\n",
       " '1.1.1.260',\n",
       " '1.1.1.261',\n",
       " '1.1.1.262',\n",
       " '1.1.1.263',\n",
       " '1.1.1.264',\n",
       " '1.1.1.265',\n",
       " '1.1.1.266',\n",
       " '1.1.1.267',\n",
       " '1.1.1.268',\n",
       " '1.1.1.269',\n",
       " '1.1.1.270',\n",
       " '1.1.1.271',\n",
       " '1.1.1.272',\n",
       " '1.1.1.273',\n",
       " '1.1.1.274',\n",
       " '1.1.1.275',\n",
       " '1.1.1.276',\n",
       " '1.1.1.277',\n",
       " '1.1.1.278',\n",
       " '1.1.1.279',\n",
       " '1.1.1.280',\n",
       " '1.1.1.281',\n",
       " '1.1.1.282',\n",
       " '1.1.1.283',\n",
       " '1.1.1.284',\n",
       " '1.1.1.285',\n",
       " '1.1.1.286',\n",
       " '1.1.1.287',\n",
       " '1.1.1.288',\n",
       " '1.1.1.289',\n",
       " '1.1.1.290',\n",
       " '1.1.1.291',\n",
       " '1.1.1.292',\n",
       " '1.1.1.293',\n",
       " '1.1.1.294',\n",
       " '1.1.1.295',\n",
       " '1.1.1.296',\n",
       " '1.1.1.297',\n",
       " '1.1.1.298',\n",
       " '1.1.1.299',\n",
       " '1.1.1.300',\n",
       " '1.1.1.301',\n",
       " '1.1.1.302',\n",
       " '1.1.1.303',\n",
       " '1.1.1.304',\n",
       " '1.1.1.305',\n",
       " '1.1.1.306',\n",
       " '1.1.1.307',\n",
       " '1.1.1.308',\n",
       " '1.1.1.309',\n",
       " '1.1.1.310',\n",
       " '1.1.1.311',\n",
       " '1.1.1.312',\n",
       " '1.1.1.313',\n",
       " '1.1.1.314',\n",
       " '1.1.1.315',\n",
       " '1.1.1.316',\n",
       " '1.1.1.317',\n",
       " '1.1.1.318',\n",
       " '1.1.1.319',\n",
       " '1.1.1.320',\n",
       " '1.1.1.321',\n",
       " '1.1.1.322',\n",
       " '1.1.1.323',\n",
       " '1.1.1.324',\n",
       " '1.1.1.325',\n",
       " '1.1.1.326',\n",
       " '1.1.1.327',\n",
       " '1.1.1.328',\n",
       " '1.1.1.329',\n",
       " '1.1.1.330',\n",
       " '1.1.1.331',\n",
       " '1.1.1.332',\n",
       " '1.1.1.333',\n",
       " '1.1.1.334',\n",
       " '1.1.1.335',\n",
       " '1.1.1.336',\n",
       " '1.1.1.337',\n",
       " '1.1.1.338',\n",
       " '1.1.1.339',\n",
       " '1.1.1.340',\n",
       " '1.1.1.341',\n",
       " '1.1.1.342',\n",
       " '1.1.1.343',\n",
       " '1.1.1.344',\n",
       " '1.1.1.345',\n",
       " '1.1.1.346',\n",
       " '1.1.1.347',\n",
       " '1.1.1.348',\n",
       " '1.1.1.349',\n",
       " '1.1.1.350',\n",
       " '1.1.1.351',\n",
       " '1.1.1.352',\n",
       " '1.1.1.353',\n",
       " '1.1.1.354',\n",
       " '1.1.1.355',\n",
       " '1.1.1.356',\n",
       " '1.1.1.357',\n",
       " '1.1.1.358',\n",
       " '1.1.1.359',\n",
       " '1.1.1.360',\n",
       " '1.1.1.361',\n",
       " '1.1.1.362',\n",
       " '1.1.1.363',\n",
       " '1.1.1.364',\n",
       " '1.1.1.365',\n",
       " '1.1.1.366',\n",
       " '1.1.1.367',\n",
       " '1.1.1.368',\n",
       " '1.1.1.369',\n",
       " '1.1.1.370',\n",
       " '1.1.1.371',\n",
       " '1.1.1.372',\n",
       " '1.1.1.373',\n",
       " '1.1.1.374',\n",
       " '1.1.1.375',\n",
       " '1.1.1.376',\n",
       " '1.1.1.377',\n",
       " '1.1.1.378',\n",
       " '1.1.1.379',\n",
       " '1.1.1.380',\n",
       " '1.1.1.381',\n",
       " '1.1.1.382',\n",
       " '1.1.1.383',\n",
       " '1.1.1.384',\n",
       " '1.1.1.385',\n",
       " '1.1.1.386',\n",
       " '1.1.1.387',\n",
       " '1.1.1.388',\n",
       " '1.1.1.389',\n",
       " '1.1.1.390',\n",
       " '1.1.1.391',\n",
       " '1.1.1.392',\n",
       " '1.1.1.393',\n",
       " '1.1.1.394',\n",
       " '1.1.1.395',\n",
       " '1.1.1.396',\n",
       " '1.1.1.397',\n",
       " '1.1.1.398',\n",
       " '1.1.1.399',\n",
       " '1.1.1.400',\n",
       " '1.1.1.401',\n",
       " '1.1.1.402',\n",
       " '1.1.1.403',\n",
       " '1.1.1.404',\n",
       " '1.1.1.405',\n",
       " '1.1.1.406',\n",
       " '1.1.1.407',\n",
       " '1.1.1.408',\n",
       " '1.1.1.409',\n",
       " '1.1.1.410',\n",
       " '1.1.1.411',\n",
       " '1.1.1.412',\n",
       " '1.1.1.413',\n",
       " '1.1.1.414',\n",
       " '1.1.1.415',\n",
       " '1.1.1.416',\n",
       " '1.1.1.417',\n",
       " '1.1.1.418',\n",
       " '1.1.1.419',\n",
       " '1.1.1.420',\n",
       " '1.1.1.421',\n",
       " '1.1.1.422',\n",
       " '1.1.1.423',\n",
       " '1.1.1.424',\n",
       " '1.1.1.425',\n",
       " '1.1.1.426',\n",
       " '1.1.1.427',\n",
       " '1.1.1.428',\n",
       " '1.1.1.429',\n",
       " '1.1.1.430',\n",
       " '1.1.1.431',\n",
       " '1.1.1.432',\n",
       " '1.1.1.433',\n",
       " '1.1.1.n1',\n",
       " '1.1.1.n2',\n",
       " '1.1.1.n3',\n",
       " '1.1.1.n4',\n",
       " '1.1.1.n5',\n",
       " '1.1.1.n6',\n",
       " '1.1.1.n7',\n",
       " '1.1.1.n8',\n",
       " '1.1.1.n9',\n",
       " '1.1.1.n10',\n",
       " '1.1.1.n11',\n",
       " '1.1.1.n12',\n",
       " '1.1.1.n13',\n",
       " '1.1.1.n14',\n",
       " '1.1.2.1',\n",
       " '1.1.2.2',\n",
       " '1.1.2.3',\n",
       " '1.1.2.4',\n",
       " '1.1.2.5',\n",
       " '1.1.2.6',\n",
       " '1.1.2.7',\n",
       " '1.1.2.8',\n",
       " '1.1.2.9',\n",
       " '1.1.2.10',\n",
       " '1.1.2.11',\n",
       " '1.1.3.1',\n",
       " '1.1.3.2',\n",
       " '1.1.3.3',\n",
       " '1.1.3.4',\n",
       " '1.1.3.5',\n",
       " '1.1.3.6',\n",
       " '1.1.3.7',\n",
       " '1.1.3.8',\n",
       " '1.1.3.9',\n",
       " '1.1.3.10',\n",
       " '1.1.3.11',\n",
       " '1.1.3.12',\n",
       " '1.1.3.13',\n",
       " '1.1.3.14',\n",
       " '1.1.3.15',\n",
       " '1.1.3.16',\n",
       " '1.1.3.17',\n",
       " '1.1.3.18',\n",
       " '1.1.3.19',\n",
       " '1.1.3.20',\n",
       " '1.1.3.21',\n",
       " '1.1.3.22',\n",
       " '1.1.3.23',\n",
       " '1.1.3.24',\n",
       " '1.1.3.25',\n",
       " '1.1.3.26',\n",
       " '1.1.3.27',\n",
       " '1.1.3.28',\n",
       " '1.1.3.29',\n",
       " '1.1.3.30',\n",
       " '1.1.3.31',\n",
       " '1.1.3.32',\n",
       " '1.1.3.33',\n",
       " '1.1.3.34',\n",
       " '1.1.3.35',\n",
       " '1.1.3.36',\n",
       " '1.1.3.37',\n",
       " '1.1.3.38',\n",
       " '1.1.3.39',\n",
       " '1.1.3.40',\n",
       " '1.1.3.41',\n",
       " '1.1.3.42',\n",
       " '1.1.3.43',\n",
       " '1.1.3.44',\n",
       " '1.1.3.45',\n",
       " '1.1.3.46',\n",
       " '1.1.3.47',\n",
       " '1.1.3.48',\n",
       " '1.1.3.49',\n",
       " '1.1.4.1',\n",
       " '1.1.4.2',\n",
       " '1.1.5.1',\n",
       " '1.1.5.2',\n",
       " '1.1.5.3',\n",
       " '1.1.5.4',\n",
       " '1.1.5.5',\n",
       " '1.1.5.6',\n",
       " '1.1.5.7',\n",
       " '1.1.5.8',\n",
       " '1.1.5.9',\n",
       " '1.1.5.10',\n",
       " '1.1.5.11',\n",
       " '1.1.5.12',\n",
       " '1.1.5.13',\n",
       " '1.1.5.14',\n",
       " '1.1.5.n1',\n",
       " '1.1.7.1',\n",
       " '1.1.9.1',\n",
       " '1.1.98.1',\n",
       " '1.1.98.2',\n",
       " '1.1.98.3',\n",
       " '1.1.98.4',\n",
       " '1.1.98.5',\n",
       " '1.1.98.6',\n",
       " '1.1.98.7',\n",
       " '1.1.99.1',\n",
       " '1.1.99.2',\n",
       " '1.1.99.3',\n",
       " '1.1.99.4',\n",
       " '1.1.99.5',\n",
       " '1.1.99.6',\n",
       " '1.1.99.7',\n",
       " '1.1.99.8',\n",
       " '1.1.99.9',\n",
       " '1.1.99.10',\n",
       " '1.1.99.11',\n",
       " '1.1.99.12',\n",
       " '1.1.99.13',\n",
       " '1.1.99.14',\n",
       " '1.1.99.15',\n",
       " '1.1.99.16',\n",
       " '1.1.99.17',\n",
       " '1.1.99.18',\n",
       " '1.1.99.19',\n",
       " '1.1.99.20',\n",
       " '1.1.99.21',\n",
       " '1.1.99.22',\n",
       " '1.1.99.23',\n",
       " '1.1.99.24',\n",
       " '1.1.99.25',\n",
       " '1.1.99.26',\n",
       " '1.1.99.27',\n",
       " '1.1.99.28',\n",
       " '1.1.99.29',\n",
       " '1.1.99.30',\n",
       " '1.1.99.31',\n",
       " '1.1.99.32',\n",
       " '1.1.99.33',\n",
       " '1.1.99.34',\n",
       " '1.1.99.35',\n",
       " '1.1.99.36',\n",
       " '1.1.99.37',\n",
       " '1.1.99.38',\n",
       " '1.1.99.39',\n",
       " '1.1.99.40',\n",
       " '1.1.99.41',\n",
       " '1.1.99.42',\n",
       " '1.2.1.1',\n",
       " '1.2.1.2',\n",
       " '1.2.1.3',\n",
       " '1.2.1.4',\n",
       " '1.2.1.5',\n",
       " '1.2.1.6',\n",
       " '1.2.1.7',\n",
       " '1.2.1.8',\n",
       " '1.2.1.9',\n",
       " '1.2.1.10',\n",
       " '1.2.1.11',\n",
       " '1.2.1.12',\n",
       " '1.2.1.13',\n",
       " '1.2.1.14',\n",
       " '1.2.1.15',\n",
       " '1.2.1.16',\n",
       " '1.2.1.17',\n",
       " '1.2.1.18',\n",
       " '1.2.1.19',\n",
       " '1.2.1.20',\n",
       " '1.2.1.21',\n",
       " '1.2.1.22',\n",
       " '1.2.1.23',\n",
       " '1.2.1.24',\n",
       " '1.2.1.25',\n",
       " '1.2.1.26',\n",
       " '1.2.1.27',\n",
       " '1.2.1.28',\n",
       " '1.2.1.29',\n",
       " '1.2.1.30',\n",
       " '1.2.1.31',\n",
       " '1.2.1.32',\n",
       " '1.2.1.33',\n",
       " '1.2.1.34',\n",
       " '1.2.1.35',\n",
       " '1.2.1.36',\n",
       " '1.2.1.37',\n",
       " '1.2.1.38',\n",
       " '1.2.1.39',\n",
       " '1.2.1.40',\n",
       " '1.2.1.41',\n",
       " '1.2.1.42',\n",
       " '1.2.1.43',\n",
       " '1.2.1.44',\n",
       " '1.2.1.45',\n",
       " '1.2.1.46',\n",
       " '1.2.1.47',\n",
       " '1.2.1.48',\n",
       " '1.2.1.49',\n",
       " '1.2.1.50',\n",
       " '1.2.1.51',\n",
       " '1.2.1.52',\n",
       " '1.2.1.53',\n",
       " '1.2.1.54',\n",
       " '1.2.1.55',\n",
       " '1.2.1.56',\n",
       " '1.2.1.57',\n",
       " '1.2.1.58',\n",
       " '1.2.1.59',\n",
       " '1.2.1.60',\n",
       " '1.2.1.61',\n",
       " '1.2.1.62',\n",
       " '1.2.1.63',\n",
       " '1.2.1.64',\n",
       " '1.2.1.65',\n",
       " '1.2.1.66',\n",
       " '1.2.1.67',\n",
       " '1.2.1.68',\n",
       " '1.2.1.69',\n",
       " '1.2.1.70',\n",
       " '1.2.1.71',\n",
       " '1.2.1.72',\n",
       " '1.2.1.73',\n",
       " '1.2.1.74',\n",
       " '1.2.1.75',\n",
       " '1.2.1.76',\n",
       " '1.2.1.77',\n",
       " '1.2.1.78',\n",
       " '1.2.1.79',\n",
       " '1.2.1.80',\n",
       " '1.2.1.81',\n",
       " '1.2.1.82',\n",
       " '1.2.1.83',\n",
       " '1.2.1.84',\n",
       " '1.2.1.85',\n",
       " '1.2.1.86',\n",
       " '1.2.1.87',\n",
       " '1.2.1.88',\n",
       " '1.2.1.89',\n",
       " '1.2.1.90',\n",
       " '1.2.1.91',\n",
       " '1.2.1.92',\n",
       " '1.2.1.93',\n",
       " '1.2.1.94',\n",
       " '1.2.1.95',\n",
       " '1.2.1.96',\n",
       " '1.2.1.97',\n",
       " '1.2.1.98',\n",
       " '1.2.1.99',\n",
       " '1.2.1.100',\n",
       " '1.2.1.101',\n",
       " '1.2.1.102',\n",
       " '1.2.1.103',\n",
       " '1.2.1.104',\n",
       " '1.2.1.105',\n",
       " '1.2.1.106',\n",
       " '1.2.1.107',\n",
       " '1.2.1.n1',\n",
       " '1.2.1.n2',\n",
       " '1.2.1.n3',\n",
       " '1.2.2.1',\n",
       " '1.2.2.2',\n",
       " '1.2.2.3',\n",
       " '1.2.2.4',\n",
       " '1.2.3.1',\n",
       " '1.2.3.2',\n",
       " '1.2.3.3',\n",
       " '1.2.3.4',\n",
       " '1.2.3.5',\n",
       " '1.2.3.6',\n",
       " '1.2.3.7',\n",
       " '1.2.3.8',\n",
       " '1.2.3.9',\n",
       " '1.2.3.10',\n",
       " '1.2.3.11',\n",
       " '1.2.3.12',\n",
       " '1.2.3.13',\n",
       " '1.2.3.14',\n",
       " '1.2.3.15',\n",
       " '1.2.4.1',\n",
       " '1.2.4.2',\n",
       " '1.2.4.3',\n",
       " '1.2.4.4',\n",
       " '1.2.5.1',\n",
       " '1.2.5.2',\n",
       " '1.2.5.3',\n",
       " '1.2.7.1',\n",
       " '1.2.7.2',\n",
       " '1.2.7.3',\n",
       " '1.2.7.4',\n",
       " '1.2.7.5',\n",
       " '1.2.7.6',\n",
       " '1.2.7.7',\n",
       " '1.2.7.8',\n",
       " '1.2.7.9',\n",
       " '1.2.7.10',\n",
       " '1.2.7.11',\n",
       " '1.2.7.12',\n",
       " '1.2.98.1',\n",
       " '1.2.99.1',\n",
       " '1.2.99.2',\n",
       " '1.2.99.3',\n",
       " '1.2.99.4',\n",
       " '1.2.99.5',\n",
       " '1.2.99.6',\n",
       " '1.2.99.7',\n",
       " '1.2.99.8',\n",
       " '1.2.99.9',\n",
       " '1.2.99.10',\n",
       " '1.3.1.1',\n",
       " '1.3.1.2',\n",
       " '1.3.1.3',\n",
       " '1.3.1.4',\n",
       " '1.3.1.5',\n",
       " '1.3.1.6',\n",
       " '1.3.1.7',\n",
       " '1.3.1.8',\n",
       " '1.3.1.9',\n",
       " '1.3.1.10',\n",
       " '1.3.1.11',\n",
       " '1.3.1.12',\n",
       " '1.3.1.13',\n",
       " '1.3.1.14',\n",
       " '1.3.1.15',\n",
       " '1.3.1.16',\n",
       " '1.3.1.17',\n",
       " '1.3.1.18',\n",
       " '1.3.1.19',\n",
       " '1.3.1.20',\n",
       " '1.3.1.21',\n",
       " '1.3.1.22',\n",
       " '1.3.1.23',\n",
       " '1.3.1.24',\n",
       " '1.3.1.25',\n",
       " '1.3.1.26',\n",
       " '1.3.1.27',\n",
       " '1.3.1.28',\n",
       " '1.3.1.29',\n",
       " '1.3.1.30',\n",
       " '1.3.1.31',\n",
       " '1.3.1.32',\n",
       " '1.3.1.33',\n",
       " '1.3.1.34',\n",
       " '1.3.1.35',\n",
       " '1.3.1.36',\n",
       " '1.3.1.37',\n",
       " '1.3.1.38',\n",
       " '1.3.1.39',\n",
       " '1.3.1.40',\n",
       " '1.3.1.41',\n",
       " '1.3.1.42',\n",
       " '1.3.1.43',\n",
       " '1.3.1.44',\n",
       " '1.3.1.45',\n",
       " '1.3.1.46',\n",
       " '1.3.1.47',\n",
       " '1.3.1.48',\n",
       " '1.3.1.49',\n",
       " '1.3.1.50',\n",
       " '1.3.1.51',\n",
       " '1.3.1.52',\n",
       " '1.3.1.53',\n",
       " '1.3.1.54',\n",
       " '1.3.1.55',\n",
       " '1.3.1.56',\n",
       " '1.3.1.57',\n",
       " '1.3.1.58',\n",
       " '1.3.1.59',\n",
       " '1.3.1.60',\n",
       " '1.3.1.61',\n",
       " '1.3.1.62',\n",
       " '1.3.1.63',\n",
       " '1.3.1.64',\n",
       " '1.3.1.65',\n",
       " '1.3.1.66',\n",
       " '1.3.1.67',\n",
       " '1.3.1.68',\n",
       " '1.3.1.69',\n",
       " '1.3.1.70',\n",
       " '1.3.1.71',\n",
       " '1.3.1.72',\n",
       " '1.3.1.73',\n",
       " '1.3.1.74',\n",
       " '1.3.1.75',\n",
       " '1.3.1.76',\n",
       " '1.3.1.77',\n",
       " '1.3.1.78',\n",
       " '1.3.1.79',\n",
       " '1.3.1.80',\n",
       " '1.3.1.81',\n",
       " '1.3.1.82',\n",
       " '1.3.1.83',\n",
       " '1.3.1.84',\n",
       " '1.3.1.85',\n",
       " '1.3.1.86',\n",
       " '1.3.1.87',\n",
       " '1.3.1.88',\n",
       " '1.3.1.89',\n",
       " '1.3.1.90',\n",
       " '1.3.1.91',\n",
       " '1.3.1.92',\n",
       " '1.3.1.93',\n",
       " '1.3.1.94',\n",
       " '1.3.1.95',\n",
       " '1.3.1.96',\n",
       " '1.3.1.97',\n",
       " '1.3.1.98',\n",
       " '1.3.1.99',\n",
       " '1.3.1.100',\n",
       " '1.3.1.101',\n",
       " '1.3.1.102',\n",
       " '1.3.1.103',\n",
       " '1.3.1.104',\n",
       " '1.3.1.105',\n",
       " '1.3.1.106',\n",
       " '1.3.1.107',\n",
       " '1.3.1.108',\n",
       " '1.3.1.109',\n",
       " '1.3.1.110',\n",
       " '1.3.1.111',\n",
       " '1.3.1.112',\n",
       " '1.3.1.113',\n",
       " '1.3.1.114',\n",
       " '1.3.1.115',\n",
       " '1.3.1.116',\n",
       " '1.3.1.117',\n",
       " '1.3.1.118',\n",
       " '1.3.1.119',\n",
       " '1.3.1.120',\n",
       " '1.3.1.121',\n",
       " '1.3.1.122',\n",
       " '1.3.1.123',\n",
       " '1.3.1.124',\n",
       " '1.3.1.n1',\n",
       " '1.3.1.n2',\n",
       " '1.3.1.n3',\n",
       " '1.3.2.1',\n",
       " '1.3.2.2',\n",
       " '1.3.2.3',\n",
       " '1.3.3.1',\n",
       " '1.3.3.2',\n",
       " '1.3.3.3',\n",
       " '1.3.3.4',\n",
       " '1.3.3.5',\n",
       " '1.3.3.6',\n",
       " '1.3.3.7',\n",
       " '1.3.3.8',\n",
       " '1.3.3.9',\n",
       " '1.3.3.10',\n",
       " '1.3.3.11',\n",
       " '1.3.3.12',\n",
       " '1.3.3.13',\n",
       " '1.3.3.14',\n",
       " '1.3.3.15',\n",
       " '1.3.3.16',\n",
       " '1.3.3.17',\n",
       " '1.3.4.1',\n",
       " '1.3.5.1',\n",
       " '1.3.5.2',\n",
       " '1.3.5.3',\n",
       " '1.3.5.4',\n",
       " '1.3.5.5',\n",
       " '1.3.5.6',\n",
       " '1.3.7.1',\n",
       " '1.3.7.2',\n",
       " '1.3.7.3',\n",
       " '1.3.7.4',\n",
       " '1.3.7.5',\n",
       " '1.3.7.6',\n",
       " '1.3.7.7',\n",
       " '1.3.7.8',\n",
       " '1.3.7.9',\n",
       " '1.3.7.10',\n",
       " '1.3.7.11',\n",
       " '1.3.7.12',\n",
       " '1.3.7.13',\n",
       " '1.3.7.14',\n",
       " '1.3.7.15',\n",
       " '1.3.8.1',\n",
       " '1.3.8.2',\n",
       " '1.3.8.3',\n",
       " '1.3.8.4',\n",
       " '1.3.8.5',\n",
       " '1.3.8.6',\n",
       " '1.3.8.7',\n",
       " '1.3.8.8',\n",
       " '1.3.8.9',\n",
       " '1.3.8.10',\n",
       " '1.3.8.11',\n",
       " '1.3.8.12',\n",
       " '1.3.8.13',\n",
       " '1.3.8.14',\n",
       " '1.3.8.15',\n",
       " '1.3.8.16',\n",
       " '1.3.8.17',\n",
       " '1.3.98.1',\n",
       " '1.3.98.2',\n",
       " '1.3.98.3',\n",
       " '1.3.98.4',\n",
       " '1.3.98.5',\n",
       " '1.3.98.6',\n",
       " '1.3.98.7',\n",
       " '1.3.99.1',\n",
       " '1.3.99.2',\n",
       " '1.3.99.3',\n",
       " '1.3.99.4',\n",
       " '1.3.99.5',\n",
       " '1.3.99.6',\n",
       " '1.3.99.7',\n",
       " '1.3.99.8',\n",
       " '1.3.99.9',\n",
       " '1.3.99.10',\n",
       " '1.3.99.11',\n",
       " '1.3.99.12',\n",
       " '1.3.99.13',\n",
       " '1.3.99.14',\n",
       " '1.3.99.15',\n",
       " '1.3.99.16',\n",
       " '1.3.99.17',\n",
       " '1.3.99.18',\n",
       " '1.3.99.19',\n",
       " '1.3.99.20',\n",
       " '1.3.99.21',\n",
       " '1.3.99.22',\n",
       " '1.3.99.23',\n",
       " '1.3.99.24',\n",
       " '1.3.99.25',\n",
       " '1.3.99.26',\n",
       " '1.3.99.27',\n",
       " '1.3.99.28',\n",
       " '1.3.99.29',\n",
       " '1.3.99.30',\n",
       " '1.3.99.31',\n",
       " '1.3.99.32',\n",
       " '1.3.99.33',\n",
       " '1.3.99.34',\n",
       " '1.3.99.35',\n",
       " '1.3.99.36',\n",
       " '1.3.99.37',\n",
       " '1.3.99.38',\n",
       " '1.3.99.39',\n",
       " '1.3.99.40',\n",
       " '1.3.99.41',\n",
       " '1.3.99.n1',\n",
       " '1.3.99.n2',\n",
       " '1.3.99.n3',\n",
       " '1.4.1.1',\n",
       " '1.4.1.2',\n",
       " '1.4.1.3',\n",
       " '1.4.1.4',\n",
       " '1.4.1.5',\n",
       " '1.4.1.6',\n",
       " '1.4.1.7',\n",
       " '1.4.1.8',\n",
       " '1.4.1.9',\n",
       " '1.4.1.10',\n",
       " '1.4.1.11',\n",
       " '1.4.1.12',\n",
       " '1.4.1.13',\n",
       " '1.4.1.14',\n",
       " '1.4.1.15',\n",
       " '1.4.1.16',\n",
       " '1.4.1.17',\n",
       " '1.4.1.18',\n",
       " '1.4.1.19',\n",
       " '1.4.1.20',\n",
       " '1.4.1.21',\n",
       " '1.4.1.23',\n",
       " '1.4.1.24',\n",
       " '1.4.1.25',\n",
       " '1.4.1.26',\n",
       " '1.4.1.27',\n",
       " '1.4.2.1',\n",
       " '1.4.3.1',\n",
       " '1.4.3.2',\n",
       " ...]"
      ]
     },
     "execution_count": 41,
     "metadata": {},
     "output_type": "execute_result"
    }
   ],
   "source": [
    "ecnumbers = [record[\"ID\"] for record in records]\n",
    "ecnumbers"
   ]
  },
  {
   "cell_type": "markdown",
   "id": "2f24b50f",
   "metadata": {},
   "source": [
    "## 10.5 Accessing the ExPASy server"
   ]
  },
  {
   "cell_type": "markdown",
   "id": "9b0a3adc",
   "metadata": {},
   "source": [
    " do a search on Swiss-Prot, you can find three orchid proteins for Chalcone Synthase, id numbers O23729, O23730, O23731"
   ]
  },
  {
   "cell_type": "code",
   "execution_count": 42,
   "id": "b30fc5ea",
   "metadata": {},
   "outputs": [
    {
     "data": {
      "text/plain": [
       "[<Bio.SwissProt.Record at 0x7fe2614f0f10>,\n",
       " <Bio.SwissProt.Record at 0x7fe2614f0070>,\n",
       " <Bio.SwissProt.Record at 0x7fe292eee970>]"
      ]
     },
     "execution_count": 42,
     "metadata": {},
     "output_type": "execute_result"
    }
   ],
   "source": [
    "from Bio import ExPASy\n",
    "from Bio import SwissProt\n",
    "accessions = [\"O23729\", \"O23730\", \"O23731\"]\n",
    "records = []\n",
    "\n",
    "for accession in accessions:\n",
    "    handle = ExPASy.get_sprot_raw(accession)\n",
    "    record = SwissProt.read(handle) # read() : to read one Swiss-Prot record from the handle\n",
    "    records.append(record)\n",
    "records"
   ]
  },
  {
   "cell_type": "code",
   "execution_count": 43,
   "id": "556da4dd",
   "metadata": {},
   "outputs": [],
   "source": [
    "for accession in accessions:\n",
    "    handle = ExPASy.get_sprot_raw(accession)\n",
    "    try:\n",
    "        record = SwissProt.read(handle)\n",
    "    except ValueException:\n",
    "        print(\"WARNING: Accession %s not found\" % accession)\n",
    "    records.append(record)"
   ]
  },
  {
   "cell_type": "code",
   "execution_count": 44,
   "id": "ff6104b7",
   "metadata": {},
   "outputs": [
    {
     "name": "stdout",
     "output_type": "stream",
     "text": [
      "ID   ASN_GLYCOSYLATION; PATTERN.\n",
      "AC   PS00001;\n",
      "DT   01-APR-1990 CREATED; 01-APR-1990 DATA UPDATE; 01-APR-1990 INFO UPDATE.\n",
      "DE   N-glycosylation site.\n",
      "PA   N-{P}-[ST]-{P}.\n",
      "CC   /SITE=1,carbohydrate;\n",
      "CC   /SKIP-FLAG=TRUE;\n",
      "CC   /VERSION=1;\n",
      "PR   PRU00498;\n",
      "DO   PDOC00001;\n",
      "//\n",
      "\n"
     ]
    }
   ],
   "source": [
    "from Bio import ExPASy\n",
    "handle = ExPASy.get_prosite_raw(\"PS00001\")\n",
    "text = handle.read()\n",
    "print(text)"
   ]
  },
  {
   "cell_type": "code",
   "execution_count": 45,
   "id": "de33ad15",
   "metadata": {},
   "outputs": [],
   "source": [
    "from Bio import ExPASy\n",
    "from Bio.ExPASy import Prosite\n",
    "handle = ExPASy.get_prosite_raw(\"PS00001\")\n",
    "record = Prosite.read(handle)"
   ]
  },
  {
   "cell_type": "code",
   "execution_count": 46,
   "id": "4462c699",
   "metadata": {},
   "outputs": [],
   "source": [
    "record = Prodoc.read(handle)"
   ]
  },
  {
   "cell_type": "code",
   "execution_count": 47,
   "id": "d6dd9d1c",
   "metadata": {},
   "outputs": [],
   "source": [
    "from Bio import ExPASy\n",
    "handle = ExPASy.get_prosite_entry(\"PS00001\")\n",
    "html = handle.read()\n",
    "with open(\"myprodocrecord.html\", \"w\") as out_handle:\n",
    "    out_handle.write(html)"
   ]
  },
  {
   "cell_type": "code",
   "execution_count": 48,
   "id": "351d3faf",
   "metadata": {},
   "outputs": [],
   "source": [
    "from Bio import ExPASy\n",
    "handle = ExPASy.get_prodoc_entry(\"PDOC00001\")\n",
    "html = handle.read()\n",
    "with open(\"myprodocrecord.html\", \"w\") as out_handle:\n",
    "    out_handle.write(html)"
   ]
  },
  {
   "cell_type": "markdown",
   "id": "b83e364e",
   "metadata": {},
   "source": [
    "## 10.6 Scanning the Prosite database"
   ]
  },
  {
   "cell_type": "code",
   "execution_count": 49,
   "id": "e3cd366f",
   "metadata": {},
   "outputs": [],
   "source": [
    "sequence = (\n",
    "    \"MEHKEVVLLLLLFLKSGQGEPLDDYVNTQGASLFSVTKKQLGAGSIEECAAKCEEDEEFT\"\n",
    "    \"CRAFQYHSKEQQCVIMAENRKSSIIIRMRDVVLFEKKVYLSECKTGNGKNYRGTMSKTKN\"\n",
    ")"
   ]
  },
  {
   "cell_type": "code",
   "execution_count": 50,
   "id": "d86c02ec",
   "metadata": {},
   "outputs": [],
   "source": [
    "from Bio.ExPASy import ScanProsite\n",
    "handle = ScanProsite.scan(seq=sequence)"
   ]
  },
  {
   "cell_type": "code",
   "execution_count": 51,
   "id": "0b443b2b",
   "metadata": {},
   "outputs": [],
   "source": [
    "result = ScanProsite.read(handle)"
   ]
  },
  {
   "cell_type": "code",
   "execution_count": 52,
   "id": "6d7395c9",
   "metadata": {},
   "outputs": [
    {
     "data": {
      "text/plain": [
       "Bio.ExPASy.ScanProsite.Record"
      ]
     },
     "execution_count": 52,
     "metadata": {},
     "output_type": "execute_result"
    }
   ],
   "source": [
    "type(result)"
   ]
  },
  {
   "cell_type": "code",
   "execution_count": 53,
   "id": "79807756",
   "metadata": {},
   "outputs": [
    {
     "data": {
      "text/plain": [
       "1"
      ]
     },
     "execution_count": 53,
     "metadata": {},
     "output_type": "execute_result"
    }
   ],
   "source": [
    "result.n_seq"
   ]
  },
  {
   "cell_type": "code",
   "execution_count": 54,
   "id": "2363a10c",
   "metadata": {},
   "outputs": [
    {
     "data": {
      "text/plain": [
       "1"
      ]
     },
     "execution_count": 54,
     "metadata": {},
     "output_type": "execute_result"
    }
   ],
   "source": [
    "result.n_match"
   ]
  },
  {
   "cell_type": "code",
   "execution_count": 55,
   "id": "1ae7961e",
   "metadata": {},
   "outputs": [
    {
     "data": {
      "text/plain": [
       "1"
      ]
     },
     "execution_count": 55,
     "metadata": {},
     "output_type": "execute_result"
    }
   ],
   "source": [
    "len(result)"
   ]
  },
  {
   "cell_type": "code",
   "execution_count": 56,
   "id": "f51fc58f",
   "metadata": {},
   "outputs": [
    {
     "data": {
      "text/plain": [
       "{'sequence_ac': 'USERSEQ1',\n",
       " 'start': 16,\n",
       " 'stop': 98,\n",
       " 'signature_ac': 'PS50948',\n",
       " 'score': '8.873',\n",
       " 'level': '0'}"
      ]
     },
     "execution_count": 56,
     "metadata": {},
     "output_type": "execute_result"
    }
   ],
   "source": [
    "result[0]"
   ]
  },
  {
   "cell_type": "code",
   "execution_count": 57,
   "id": "18e49a55",
   "metadata": {},
   "outputs": [
    {
     "data": {
      "text/plain": [
       "2"
      ]
     },
     "execution_count": 57,
     "metadata": {},
     "output_type": "execute_result"
    }
   ],
   "source": [
    "handle = ScanProsite.scan(seq=sequence, lowscore=1)\n",
    "result = ScanProsite.read(handle)\n",
    "result.n_match"
   ]
  }
 ],
 "metadata": {
  "kernelspec": {
   "display_name": "Python 3 (ipykernel)",
   "language": "python",
   "name": "python3"
  },
  "language_info": {
   "codemirror_mode": {
    "name": "ipython",
    "version": 3
   },
   "file_extension": ".py",
   "mimetype": "text/x-python",
   "name": "python",
   "nbconvert_exporter": "python",
   "pygments_lexer": "ipython3",
   "version": "3.9.13"
  }
 },
 "nbformat": 4,
 "nbformat_minor": 5
}
